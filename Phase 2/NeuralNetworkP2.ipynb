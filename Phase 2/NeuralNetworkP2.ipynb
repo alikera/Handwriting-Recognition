{
  "cells": [
    {
      "cell_type": "markdown",
      "metadata": {
        "id": "MuTs6EXugPZN"
      },
      "source": [
        "# Ali Keramati\n",
        "## CA 5 Phase 2"
      ]
    },
    {
      "cell_type": "markdown",
      "metadata": {
        "id": "J_KKfwUIF2z1"
      },
      "source": [
        "# Description\n",
        "In this project, we intend to investigate some issues related to neural networks with the TensorFlow library and using the Keras high-level interface. Actually, we intend to use neural networks to recognize the English alphabet based on their image."
      ]
    },
    {
      "cell_type": "markdown",
      "metadata": {
        "id": "JjsLjdOcGuc_"
      },
      "source": [
        "# Introducing the data set\n",
        "Alphabets Handwritten Z-A Database is a collection of handwritten images of the English alphabet. This dataset contains 450,372 images with their corresponding labels."
      ]
    },
    {
      "cell_type": "markdown",
      "metadata": {
        "id": "f6yIxr96G5e_"
      },
      "source": [
        "# Goal"
      ]
    },
    {
      "cell_type": "markdown",
      "metadata": {
        "id": "i-iZfXJ9P0XK"
      },
      "source": [
        "The aim of this project is to become more familiar with the Keras and TensorFlow libraries in order to create a neural network model for predicting the type of letters of an alphabet in an image."
      ]
    },
    {
      "cell_type": "code",
      "execution_count": null,
      "metadata": {
        "colab": {
          "base_uri": "https://localhost:8080/"
        },
        "id": "fT6C5-uzTrxy",
        "outputId": "98782a58-9e8d-434e-81a2-648dc0982401"
      },
      "outputs": [
        {
          "name": "stdout",
          "output_type": "stream",
          "text": [
            "Mounted at /content/drive\n"
          ]
        }
      ],
      "source": [
        "from google.colab import drive\n",
        "drive.mount('/content/drive')"
      ]
    },
    {
      "cell_type": "code",
      "execution_count": null,
      "metadata": {
        "id": "G7TDIV5fU6rg"
      },
      "outputs": [],
      "source": [
        "import pandas as pd\n",
        "import matplotlib.pyplot as plt\n",
        "import numpy as np\n",
        "import string\n",
        "from sklearn.model_selection import train_test_split\n",
        "from keras.preprocessing.image import ImageDataGenerator\n",
        "from tensorflow import keras\n",
        "import tensorflow as tf\n",
        "from sklearn.metrics import classification_report"
      ]
    },
    {
      "cell_type": "markdown",
      "metadata": {
        "id": "z3l0Tthnu_HL"
      },
      "source": [
        "# Phase 0: preprocess\n"
      ]
    },
    {
      "cell_type": "markdown",
      "metadata": {
        "id": "JqrKm6IAvJTT"
      },
      "source": [
        "### 1. read csv"
      ]
    },
    {
      "cell_type": "code",
      "execution_count": null,
      "metadata": {
        "colab": {
          "base_uri": "https://localhost:8080/",
          "height": 299
        },
        "id": "kkjrxTFdU-vU",
        "outputId": "62e09860-3d3b-43af-8fcd-862a4feae015"
      },
      "outputs": [
        {
          "data": {
            "text/html": [
              "\n",
              "  <div id=\"df-7ab543c5-49d7-4e17-8cdc-36a3ae5cfaef\">\n",
              "    <div class=\"colab-df-container\">\n",
              "      <div>\n",
              "<style scoped>\n",
              "    .dataframe tbody tr th:only-of-type {\n",
              "        vertical-align: middle;\n",
              "    }\n",
              "\n",
              "    .dataframe tbody tr th {\n",
              "        vertical-align: top;\n",
              "    }\n",
              "\n",
              "    .dataframe thead th {\n",
              "        text-align: right;\n",
              "    }\n",
              "</style>\n",
              "<table border=\"1\" class=\"dataframe\">\n",
              "  <thead>\n",
              "    <tr style=\"text-align: right;\">\n",
              "      <th></th>\n",
              "      <th>0</th>\n",
              "      <th>0.1</th>\n",
              "      <th>0.2</th>\n",
              "      <th>0.3</th>\n",
              "      <th>0.4</th>\n",
              "      <th>0.5</th>\n",
              "      <th>0.6</th>\n",
              "      <th>0.7</th>\n",
              "      <th>0.8</th>\n",
              "      <th>0.9</th>\n",
              "      <th>...</th>\n",
              "      <th>0.639</th>\n",
              "      <th>0.640</th>\n",
              "      <th>0.641</th>\n",
              "      <th>0.642</th>\n",
              "      <th>0.643</th>\n",
              "      <th>0.644</th>\n",
              "      <th>0.645</th>\n",
              "      <th>0.646</th>\n",
              "      <th>0.647</th>\n",
              "      <th>0.648</th>\n",
              "    </tr>\n",
              "  </thead>\n",
              "  <tbody>\n",
              "    <tr>\n",
              "      <th>0</th>\n",
              "      <td>0</td>\n",
              "      <td>0</td>\n",
              "      <td>0</td>\n",
              "      <td>0</td>\n",
              "      <td>0</td>\n",
              "      <td>0</td>\n",
              "      <td>0</td>\n",
              "      <td>0</td>\n",
              "      <td>0</td>\n",
              "      <td>0</td>\n",
              "      <td>...</td>\n",
              "      <td>0</td>\n",
              "      <td>0</td>\n",
              "      <td>0</td>\n",
              "      <td>0</td>\n",
              "      <td>0</td>\n",
              "      <td>0</td>\n",
              "      <td>0</td>\n",
              "      <td>0</td>\n",
              "      <td>0</td>\n",
              "      <td>0</td>\n",
              "    </tr>\n",
              "    <tr>\n",
              "      <th>1</th>\n",
              "      <td>0</td>\n",
              "      <td>0</td>\n",
              "      <td>0</td>\n",
              "      <td>0</td>\n",
              "      <td>0</td>\n",
              "      <td>0</td>\n",
              "      <td>0</td>\n",
              "      <td>0</td>\n",
              "      <td>0</td>\n",
              "      <td>0</td>\n",
              "      <td>...</td>\n",
              "      <td>0</td>\n",
              "      <td>0</td>\n",
              "      <td>0</td>\n",
              "      <td>0</td>\n",
              "      <td>0</td>\n",
              "      <td>0</td>\n",
              "      <td>0</td>\n",
              "      <td>0</td>\n",
              "      <td>0</td>\n",
              "      <td>0</td>\n",
              "    </tr>\n",
              "    <tr>\n",
              "      <th>2</th>\n",
              "      <td>0</td>\n",
              "      <td>0</td>\n",
              "      <td>0</td>\n",
              "      <td>0</td>\n",
              "      <td>0</td>\n",
              "      <td>0</td>\n",
              "      <td>0</td>\n",
              "      <td>0</td>\n",
              "      <td>0</td>\n",
              "      <td>0</td>\n",
              "      <td>...</td>\n",
              "      <td>0</td>\n",
              "      <td>0</td>\n",
              "      <td>0</td>\n",
              "      <td>0</td>\n",
              "      <td>0</td>\n",
              "      <td>0</td>\n",
              "      <td>0</td>\n",
              "      <td>0</td>\n",
              "      <td>0</td>\n",
              "      <td>0</td>\n",
              "    </tr>\n",
              "    <tr>\n",
              "      <th>3</th>\n",
              "      <td>0</td>\n",
              "      <td>0</td>\n",
              "      <td>0</td>\n",
              "      <td>0</td>\n",
              "      <td>0</td>\n",
              "      <td>0</td>\n",
              "      <td>0</td>\n",
              "      <td>0</td>\n",
              "      <td>0</td>\n",
              "      <td>0</td>\n",
              "      <td>...</td>\n",
              "      <td>0</td>\n",
              "      <td>0</td>\n",
              "      <td>0</td>\n",
              "      <td>0</td>\n",
              "      <td>0</td>\n",
              "      <td>0</td>\n",
              "      <td>0</td>\n",
              "      <td>0</td>\n",
              "      <td>0</td>\n",
              "      <td>0</td>\n",
              "    </tr>\n",
              "    <tr>\n",
              "      <th>4</th>\n",
              "      <td>0</td>\n",
              "      <td>0</td>\n",
              "      <td>0</td>\n",
              "      <td>0</td>\n",
              "      <td>0</td>\n",
              "      <td>0</td>\n",
              "      <td>0</td>\n",
              "      <td>0</td>\n",
              "      <td>0</td>\n",
              "      <td>0</td>\n",
              "      <td>...</td>\n",
              "      <td>0</td>\n",
              "      <td>0</td>\n",
              "      <td>0</td>\n",
              "      <td>0</td>\n",
              "      <td>0</td>\n",
              "      <td>0</td>\n",
              "      <td>0</td>\n",
              "      <td>0</td>\n",
              "      <td>0</td>\n",
              "      <td>0</td>\n",
              "    </tr>\n",
              "  </tbody>\n",
              "</table>\n",
              "<p>5 rows × 785 columns</p>\n",
              "</div>\n",
              "      <button class=\"colab-df-convert\" onclick=\"convertToInteractive('df-7ab543c5-49d7-4e17-8cdc-36a3ae5cfaef')\"\n",
              "              title=\"Convert this dataframe to an interactive table.\"\n",
              "              style=\"display:none;\">\n",
              "        \n",
              "  <svg xmlns=\"http://www.w3.org/2000/svg\" height=\"24px\"viewBox=\"0 0 24 24\"\n",
              "       width=\"24px\">\n",
              "    <path d=\"M0 0h24v24H0V0z\" fill=\"none\"/>\n",
              "    <path d=\"M18.56 5.44l.94 2.06.94-2.06 2.06-.94-2.06-.94-.94-2.06-.94 2.06-2.06.94zm-11 1L8.5 8.5l.94-2.06 2.06-.94-2.06-.94L8.5 2.5l-.94 2.06-2.06.94zm10 10l.94 2.06.94-2.06 2.06-.94-2.06-.94-.94-2.06-.94 2.06-2.06.94z\"/><path d=\"M17.41 7.96l-1.37-1.37c-.4-.4-.92-.59-1.43-.59-.52 0-1.04.2-1.43.59L10.3 9.45l-7.72 7.72c-.78.78-.78 2.05 0 2.83L4 21.41c.39.39.9.59 1.41.59.51 0 1.02-.2 1.41-.59l7.78-7.78 2.81-2.81c.8-.78.8-2.07 0-2.86zM5.41 20L4 18.59l7.72-7.72 1.47 1.35L5.41 20z\"/>\n",
              "  </svg>\n",
              "      </button>\n",
              "      \n",
              "  <style>\n",
              "    .colab-df-container {\n",
              "      display:flex;\n",
              "      flex-wrap:wrap;\n",
              "      gap: 12px;\n",
              "    }\n",
              "\n",
              "    .colab-df-convert {\n",
              "      background-color: #E8F0FE;\n",
              "      border: none;\n",
              "      border-radius: 50%;\n",
              "      cursor: pointer;\n",
              "      display: none;\n",
              "      fill: #1967D2;\n",
              "      height: 32px;\n",
              "      padding: 0 0 0 0;\n",
              "      width: 32px;\n",
              "    }\n",
              "\n",
              "    .colab-df-convert:hover {\n",
              "      background-color: #E2EBFA;\n",
              "      box-shadow: 0px 1px 2px rgba(60, 64, 67, 0.3), 0px 1px 3px 1px rgba(60, 64, 67, 0.15);\n",
              "      fill: #174EA6;\n",
              "    }\n",
              "\n",
              "    [theme=dark] .colab-df-convert {\n",
              "      background-color: #3B4455;\n",
              "      fill: #D2E3FC;\n",
              "    }\n",
              "\n",
              "    [theme=dark] .colab-df-convert:hover {\n",
              "      background-color: #434B5C;\n",
              "      box-shadow: 0px 1px 3px 1px rgba(0, 0, 0, 0.15);\n",
              "      filter: drop-shadow(0px 1px 2px rgba(0, 0, 0, 0.3));\n",
              "      fill: #FFFFFF;\n",
              "    }\n",
              "  </style>\n",
              "\n",
              "      <script>\n",
              "        const buttonEl =\n",
              "          document.querySelector('#df-7ab543c5-49d7-4e17-8cdc-36a3ae5cfaef button.colab-df-convert');\n",
              "        buttonEl.style.display =\n",
              "          google.colab.kernel.accessAllowed ? 'block' : 'none';\n",
              "\n",
              "        async function convertToInteractive(key) {\n",
              "          const element = document.querySelector('#df-7ab543c5-49d7-4e17-8cdc-36a3ae5cfaef');\n",
              "          const dataTable =\n",
              "            await google.colab.kernel.invokeFunction('convertToInteractive',\n",
              "                                                     [key], {});\n",
              "          if (!dataTable) return;\n",
              "\n",
              "          const docLinkHtml = 'Like what you see? Visit the ' +\n",
              "            '<a target=\"_blank\" href=https://colab.research.google.com/notebooks/data_table.ipynb>data table notebook</a>'\n",
              "            + ' to learn more about interactive tables.';\n",
              "          element.innerHTML = '';\n",
              "          dataTable['output_type'] = 'display_data';\n",
              "          await google.colab.output.renderOutput(dataTable, element);\n",
              "          const docLink = document.createElement('div');\n",
              "          docLink.innerHTML = docLinkHtml;\n",
              "          element.appendChild(docLink);\n",
              "        }\n",
              "      </script>\n",
              "    </div>\n",
              "  </div>\n",
              "  "
            ],
            "text/plain": [
              "   0  0.1  0.2  0.3  0.4  0.5  0.6  0.7  0.8  0.9  ...  0.639  0.640  0.641  \\\n",
              "0  0    0    0    0    0    0    0    0    0    0  ...      0      0      0   \n",
              "1  0    0    0    0    0    0    0    0    0    0  ...      0      0      0   \n",
              "2  0    0    0    0    0    0    0    0    0    0  ...      0      0      0   \n",
              "3  0    0    0    0    0    0    0    0    0    0  ...      0      0      0   \n",
              "4  0    0    0    0    0    0    0    0    0    0  ...      0      0      0   \n",
              "\n",
              "   0.642  0.643  0.644  0.645  0.646  0.647  0.648  \n",
              "0      0      0      0      0      0      0      0  \n",
              "1      0      0      0      0      0      0      0  \n",
              "2      0      0      0      0      0      0      0  \n",
              "3      0      0      0      0      0      0      0  \n",
              "4      0      0      0      0      0      0      0  \n",
              "\n",
              "[5 rows x 785 columns]"
            ]
          },
          "execution_count": 4,
          "metadata": {},
          "output_type": "execute_result"
        }
      ],
      "source": [
        "df = pd.read_csv(\"/content/drive/MyDrive/AI_CA5/A_Z Handwritten Data.csv\", dtype=\"uint8\")\n",
        "df.head()"
      ]
    },
    {
      "cell_type": "markdown",
      "metadata": {
        "id": "vDl7lQz9vfuI"
      },
      "source": [
        "### 2. split labels and data"
      ]
    },
    {
      "cell_type": "code",
      "execution_count": null,
      "metadata": {
        "id": "5txWiq7rVfSL"
      },
      "outputs": [],
      "source": [
        "label_df = pd.DataFrame(df['0'])"
      ]
    },
    {
      "cell_type": "code",
      "execution_count": null,
      "metadata": {
        "id": "lUVR-9gRX4sg"
      },
      "outputs": [],
      "source": [
        "data_df = pd.DataFrame()\n",
        "data_df = df.iloc[:, 1:]"
      ]
    },
    {
      "cell_type": "markdown",
      "metadata": {
        "id": "xJ4zQqnNvqlk"
      },
      "source": [
        "### 3. reshape 28*28"
      ]
    },
    {
      "cell_type": "code",
      "execution_count": null,
      "metadata": {
        "colab": {
          "base_uri": "https://localhost:8080/",
          "height": 265
        },
        "id": "Cq7dWkHiZEv6",
        "outputId": "d17e8957-0e5c-4ad6-eee5-a311ccc597aa"
      },
      "outputs": [
        {
          "data": {
            "image/png": "[encoded data removed]",
            "text/plain": [
              "<Figure size 432x288 with 1 Axes>"
            ]
          },
          "metadata": {},
          "output_type": "display_data"
        }
      ],
      "source": [
        "new_data = []\n",
        "for index, row in data_df.iterrows():\n",
        "    image = np.reshape(np.array(row), (28,28))\n",
        "    new_data.append(image / 255)\n",
        "\n",
        "plt.imshow(new_data[0], cmap='gray', interpolation='nearest')\n",
        "plt.show()"
      ]
    },
    {
      "cell_type": "markdown",
      "metadata": {
        "id": "IfyYFWgAvycn"
      },
      "source": [
        "### 4. number of datas and classes"
      ]
    },
    {
      "cell_type": "code",
      "execution_count": null,
      "metadata": {
        "colab": {
          "base_uri": "https://localhost:8080/"
        },
        "id": "OF2_p7q8iqAK",
        "outputId": "aa9685d6-9357-42c8-c0fd-14a4c0ed8027"
      },
      "outputs": [
        {
          "name": "stdout",
          "output_type": "stream",
          "text": [
            "number of data:  372450\n"
          ]
        }
      ],
      "source": [
        "print(\"number of data: \", len(data_df))"
      ]
    },
    {
      "cell_type": "code",
      "execution_count": null,
      "metadata": {
        "colab": {
          "base_uri": "https://localhost:8080/"
        },
        "id": "wjoEhol6jWAK",
        "outputId": "f19bc0c1-ceee-4ea6-9c79-7b552e2d9499"
      },
      "outputs": [
        {
          "name": "stdout",
          "output_type": "stream",
          "text": [
            "number of classes:  26\n"
          ]
        }
      ],
      "source": [
        "n_classes = len(pd.unique(label_df['0']))\n",
        "print(\"number of classes: \", n_classes)"
      ]
    },
    {
      "cell_type": "markdown",
      "metadata": {
        "id": "5LFsjSG3wH_5"
      },
      "source": [
        "### 5. number of images in each class"
      ]
    },
    {
      "cell_type": "code",
      "execution_count": null,
      "metadata": {
        "id": "Iiz77fN7lIEY"
      },
      "outputs": [],
      "source": [
        "labels_count = label_df.value_counts().sort_index()"
      ]
    },
    {
      "cell_type": "code",
      "execution_count": null,
      "metadata": {
        "colab": {
          "base_uri": "https://localhost:8080/"
        },
        "id": "5DdO5L2mtw5V",
        "outputId": "892a9001-bc80-423d-d34c-6c77d3d95996"
      },
      "outputs": [
        {
          "name": "stdout",
          "output_type": "stream",
          "text": [
            "a 13869\n",
            "b 8668\n",
            "c 23409\n",
            "d 10134\n",
            "e 11440\n",
            "f 1163\n",
            "g 5762\n",
            "h 7218\n",
            "i 1120\n",
            "j 8493\n",
            "k 5603\n",
            "l 11586\n",
            "m 12336\n",
            "n 19010\n",
            "o 57825\n",
            "p 19341\n",
            "q 5812\n",
            "r 11566\n",
            "s 48419\n",
            "t 22495\n",
            "u 29008\n",
            "v 4182\n",
            "w 10784\n",
            "x 6272\n",
            "y 10859\n",
            "z 6076\n"
          ]
        }
      ],
      "source": [
        "class_names = list(string.ascii_lowercase)\n",
        "counter = 0\n",
        "for count in labels_count:\n",
        "  print(class_names[counter], count)\n",
        "  counter += 1"
      ]
    },
    {
      "cell_type": "code",
      "execution_count": null,
      "metadata": {
        "colab": {
          "base_uri": "https://localhost:8080/",
          "height": 281
        },
        "id": "jxVz6tLJmG6W",
        "outputId": "765f9736-f921-4c22-bac5-fa61c9fa1672"
      },
      "outputs": [
        {
          "data": {
            "image/png": "[encoded data removed]",
            "text/plain": [
              "<Figure size 432x288 with 1 Axes>"
            ]
          },
          "metadata": {},
          "output_type": "display_data"
        }
      ],
      "source": [
        "plt.bar(class_names, labels_count)\n",
        "plt.xlabel('Class')\n",
        "plt.ylabel('Frequency')\n",
        "plt.show()"
      ]
    },
    {
      "cell_type": "markdown",
      "metadata": {
        "id": "Wop7nyboxMJO"
      },
      "source": [
        "### 6. show image in each class"
      ]
    },
    {
      "cell_type": "code",
      "execution_count": null,
      "metadata": {
        "colab": {
          "base_uri": "https://localhost:8080/",
          "height": 423
        },
        "id": "zt46IgXIym28",
        "outputId": "7f1f18f1-61a8-4755-b71f-4a590fcea0a1"
      },
      "outputs": [
        {
          "data": {
            "text/html": [
              "\n",
              "  <div id=\"df-b5b9f2da-f2d1-495a-a868-f04e0ebedda0\">\n",
              "    <div class=\"colab-df-container\">\n",
              "      <div>\n",
              "<style scoped>\n",
              "    .dataframe tbody tr th:only-of-type {\n",
              "        vertical-align: middle;\n",
              "    }\n",
              "\n",
              "    .dataframe tbody tr th {\n",
              "        vertical-align: top;\n",
              "    }\n",
              "\n",
              "    .dataframe thead th {\n",
              "        text-align: right;\n",
              "    }\n",
              "</style>\n",
              "<table border=\"1\" class=\"dataframe\">\n",
              "  <thead>\n",
              "    <tr style=\"text-align: right;\">\n",
              "      <th></th>\n",
              "      <th>0</th>\n",
              "    </tr>\n",
              "  </thead>\n",
              "  <tbody>\n",
              "    <tr>\n",
              "      <th>0</th>\n",
              "      <td>0</td>\n",
              "    </tr>\n",
              "    <tr>\n",
              "      <th>1</th>\n",
              "      <td>0</td>\n",
              "    </tr>\n",
              "    <tr>\n",
              "      <th>2</th>\n",
              "      <td>0</td>\n",
              "    </tr>\n",
              "    <tr>\n",
              "      <th>3</th>\n",
              "      <td>0</td>\n",
              "    </tr>\n",
              "    <tr>\n",
              "      <th>4</th>\n",
              "      <td>0</td>\n",
              "    </tr>\n",
              "    <tr>\n",
              "      <th>...</th>\n",
              "      <td>...</td>\n",
              "    </tr>\n",
              "    <tr>\n",
              "      <th>372445</th>\n",
              "      <td>25</td>\n",
              "    </tr>\n",
              "    <tr>\n",
              "      <th>372446</th>\n",
              "      <td>25</td>\n",
              "    </tr>\n",
              "    <tr>\n",
              "      <th>372447</th>\n",
              "      <td>25</td>\n",
              "    </tr>\n",
              "    <tr>\n",
              "      <th>372448</th>\n",
              "      <td>25</td>\n",
              "    </tr>\n",
              "    <tr>\n",
              "      <th>372449</th>\n",
              "      <td>25</td>\n",
              "    </tr>\n",
              "  </tbody>\n",
              "</table>\n",
              "<p>372450 rows × 1 columns</p>\n",
              "</div>\n",
              "      <button class=\"colab-df-convert\" onclick=\"convertToInteractive('df-b5b9f2da-f2d1-495a-a868-f04e0ebedda0')\"\n",
              "              title=\"Convert this dataframe to an interactive table.\"\n",
              "              style=\"display:none;\">\n",
              "        \n",
              "  <svg xmlns=\"http://www.w3.org/2000/svg\" height=\"24px\"viewBox=\"0 0 24 24\"\n",
              "       width=\"24px\">\n",
              "    <path d=\"M0 0h24v24H0V0z\" fill=\"none\"/>\n",
              "    <path d=\"M18.56 5.44l.94 2.06.94-2.06 2.06-.94-2.06-.94-.94-2.06-.94 2.06-2.06.94zm-11 1L8.5 8.5l.94-2.06 2.06-.94-2.06-.94L8.5 2.5l-.94 2.06-2.06.94zm10 10l.94 2.06.94-2.06 2.06-.94-2.06-.94-.94-2.06-.94 2.06-2.06.94z\"/><path d=\"M17.41 7.96l-1.37-1.37c-.4-.4-.92-.59-1.43-.59-.52 0-1.04.2-1.43.59L10.3 9.45l-7.72 7.72c-.78.78-.78 2.05 0 2.83L4 21.41c.39.39.9.59 1.41.59.51 0 1.02-.2 1.41-.59l7.78-7.78 2.81-2.81c.8-.78.8-2.07 0-2.86zM5.41 20L4 18.59l7.72-7.72 1.47 1.35L5.41 20z\"/>\n",
              "  </svg>\n",
              "      </button>\n",
              "      \n",
              "  <style>\n",
              "    .colab-df-container {\n",
              "      display:flex;\n",
              "      flex-wrap:wrap;\n",
              "      gap: 12px;\n",
              "    }\n",
              "\n",
              "    .colab-df-convert {\n",
              "      background-color: #E8F0FE;\n",
              "      border: none;\n",
              "      border-radius: 50%;\n",
              "      cursor: pointer;\n",
              "      display: none;\n",
              "      fill: #1967D2;\n",
              "      height: 32px;\n",
              "      padding: 0 0 0 0;\n",
              "      width: 32px;\n",
              "    }\n",
              "\n",
              "    .colab-df-convert:hover {\n",
              "      background-color: #E2EBFA;\n",
              "      box-shadow: 0px 1px 2px rgba(60, 64, 67, 0.3), 0px 1px 3px 1px rgba(60, 64, 67, 0.15);\n",
              "      fill: #174EA6;\n",
              "    }\n",
              "\n",
              "    [theme=dark] .colab-df-convert {\n",
              "      background-color: #3B4455;\n",
              "      fill: #D2E3FC;\n",
              "    }\n",
              "\n",
              "    [theme=dark] .colab-df-convert:hover {\n",
              "      background-color: #434B5C;\n",
              "      box-shadow: 0px 1px 3px 1px rgba(0, 0, 0, 0.15);\n",
              "      filter: drop-shadow(0px 1px 2px rgba(0, 0, 0, 0.3));\n",
              "      fill: #FFFFFF;\n",
              "    }\n",
              "  </style>\n",
              "\n",
              "      <script>\n",
              "        const buttonEl =\n",
              "          document.querySelector('#df-b5b9f2da-f2d1-495a-a868-f04e0ebedda0 button.colab-df-convert');\n",
              "        buttonEl.style.display =\n",
              "          google.colab.kernel.accessAllowed ? 'block' : 'none';\n",
              "\n",
              "        async function convertToInteractive(key) {\n",
              "          const element = document.querySelector('#df-b5b9f2da-f2d1-495a-a868-f04e0ebedda0');\n",
              "          const dataTable =\n",
              "            await google.colab.kernel.invokeFunction('convertToInteractive',\n",
              "                                                     [key], {});\n",
              "          if (!dataTable) return;\n",
              "\n",
              "          const docLinkHtml = 'Like what you see? Visit the ' +\n",
              "            '<a target=\"_blank\" href=https://colab.research.google.com/notebooks/data_table.ipynb>data table notebook</a>'\n",
              "            + ' to learn more about interactive tables.';\n",
              "          element.innerHTML = '';\n",
              "          dataTable['output_type'] = 'display_data';\n",
              "          await google.colab.output.renderOutput(dataTable, element);\n",
              "          const docLink = document.createElement('div');\n",
              "          docLink.innerHTML = docLinkHtml;\n",
              "          element.appendChild(docLink);\n",
              "        }\n",
              "      </script>\n",
              "    </div>\n",
              "  </div>\n",
              "  "
            ],
            "text/plain": [
              "         0\n",
              "0        0\n",
              "1        0\n",
              "2        0\n",
              "3        0\n",
              "4        0\n",
              "...     ..\n",
              "372445  25\n",
              "372446  25\n",
              "372447  25\n",
              "372448  25\n",
              "372449  25\n",
              "\n",
              "[372450 rows x 1 columns]"
            ]
          },
          "execution_count": 13,
          "metadata": {},
          "output_type": "execute_result"
        }
      ],
      "source": [
        "label_df"
      ]
    },
    {
      "cell_type": "code",
      "execution_count": null,
      "metadata": {
        "colab": {
          "base_uri": "https://localhost:8080/",
          "height": 1000
        },
        "id": "xO3mGAdYwVvG",
        "outputId": "cfa3c485-db81-4e4d-b7bb-b44c8b09de9f"
      },
      "outputs": [
        {
          "data": {
            "image/png": "[encoded data removed]",
            "text/plain": [
              "<Figure size 432x288 with 1 Axes>"
            ]
          },
          "metadata": {},
          "output_type": "display_data"
        },
        {
          "data": {
            "image/png": "[encoded data removed]",
            "text/plain": [
              "<Figure size 432x288 with 1 Axes>"
            ]
          },
          "metadata": {},
          "output_type": "display_data"
        },
        {
          "data": {
            "image/png": "[encoded data removed]",
            "text/plain": [
              "<Figure size 432x288 with 1 Axes>"
            ]
          },
          "metadata": {},
          "output_type": "display_data"
        },
        {
          "data": {
            "image/png": "[encoded data removed]",
            "text/plain": [
              "<Figure size 432x288 with 1 Axes>"
            ]
          },
          "metadata": {},
          "output_type": "display_data"
        },
        {
          "data": {
            "image/png": "[encoded data removed]",
            "text/plain": [
              "<Figure size 432x288 with 1 Axes>"
            ]
          },
          "metadata": {},
          "output_type": "display_data"
        },
        {
          "data": {
            "image/png": "[encoded data removed]",
            "text/plain": [
              "<Figure size 432x288 with 1 Axes>"
            ]
          },
          "metadata": {},
          "output_type": "display_data"
        },
        {
          "data": {
            "image/png": "[encoded data removed]",
            "text/plain": [
              "<Figure size 432x288 with 1 Axes>"
            ]
          },
          "metadata": {},
          "output_type": "display_data"
        },
        {
          "data": {
            "image/png": "[encoded data removed]",
            "text/plain": [
              "<Figure size 432x288 with 1 Axes>"
            ]
          },
          "metadata": {},
          "output_type": "display_data"
        },
        {
          "data": {
            "image/png": "[encoded data removed]",
            "text/plain": [
              "<Figure size 432x288 with 1 Axes>"
            ]
          },
          "metadata": {},
          "output_type": "display_data"
        },
        {
          "data": {
            "image/png": "[encoded data removed]",
            "text/plain": [
              "<Figure size 432x288 with 1 Axes>"
            ]
          },
          "metadata": {},
          "output_type": "display_data"
        },
        {
          "data": {
            "image/png": "[encoded data removed]",
            "text/plain": [
              "<Figure size 432x288 with 1 Axes>"
            ]
          },
          "metadata": {},
          "output_type": "display_data"
        },
        {
          "data": {
            "image/png": "[encoded data removed]",
            "text/plain": [
              "<Figure size 432x288 with 1 Axes>"
            ]
          },
          "metadata": {},
          "output_type": "display_data"
        },
        {
          "data": {
            "image/png": "[encoded data removed]",
            "text/plain": [
              "<Figure size 432x288 with 1 Axes>"
            ]
          },
          "metadata": {},
          "output_type": "display_data"
        },
        {
          "data": {
            "image/png": "[encoded data removed]",
            "text/plain": [
              "<Figure size 432x288 with 1 Axes>"
            ]
          },
          "metadata": {},
          "output_type": "display_data"
        },
        {
          "data": {
            "image/png": "[encoded data removed]",
            "text/plain": [
              "<Figure size 432x288 with 1 Axes>"
            ]
          },
          "metadata": {},
          "output_type": "display_data"
        },
        {
          "data": {
            "image/png": "[encoded data removed]",
            "text/plain": [
              "<Figure size 432x288 with 1 Axes>"
            ]
          },
          "metadata": {},
          "output_type": "display_data"
        },
        {
          "data": {
            "image/png": "[encoded data removed]",
            "text/plain": [
              "<Figure size 432x288 with 1 Axes>"
            ]
          },
          "metadata": {},
          "output_type": "display_data"
        },
        {
          "data": {
            "image/png": "[encoded data removed]",
            "text/plain": [
              "<Figure size 432x288 with 1 Axes>"
            ]
          },
          "metadata": {},
          "output_type": "display_data"
        },
        {
          "data": {
            "image/png": "[encoded data removed]",
            "text/plain": [
              "<Figure size 432x288 with 1 Axes>"
            ]
          },
          "metadata": {},
          "output_type": "display_data"
        },
        {
          "data": {
            "image/png": "[encoded data removed]",
            "text/plain": [
              "<Figure size 432x288 with 1 Axes>"
            ]
          },
          "metadata": {},
          "output_type": "display_data"
        },
        {
          "data": {
            "image/png": "[encoded data removed]",
            "text/plain": [
              "<Figure size 432x288 with 1 Axes>"
            ]
          },
          "metadata": {},
          "output_type": "display_data"
        },
        {
          "data": {
            "image/png": "[encoded data removed]",
            "text/plain": [
              "<Figure size 432x288 with 1 Axes>"
            ]
          },
          "metadata": {},
          "output_type": "display_data"
        },
        {
          "data": {
            "image/png": "[encoded data removed]",
            "text/plain": [
              "<Figure size 432x288 with 1 Axes>"
            ]
          },
          "metadata": {},
          "output_type": "display_data"
        },
        {
          "data": {
            "image/png": "[encoded data removed]",
            "text/plain": [
              "<Figure size 432x288 with 1 Axes>"
            ]
          },
          "metadata": {},
          "output_type": "display_data"
        },
        {
          "data": {
            "image/png": "[encoded data removed]",
            "text/plain": [
              "<Figure size 432x288 with 1 Axes>"
            ]
          },
          "metadata": {},
          "output_type": "display_data"
        },
        {
          "data": {
            "image/png": "[encoded data removed]",
            "text/plain": [
              "<Figure size 432x288 with 1 Axes>"
            ]
          },
          "metadata": {},
          "output_type": "display_data"
        }
      ],
      "source": [
        "for i in range(0, 26):\n",
        "    # df.index[label_df == ].tolist()\n",
        "    curr_class = new_data[df.index[label_df['0'] == i].tolist()[0]]\n",
        "    plt.imshow(curr_class, cmap='gray', interpolation='nearest')\n",
        "    plt.title(class_names[i])\n",
        "    plt.show()"
      ]
    },
    {
      "cell_type": "markdown",
      "metadata": {
        "id": "j0zS8YZfzlgJ"
      },
      "source": [
        "### 7. split data into train and test"
      ]
    },
    {
      "cell_type": "code",
      "execution_count": null,
      "metadata": {
        "id": "_ngMgCSfzxr4"
      },
      "outputs": [],
      "source": [
        "train, test = train_test_split(data_df, random_state=42, test_size=0.25)"
      ]
    },
    {
      "cell_type": "markdown",
      "metadata": {
        "id": "DOXYDQNg0Uwe"
      },
      "source": [
        "### 8. one hot encoding"
      ]
    },
    {
      "cell_type": "markdown",
      "metadata": {
        "id": "x4TjinLk4DxR"
      },
      "source": [
        "As seen above, labels are one hot encoded in each iteration. We should prefer using the one hot encoding method, because the categorical labels(alphabets) present in the dataset are not ordinal. Other encoding methods like Label Encoding, encode labels with an ordinal ranking, in other words, they will read a higher number as better or more important than a lower number, this can lead to issues with predictions and poor performance.\n",
        "Additionally, we must also one hot encode the target variable so that we can develop a model that predicts the probability of a datapoint belonging to each class."
      ]
    },
    {
      "cell_type": "code",
      "execution_count": null,
      "metadata": {
        "colab": {
          "base_uri": "https://localhost:8080/",
          "height": 487
        },
        "id": "y7pBTN0o0UJr",
        "outputId": "7b21abe7-f24e-4585-d3b4-f19749c1af72"
      },
      "outputs": [
        {
          "data": {
            "text/html": [
              "\n",
              "  <div id=\"df-bbb2c17c-8e51-4454-a1e8-0a8798077e23\">\n",
              "    <div class=\"colab-df-container\">\n",
              "      <div>\n",
              "<style scoped>\n",
              "    .dataframe tbody tr th:only-of-type {\n",
              "        vertical-align: middle;\n",
              "    }\n",
              "\n",
              "    .dataframe tbody tr th {\n",
              "        vertical-align: top;\n",
              "    }\n",
              "\n",
              "    .dataframe thead th {\n",
              "        text-align: right;\n",
              "    }\n",
              "</style>\n",
              "<table border=\"1\" class=\"dataframe\">\n",
              "  <thead>\n",
              "    <tr style=\"text-align: right;\">\n",
              "      <th></th>\n",
              "      <th>0_0</th>\n",
              "      <th>0_1</th>\n",
              "      <th>0_2</th>\n",
              "      <th>0_3</th>\n",
              "      <th>0_4</th>\n",
              "      <th>0_5</th>\n",
              "      <th>0_6</th>\n",
              "      <th>0_7</th>\n",
              "      <th>0_8</th>\n",
              "      <th>0_9</th>\n",
              "      <th>...</th>\n",
              "      <th>0_16</th>\n",
              "      <th>0_17</th>\n",
              "      <th>0_18</th>\n",
              "      <th>0_19</th>\n",
              "      <th>0_20</th>\n",
              "      <th>0_21</th>\n",
              "      <th>0_22</th>\n",
              "      <th>0_23</th>\n",
              "      <th>0_24</th>\n",
              "      <th>0_25</th>\n",
              "    </tr>\n",
              "  </thead>\n",
              "  <tbody>\n",
              "    <tr>\n",
              "      <th>0</th>\n",
              "      <td>1</td>\n",
              "      <td>0</td>\n",
              "      <td>0</td>\n",
              "      <td>0</td>\n",
              "      <td>0</td>\n",
              "      <td>0</td>\n",
              "      <td>0</td>\n",
              "      <td>0</td>\n",
              "      <td>0</td>\n",
              "      <td>0</td>\n",
              "      <td>...</td>\n",
              "      <td>0</td>\n",
              "      <td>0</td>\n",
              "      <td>0</td>\n",
              "      <td>0</td>\n",
              "      <td>0</td>\n",
              "      <td>0</td>\n",
              "      <td>0</td>\n",
              "      <td>0</td>\n",
              "      <td>0</td>\n",
              "      <td>0</td>\n",
              "    </tr>\n",
              "    <tr>\n",
              "      <th>1</th>\n",
              "      <td>1</td>\n",
              "      <td>0</td>\n",
              "      <td>0</td>\n",
              "      <td>0</td>\n",
              "      <td>0</td>\n",
              "      <td>0</td>\n",
              "      <td>0</td>\n",
              "      <td>0</td>\n",
              "      <td>0</td>\n",
              "      <td>0</td>\n",
              "      <td>...</td>\n",
              "      <td>0</td>\n",
              "      <td>0</td>\n",
              "      <td>0</td>\n",
              "      <td>0</td>\n",
              "      <td>0</td>\n",
              "      <td>0</td>\n",
              "      <td>0</td>\n",
              "      <td>0</td>\n",
              "      <td>0</td>\n",
              "      <td>0</td>\n",
              "    </tr>\n",
              "    <tr>\n",
              "      <th>2</th>\n",
              "      <td>1</td>\n",
              "      <td>0</td>\n",
              "      <td>0</td>\n",
              "      <td>0</td>\n",
              "      <td>0</td>\n",
              "      <td>0</td>\n",
              "      <td>0</td>\n",
              "      <td>0</td>\n",
              "      <td>0</td>\n",
              "      <td>0</td>\n",
              "      <td>...</td>\n",
              "      <td>0</td>\n",
              "      <td>0</td>\n",
              "      <td>0</td>\n",
              "      <td>0</td>\n",
              "      <td>0</td>\n",
              "      <td>0</td>\n",
              "      <td>0</td>\n",
              "      <td>0</td>\n",
              "      <td>0</td>\n",
              "      <td>0</td>\n",
              "    </tr>\n",
              "    <tr>\n",
              "      <th>3</th>\n",
              "      <td>1</td>\n",
              "      <td>0</td>\n",
              "      <td>0</td>\n",
              "      <td>0</td>\n",
              "      <td>0</td>\n",
              "      <td>0</td>\n",
              "      <td>0</td>\n",
              "      <td>0</td>\n",
              "      <td>0</td>\n",
              "      <td>0</td>\n",
              "      <td>...</td>\n",
              "      <td>0</td>\n",
              "      <td>0</td>\n",
              "      <td>0</td>\n",
              "      <td>0</td>\n",
              "      <td>0</td>\n",
              "      <td>0</td>\n",
              "      <td>0</td>\n",
              "      <td>0</td>\n",
              "      <td>0</td>\n",
              "      <td>0</td>\n",
              "    </tr>\n",
              "    <tr>\n",
              "      <th>4</th>\n",
              "      <td>1</td>\n",
              "      <td>0</td>\n",
              "      <td>0</td>\n",
              "      <td>0</td>\n",
              "      <td>0</td>\n",
              "      <td>0</td>\n",
              "      <td>0</td>\n",
              "      <td>0</td>\n",
              "      <td>0</td>\n",
              "      <td>0</td>\n",
              "      <td>...</td>\n",
              "      <td>0</td>\n",
              "      <td>0</td>\n",
              "      <td>0</td>\n",
              "      <td>0</td>\n",
              "      <td>0</td>\n",
              "      <td>0</td>\n",
              "      <td>0</td>\n",
              "      <td>0</td>\n",
              "      <td>0</td>\n",
              "      <td>0</td>\n",
              "    </tr>\n",
              "    <tr>\n",
              "      <th>...</th>\n",
              "      <td>...</td>\n",
              "      <td>...</td>\n",
              "      <td>...</td>\n",
              "      <td>...</td>\n",
              "      <td>...</td>\n",
              "      <td>...</td>\n",
              "      <td>...</td>\n",
              "      <td>...</td>\n",
              "      <td>...</td>\n",
              "      <td>...</td>\n",
              "      <td>...</td>\n",
              "      <td>...</td>\n",
              "      <td>...</td>\n",
              "      <td>...</td>\n",
              "      <td>...</td>\n",
              "      <td>...</td>\n",
              "      <td>...</td>\n",
              "      <td>...</td>\n",
              "      <td>...</td>\n",
              "      <td>...</td>\n",
              "      <td>...</td>\n",
              "    </tr>\n",
              "    <tr>\n",
              "      <th>372445</th>\n",
              "      <td>0</td>\n",
              "      <td>0</td>\n",
              "      <td>0</td>\n",
              "      <td>0</td>\n",
              "      <td>0</td>\n",
              "      <td>0</td>\n",
              "      <td>0</td>\n",
              "      <td>0</td>\n",
              "      <td>0</td>\n",
              "      <td>0</td>\n",
              "      <td>...</td>\n",
              "      <td>0</td>\n",
              "      <td>0</td>\n",
              "      <td>0</td>\n",
              "      <td>0</td>\n",
              "      <td>0</td>\n",
              "      <td>0</td>\n",
              "      <td>0</td>\n",
              "      <td>0</td>\n",
              "      <td>0</td>\n",
              "      <td>1</td>\n",
              "    </tr>\n",
              "    <tr>\n",
              "      <th>372446</th>\n",
              "      <td>0</td>\n",
              "      <td>0</td>\n",
              "      <td>0</td>\n",
              "      <td>0</td>\n",
              "      <td>0</td>\n",
              "      <td>0</td>\n",
              "      <td>0</td>\n",
              "      <td>0</td>\n",
              "      <td>0</td>\n",
              "      <td>0</td>\n",
              "      <td>...</td>\n",
              "      <td>0</td>\n",
              "      <td>0</td>\n",
              "      <td>0</td>\n",
              "      <td>0</td>\n",
              "      <td>0</td>\n",
              "      <td>0</td>\n",
              "      <td>0</td>\n",
              "      <td>0</td>\n",
              "      <td>0</td>\n",
              "      <td>1</td>\n",
              "    </tr>\n",
              "    <tr>\n",
              "      <th>372447</th>\n",
              "      <td>0</td>\n",
              "      <td>0</td>\n",
              "      <td>0</td>\n",
              "      <td>0</td>\n",
              "      <td>0</td>\n",
              "      <td>0</td>\n",
              "      <td>0</td>\n",
              "      <td>0</td>\n",
              "      <td>0</td>\n",
              "      <td>0</td>\n",
              "      <td>...</td>\n",
              "      <td>0</td>\n",
              "      <td>0</td>\n",
              "      <td>0</td>\n",
              "      <td>0</td>\n",
              "      <td>0</td>\n",
              "      <td>0</td>\n",
              "      <td>0</td>\n",
              "      <td>0</td>\n",
              "      <td>0</td>\n",
              "      <td>1</td>\n",
              "    </tr>\n",
              "    <tr>\n",
              "      <th>372448</th>\n",
              "      <td>0</td>\n",
              "      <td>0</td>\n",
              "      <td>0</td>\n",
              "      <td>0</td>\n",
              "      <td>0</td>\n",
              "      <td>0</td>\n",
              "      <td>0</td>\n",
              "      <td>0</td>\n",
              "      <td>0</td>\n",
              "      <td>0</td>\n",
              "      <td>...</td>\n",
              "      <td>0</td>\n",
              "      <td>0</td>\n",
              "      <td>0</td>\n",
              "      <td>0</td>\n",
              "      <td>0</td>\n",
              "      <td>0</td>\n",
              "      <td>0</td>\n",
              "      <td>0</td>\n",
              "      <td>0</td>\n",
              "      <td>1</td>\n",
              "    </tr>\n",
              "    <tr>\n",
              "      <th>372449</th>\n",
              "      <td>0</td>\n",
              "      <td>0</td>\n",
              "      <td>0</td>\n",
              "      <td>0</td>\n",
              "      <td>0</td>\n",
              "      <td>0</td>\n",
              "      <td>0</td>\n",
              "      <td>0</td>\n",
              "      <td>0</td>\n",
              "      <td>0</td>\n",
              "      <td>...</td>\n",
              "      <td>0</td>\n",
              "      <td>0</td>\n",
              "      <td>0</td>\n",
              "      <td>0</td>\n",
              "      <td>0</td>\n",
              "      <td>0</td>\n",
              "      <td>0</td>\n",
              "      <td>0</td>\n",
              "      <td>0</td>\n",
              "      <td>1</td>\n",
              "    </tr>\n",
              "  </tbody>\n",
              "</table>\n",
              "<p>372450 rows × 26 columns</p>\n",
              "</div>\n",
              "      <button class=\"colab-df-convert\" onclick=\"convertToInteractive('df-bbb2c17c-8e51-4454-a1e8-0a8798077e23')\"\n",
              "              title=\"Convert this dataframe to an interactive table.\"\n",
              "              style=\"display:none;\">\n",
              "        \n",
              "  <svg xmlns=\"http://www.w3.org/2000/svg\" height=\"24px\"viewBox=\"0 0 24 24\"\n",
              "       width=\"24px\">\n",
              "    <path d=\"M0 0h24v24H0V0z\" fill=\"none\"/>\n",
              "    <path d=\"M18.56 5.44l.94 2.06.94-2.06 2.06-.94-2.06-.94-.94-2.06-.94 2.06-2.06.94zm-11 1L8.5 8.5l.94-2.06 2.06-.94-2.06-.94L8.5 2.5l-.94 2.06-2.06.94zm10 10l.94 2.06.94-2.06 2.06-.94-2.06-.94-.94-2.06-.94 2.06-2.06.94z\"/><path d=\"M17.41 7.96l-1.37-1.37c-.4-.4-.92-.59-1.43-.59-.52 0-1.04.2-1.43.59L10.3 9.45l-7.72 7.72c-.78.78-.78 2.05 0 2.83L4 21.41c.39.39.9.59 1.41.59.51 0 1.02-.2 1.41-.59l7.78-7.78 2.81-2.81c.8-.78.8-2.07 0-2.86zM5.41 20L4 18.59l7.72-7.72 1.47 1.35L5.41 20z\"/>\n",
              "  </svg>\n",
              "      </button>\n",
              "      \n",
              "  <style>\n",
              "    .colab-df-container {\n",
              "      display:flex;\n",
              "      flex-wrap:wrap;\n",
              "      gap: 12px;\n",
              "    }\n",
              "\n",
              "    .colab-df-convert {\n",
              "      background-color: #E8F0FE;\n",
              "      border: none;\n",
              "      border-radius: 50%;\n",
              "      cursor: pointer;\n",
              "      display: none;\n",
              "      fill: #1967D2;\n",
              "      height: 32px;\n",
              "      padding: 0 0 0 0;\n",
              "      width: 32px;\n",
              "    }\n",
              "\n",
              "    .colab-df-convert:hover {\n",
              "      background-color: #E2EBFA;\n",
              "      box-shadow: 0px 1px 2px rgba(60, 64, 67, 0.3), 0px 1px 3px 1px rgba(60, 64, 67, 0.15);\n",
              "      fill: #174EA6;\n",
              "    }\n",
              "\n",
              "    [theme=dark] .colab-df-convert {\n",
              "      background-color: #3B4455;\n",
              "      fill: #D2E3FC;\n",
              "    }\n",
              "\n",
              "    [theme=dark] .colab-df-convert:hover {\n",
              "      background-color: #434B5C;\n",
              "      box-shadow: 0px 1px 3px 1px rgba(0, 0, 0, 0.15);\n",
              "      filter: drop-shadow(0px 1px 2px rgba(0, 0, 0, 0.3));\n",
              "      fill: #FFFFFF;\n",
              "    }\n",
              "  </style>\n",
              "\n",
              "      <script>\n",
              "        const buttonEl =\n",
              "          document.querySelector('#df-bbb2c17c-8e51-4454-a1e8-0a8798077e23 button.colab-df-convert');\n",
              "        buttonEl.style.display =\n",
              "          google.colab.kernel.accessAllowed ? 'block' : 'none';\n",
              "\n",
              "        async function convertToInteractive(key) {\n",
              "          const element = document.querySelector('#df-bbb2c17c-8e51-4454-a1e8-0a8798077e23');\n",
              "          const dataTable =\n",
              "            await google.colab.kernel.invokeFunction('convertToInteractive',\n",
              "                                                     [key], {});\n",
              "          if (!dataTable) return;\n",
              "\n",
              "          const docLinkHtml = 'Like what you see? Visit the ' +\n",
              "            '<a target=\"_blank\" href=https://colab.research.google.com/notebooks/data_table.ipynb>data table notebook</a>'\n",
              "            + ' to learn more about interactive tables.';\n",
              "          element.innerHTML = '';\n",
              "          dataTable['output_type'] = 'display_data';\n",
              "          await google.colab.output.renderOutput(dataTable, element);\n",
              "          const docLink = document.createElement('div');\n",
              "          docLink.innerHTML = docLinkHtml;\n",
              "          element.appendChild(docLink);\n",
              "        }\n",
              "      </script>\n",
              "    </div>\n",
              "  </div>\n",
              "  "
            ],
            "text/plain": [
              "        0_0  0_1  0_2  0_3  0_4  0_5  0_6  0_7  0_8  0_9  ...  0_16  0_17  \\\n",
              "0         1    0    0    0    0    0    0    0    0    0  ...     0     0   \n",
              "1         1    0    0    0    0    0    0    0    0    0  ...     0     0   \n",
              "2         1    0    0    0    0    0    0    0    0    0  ...     0     0   \n",
              "3         1    0    0    0    0    0    0    0    0    0  ...     0     0   \n",
              "4         1    0    0    0    0    0    0    0    0    0  ...     0     0   \n",
              "...     ...  ...  ...  ...  ...  ...  ...  ...  ...  ...  ...   ...   ...   \n",
              "372445    0    0    0    0    0    0    0    0    0    0  ...     0     0   \n",
              "372446    0    0    0    0    0    0    0    0    0    0  ...     0     0   \n",
              "372447    0    0    0    0    0    0    0    0    0    0  ...     0     0   \n",
              "372448    0    0    0    0    0    0    0    0    0    0  ...     0     0   \n",
              "372449    0    0    0    0    0    0    0    0    0    0  ...     0     0   \n",
              "\n",
              "        0_18  0_19  0_20  0_21  0_22  0_23  0_24  0_25  \n",
              "0          0     0     0     0     0     0     0     0  \n",
              "1          0     0     0     0     0     0     0     0  \n",
              "2          0     0     0     0     0     0     0     0  \n",
              "3          0     0     0     0     0     0     0     0  \n",
              "4          0     0     0     0     0     0     0     0  \n",
              "...      ...   ...   ...   ...   ...   ...   ...   ...  \n",
              "372445     0     0     0     0     0     0     0     1  \n",
              "372446     0     0     0     0     0     0     0     1  \n",
              "372447     0     0     0     0     0     0     0     1  \n",
              "372448     0     0     0     0     0     0     0     1  \n",
              "372449     0     0     0     0     0     0     0     1  \n",
              "\n",
              "[372450 rows x 26 columns]"
            ]
          },
          "execution_count": 16,
          "metadata": {},
          "output_type": "execute_result"
        }
      ],
      "source": [
        "onehot_labels = pd.get_dummies(label_df, columns = ['0'])\n",
        "onehot_labels"
      ]
    },
    {
      "cell_type": "code",
      "execution_count": null,
      "metadata": {
        "colab": {
          "base_uri": "https://localhost:8080/"
        },
        "id": "Q57xyr9DNJ2E",
        "outputId": "f1a0ed2b-9169-429d-8174-689855872129"
      },
      "outputs": [
        {
          "data": {
            "text/plain": [
              "372450"
            ]
          },
          "execution_count": 17,
          "metadata": {},
          "output_type": "execute_result"
        }
      ],
      "source": [
        "len(new_data)"
      ]
    },
    {
      "cell_type": "code",
      "execution_count": null,
      "metadata": {
        "id": "8Z3ojL7_4HQ0"
      },
      "outputs": [],
      "source": [
        "new_df = pd.DataFrame()\n",
        "new_df['pixels'] = None"
      ]
    },
    {
      "cell_type": "code",
      "execution_count": null,
      "metadata": {
        "colab": {
          "base_uri": "https://localhost:8080/",
          "height": 487
        },
        "id": "uezz_La-MWqQ",
        "outputId": "d067fc3d-94ee-4958-82e9-024fb12e6365"
      },
      "outputs": [
        {
          "data": {
            "text/html": [
              "\n",
              "  <div id=\"df-fead024a-87dc-4765-b92a-0251584e71c5\">\n",
              "    <div class=\"colab-df-container\">\n",
              "      <div>\n",
              "<style scoped>\n",
              "    .dataframe tbody tr th:only-of-type {\n",
              "        vertical-align: middle;\n",
              "    }\n",
              "\n",
              "    .dataframe tbody tr th {\n",
              "        vertical-align: top;\n",
              "    }\n",
              "\n",
              "    .dataframe thead th {\n",
              "        text-align: right;\n",
              "    }\n",
              "</style>\n",
              "<table border=\"1\" class=\"dataframe\">\n",
              "  <thead>\n",
              "    <tr style=\"text-align: right;\">\n",
              "      <th></th>\n",
              "      <th>0_0</th>\n",
              "      <th>0_1</th>\n",
              "      <th>0_2</th>\n",
              "      <th>0_3</th>\n",
              "      <th>0_4</th>\n",
              "      <th>0_5</th>\n",
              "      <th>0_6</th>\n",
              "      <th>0_7</th>\n",
              "      <th>0_8</th>\n",
              "      <th>0_9</th>\n",
              "      <th>...</th>\n",
              "      <th>0_16</th>\n",
              "      <th>0_17</th>\n",
              "      <th>0_18</th>\n",
              "      <th>0_19</th>\n",
              "      <th>0_20</th>\n",
              "      <th>0_21</th>\n",
              "      <th>0_22</th>\n",
              "      <th>0_23</th>\n",
              "      <th>0_24</th>\n",
              "      <th>0_25</th>\n",
              "    </tr>\n",
              "  </thead>\n",
              "  <tbody>\n",
              "    <tr>\n",
              "      <th>0</th>\n",
              "      <td>1</td>\n",
              "      <td>0</td>\n",
              "      <td>0</td>\n",
              "      <td>0</td>\n",
              "      <td>0</td>\n",
              "      <td>0</td>\n",
              "      <td>0</td>\n",
              "      <td>0</td>\n",
              "      <td>0</td>\n",
              "      <td>0</td>\n",
              "      <td>...</td>\n",
              "      <td>0</td>\n",
              "      <td>0</td>\n",
              "      <td>0</td>\n",
              "      <td>0</td>\n",
              "      <td>0</td>\n",
              "      <td>0</td>\n",
              "      <td>0</td>\n",
              "      <td>0</td>\n",
              "      <td>0</td>\n",
              "      <td>0</td>\n",
              "    </tr>\n",
              "    <tr>\n",
              "      <th>1</th>\n",
              "      <td>1</td>\n",
              "      <td>0</td>\n",
              "      <td>0</td>\n",
              "      <td>0</td>\n",
              "      <td>0</td>\n",
              "      <td>0</td>\n",
              "      <td>0</td>\n",
              "      <td>0</td>\n",
              "      <td>0</td>\n",
              "      <td>0</td>\n",
              "      <td>...</td>\n",
              "      <td>0</td>\n",
              "      <td>0</td>\n",
              "      <td>0</td>\n",
              "      <td>0</td>\n",
              "      <td>0</td>\n",
              "      <td>0</td>\n",
              "      <td>0</td>\n",
              "      <td>0</td>\n",
              "      <td>0</td>\n",
              "      <td>0</td>\n",
              "    </tr>\n",
              "    <tr>\n",
              "      <th>2</th>\n",
              "      <td>1</td>\n",
              "      <td>0</td>\n",
              "      <td>0</td>\n",
              "      <td>0</td>\n",
              "      <td>0</td>\n",
              "      <td>0</td>\n",
              "      <td>0</td>\n",
              "      <td>0</td>\n",
              "      <td>0</td>\n",
              "      <td>0</td>\n",
              "      <td>...</td>\n",
              "      <td>0</td>\n",
              "      <td>0</td>\n",
              "      <td>0</td>\n",
              "      <td>0</td>\n",
              "      <td>0</td>\n",
              "      <td>0</td>\n",
              "      <td>0</td>\n",
              "      <td>0</td>\n",
              "      <td>0</td>\n",
              "      <td>0</td>\n",
              "    </tr>\n",
              "    <tr>\n",
              "      <th>3</th>\n",
              "      <td>1</td>\n",
              "      <td>0</td>\n",
              "      <td>0</td>\n",
              "      <td>0</td>\n",
              "      <td>0</td>\n",
              "      <td>0</td>\n",
              "      <td>0</td>\n",
              "      <td>0</td>\n",
              "      <td>0</td>\n",
              "      <td>0</td>\n",
              "      <td>...</td>\n",
              "      <td>0</td>\n",
              "      <td>0</td>\n",
              "      <td>0</td>\n",
              "      <td>0</td>\n",
              "      <td>0</td>\n",
              "      <td>0</td>\n",
              "      <td>0</td>\n",
              "      <td>0</td>\n",
              "      <td>0</td>\n",
              "      <td>0</td>\n",
              "    </tr>\n",
              "    <tr>\n",
              "      <th>4</th>\n",
              "      <td>1</td>\n",
              "      <td>0</td>\n",
              "      <td>0</td>\n",
              "      <td>0</td>\n",
              "      <td>0</td>\n",
              "      <td>0</td>\n",
              "      <td>0</td>\n",
              "      <td>0</td>\n",
              "      <td>0</td>\n",
              "      <td>0</td>\n",
              "      <td>...</td>\n",
              "      <td>0</td>\n",
              "      <td>0</td>\n",
              "      <td>0</td>\n",
              "      <td>0</td>\n",
              "      <td>0</td>\n",
              "      <td>0</td>\n",
              "      <td>0</td>\n",
              "      <td>0</td>\n",
              "      <td>0</td>\n",
              "      <td>0</td>\n",
              "    </tr>\n",
              "    <tr>\n",
              "      <th>...</th>\n",
              "      <td>...</td>\n",
              "      <td>...</td>\n",
              "      <td>...</td>\n",
              "      <td>...</td>\n",
              "      <td>...</td>\n",
              "      <td>...</td>\n",
              "      <td>...</td>\n",
              "      <td>...</td>\n",
              "      <td>...</td>\n",
              "      <td>...</td>\n",
              "      <td>...</td>\n",
              "      <td>...</td>\n",
              "      <td>...</td>\n",
              "      <td>...</td>\n",
              "      <td>...</td>\n",
              "      <td>...</td>\n",
              "      <td>...</td>\n",
              "      <td>...</td>\n",
              "      <td>...</td>\n",
              "      <td>...</td>\n",
              "      <td>...</td>\n",
              "    </tr>\n",
              "    <tr>\n",
              "      <th>372445</th>\n",
              "      <td>0</td>\n",
              "      <td>0</td>\n",
              "      <td>0</td>\n",
              "      <td>0</td>\n",
              "      <td>0</td>\n",
              "      <td>0</td>\n",
              "      <td>0</td>\n",
              "      <td>0</td>\n",
              "      <td>0</td>\n",
              "      <td>0</td>\n",
              "      <td>...</td>\n",
              "      <td>0</td>\n",
              "      <td>0</td>\n",
              "      <td>0</td>\n",
              "      <td>0</td>\n",
              "      <td>0</td>\n",
              "      <td>0</td>\n",
              "      <td>0</td>\n",
              "      <td>0</td>\n",
              "      <td>0</td>\n",
              "      <td>1</td>\n",
              "    </tr>\n",
              "    <tr>\n",
              "      <th>372446</th>\n",
              "      <td>0</td>\n",
              "      <td>0</td>\n",
              "      <td>0</td>\n",
              "      <td>0</td>\n",
              "      <td>0</td>\n",
              "      <td>0</td>\n",
              "      <td>0</td>\n",
              "      <td>0</td>\n",
              "      <td>0</td>\n",
              "      <td>0</td>\n",
              "      <td>...</td>\n",
              "      <td>0</td>\n",
              "      <td>0</td>\n",
              "      <td>0</td>\n",
              "      <td>0</td>\n",
              "      <td>0</td>\n",
              "      <td>0</td>\n",
              "      <td>0</td>\n",
              "      <td>0</td>\n",
              "      <td>0</td>\n",
              "      <td>1</td>\n",
              "    </tr>\n",
              "    <tr>\n",
              "      <th>372447</th>\n",
              "      <td>0</td>\n",
              "      <td>0</td>\n",
              "      <td>0</td>\n",
              "      <td>0</td>\n",
              "      <td>0</td>\n",
              "      <td>0</td>\n",
              "      <td>0</td>\n",
              "      <td>0</td>\n",
              "      <td>0</td>\n",
              "      <td>0</td>\n",
              "      <td>...</td>\n",
              "      <td>0</td>\n",
              "      <td>0</td>\n",
              "      <td>0</td>\n",
              "      <td>0</td>\n",
              "      <td>0</td>\n",
              "      <td>0</td>\n",
              "      <td>0</td>\n",
              "      <td>0</td>\n",
              "      <td>0</td>\n",
              "      <td>1</td>\n",
              "    </tr>\n",
              "    <tr>\n",
              "      <th>372448</th>\n",
              "      <td>0</td>\n",
              "      <td>0</td>\n",
              "      <td>0</td>\n",
              "      <td>0</td>\n",
              "      <td>0</td>\n",
              "      <td>0</td>\n",
              "      <td>0</td>\n",
              "      <td>0</td>\n",
              "      <td>0</td>\n",
              "      <td>0</td>\n",
              "      <td>...</td>\n",
              "      <td>0</td>\n",
              "      <td>0</td>\n",
              "      <td>0</td>\n",
              "      <td>0</td>\n",
              "      <td>0</td>\n",
              "      <td>0</td>\n",
              "      <td>0</td>\n",
              "      <td>0</td>\n",
              "      <td>0</td>\n",
              "      <td>1</td>\n",
              "    </tr>\n",
              "    <tr>\n",
              "      <th>372449</th>\n",
              "      <td>0</td>\n",
              "      <td>0</td>\n",
              "      <td>0</td>\n",
              "      <td>0</td>\n",
              "      <td>0</td>\n",
              "      <td>0</td>\n",
              "      <td>0</td>\n",
              "      <td>0</td>\n",
              "      <td>0</td>\n",
              "      <td>0</td>\n",
              "      <td>...</td>\n",
              "      <td>0</td>\n",
              "      <td>0</td>\n",
              "      <td>0</td>\n",
              "      <td>0</td>\n",
              "      <td>0</td>\n",
              "      <td>0</td>\n",
              "      <td>0</td>\n",
              "      <td>0</td>\n",
              "      <td>0</td>\n",
              "      <td>1</td>\n",
              "    </tr>\n",
              "  </tbody>\n",
              "</table>\n",
              "<p>372450 rows × 26 columns</p>\n",
              "</div>\n",
              "      <button class=\"colab-df-convert\" onclick=\"convertToInteractive('df-fead024a-87dc-4765-b92a-0251584e71c5')\"\n",
              "              title=\"Convert this dataframe to an interactive table.\"\n",
              "              style=\"display:none;\">\n",
              "        \n",
              "  <svg xmlns=\"http://www.w3.org/2000/svg\" height=\"24px\"viewBox=\"0 0 24 24\"\n",
              "       width=\"24px\">\n",
              "    <path d=\"M0 0h24v24H0V0z\" fill=\"none\"/>\n",
              "    <path d=\"M18.56 5.44l.94 2.06.94-2.06 2.06-.94-2.06-.94-.94-2.06-.94 2.06-2.06.94zm-11 1L8.5 8.5l.94-2.06 2.06-.94-2.06-.94L8.5 2.5l-.94 2.06-2.06.94zm10 10l.94 2.06.94-2.06 2.06-.94-2.06-.94-.94-2.06-.94 2.06-2.06.94z\"/><path d=\"M17.41 7.96l-1.37-1.37c-.4-.4-.92-.59-1.43-.59-.52 0-1.04.2-1.43.59L10.3 9.45l-7.72 7.72c-.78.78-.78 2.05 0 2.83L4 21.41c.39.39.9.59 1.41.59.51 0 1.02-.2 1.41-.59l7.78-7.78 2.81-2.81c.8-.78.8-2.07 0-2.86zM5.41 20L4 18.59l7.72-7.72 1.47 1.35L5.41 20z\"/>\n",
              "  </svg>\n",
              "      </button>\n",
              "      \n",
              "  <style>\n",
              "    .colab-df-container {\n",
              "      display:flex;\n",
              "      flex-wrap:wrap;\n",
              "      gap: 12px;\n",
              "    }\n",
              "\n",
              "    .colab-df-convert {\n",
              "      background-color: #E8F0FE;\n",
              "      border: none;\n",
              "      border-radius: 50%;\n",
              "      cursor: pointer;\n",
              "      display: none;\n",
              "      fill: #1967D2;\n",
              "      height: 32px;\n",
              "      padding: 0 0 0 0;\n",
              "      width: 32px;\n",
              "    }\n",
              "\n",
              "    .colab-df-convert:hover {\n",
              "      background-color: #E2EBFA;\n",
              "      box-shadow: 0px 1px 2px rgba(60, 64, 67, 0.3), 0px 1px 3px 1px rgba(60, 64, 67, 0.15);\n",
              "      fill: #174EA6;\n",
              "    }\n",
              "\n",
              "    [theme=dark] .colab-df-convert {\n",
              "      background-color: #3B4455;\n",
              "      fill: #D2E3FC;\n",
              "    }\n",
              "\n",
              "    [theme=dark] .colab-df-convert:hover {\n",
              "      background-color: #434B5C;\n",
              "      box-shadow: 0px 1px 3px 1px rgba(0, 0, 0, 0.15);\n",
              "      filter: drop-shadow(0px 1px 2px rgba(0, 0, 0, 0.3));\n",
              "      fill: #FFFFFF;\n",
              "    }\n",
              "  </style>\n",
              "\n",
              "      <script>\n",
              "        const buttonEl =\n",
              "          document.querySelector('#df-fead024a-87dc-4765-b92a-0251584e71c5 button.colab-df-convert');\n",
              "        buttonEl.style.display =\n",
              "          google.colab.kernel.accessAllowed ? 'block' : 'none';\n",
              "\n",
              "        async function convertToInteractive(key) {\n",
              "          const element = document.querySelector('#df-fead024a-87dc-4765-b92a-0251584e71c5');\n",
              "          const dataTable =\n",
              "            await google.colab.kernel.invokeFunction('convertToInteractive',\n",
              "                                                     [key], {});\n",
              "          if (!dataTable) return;\n",
              "\n",
              "          const docLinkHtml = 'Like what you see? Visit the ' +\n",
              "            '<a target=\"_blank\" href=https://colab.research.google.com/notebooks/data_table.ipynb>data table notebook</a>'\n",
              "            + ' to learn more about interactive tables.';\n",
              "          element.innerHTML = '';\n",
              "          dataTable['output_type'] = 'display_data';\n",
              "          await google.colab.output.renderOutput(dataTable, element);\n",
              "          const docLink = document.createElement('div');\n",
              "          docLink.innerHTML = docLinkHtml;\n",
              "          element.appendChild(docLink);\n",
              "        }\n",
              "      </script>\n",
              "    </div>\n",
              "  </div>\n",
              "  "
            ],
            "text/plain": [
              "        0_0  0_1  0_2  0_3  0_4  0_5  0_6  0_7  0_8  0_9  ...  0_16  0_17  \\\n",
              "0         1    0    0    0    0    0    0    0    0    0  ...     0     0   \n",
              "1         1    0    0    0    0    0    0    0    0    0  ...     0     0   \n",
              "2         1    0    0    0    0    0    0    0    0    0  ...     0     0   \n",
              "3         1    0    0    0    0    0    0    0    0    0  ...     0     0   \n",
              "4         1    0    0    0    0    0    0    0    0    0  ...     0     0   \n",
              "...     ...  ...  ...  ...  ...  ...  ...  ...  ...  ...  ...   ...   ...   \n",
              "372445    0    0    0    0    0    0    0    0    0    0  ...     0     0   \n",
              "372446    0    0    0    0    0    0    0    0    0    0  ...     0     0   \n",
              "372447    0    0    0    0    0    0    0    0    0    0  ...     0     0   \n",
              "372448    0    0    0    0    0    0    0    0    0    0  ...     0     0   \n",
              "372449    0    0    0    0    0    0    0    0    0    0  ...     0     0   \n",
              "\n",
              "        0_18  0_19  0_20  0_21  0_22  0_23  0_24  0_25  \n",
              "0          0     0     0     0     0     0     0     0  \n",
              "1          0     0     0     0     0     0     0     0  \n",
              "2          0     0     0     0     0     0     0     0  \n",
              "3          0     0     0     0     0     0     0     0  \n",
              "4          0     0     0     0     0     0     0     0  \n",
              "...      ...   ...   ...   ...   ...   ...   ...   ...  \n",
              "372445     0     0     0     0     0     0     0     1  \n",
              "372446     0     0     0     0     0     0     0     1  \n",
              "372447     0     0     0     0     0     0     0     1  \n",
              "372448     0     0     0     0     0     0     0     1  \n",
              "372449     0     0     0     0     0     0     0     1  \n",
              "\n",
              "[372450 rows x 26 columns]"
            ]
          },
          "execution_count": 19,
          "metadata": {},
          "output_type": "execute_result"
        }
      ],
      "source": [
        "onehot_labels"
      ]
    },
    {
      "cell_type": "code",
      "execution_count": null,
      "metadata": {
        "id": "CjQl0qBHLtsv"
      },
      "outputs": [],
      "source": [
        "new_df['pixels'] = new_data"
      ]
    },
    {
      "cell_type": "code",
      "execution_count": null,
      "metadata": {
        "colab": {
          "base_uri": "https://localhost:8080/",
          "height": 423
        },
        "id": "gscsk3UmPC5c",
        "outputId": "872aa3fa-36c0-4ac1-eb40-0f0d23e60ea2"
      },
      "outputs": [
        {
          "data": {
            "text/html": [
              "\n",
              "  <div id=\"df-2e3a2178-96fa-4ca6-b803-2dd923b0280c\">\n",
              "    <div class=\"colab-df-container\">\n",
              "      <div>\n",
              "<style scoped>\n",
              "    .dataframe tbody tr th:only-of-type {\n",
              "        vertical-align: middle;\n",
              "    }\n",
              "\n",
              "    .dataframe tbody tr th {\n",
              "        vertical-align: top;\n",
              "    }\n",
              "\n",
              "    .dataframe thead th {\n",
              "        text-align: right;\n",
              "    }\n",
              "</style>\n",
              "<table border=\"1\" class=\"dataframe\">\n",
              "  <thead>\n",
              "    <tr style=\"text-align: right;\">\n",
              "      <th></th>\n",
              "      <th>pixels</th>\n",
              "    </tr>\n",
              "  </thead>\n",
              "  <tbody>\n",
              "    <tr>\n",
              "      <th>0</th>\n",
              "      <td>[[0.0, 0.0, 0.0, 0.0, 0.0, 0.0, 0.0, 0.0, 0.0,...</td>\n",
              "    </tr>\n",
              "    <tr>\n",
              "      <th>1</th>\n",
              "      <td>[[0.0, 0.0, 0.0, 0.0, 0.0, 0.0, 0.0, 0.0, 0.0,...</td>\n",
              "    </tr>\n",
              "    <tr>\n",
              "      <th>2</th>\n",
              "      <td>[[0.0, 0.0, 0.0, 0.0, 0.0, 0.0, 0.0, 0.0, 0.0,...</td>\n",
              "    </tr>\n",
              "    <tr>\n",
              "      <th>3</th>\n",
              "      <td>[[0.0, 0.0, 0.0, 0.0, 0.0, 0.0, 0.0, 0.0, 0.0,...</td>\n",
              "    </tr>\n",
              "    <tr>\n",
              "      <th>4</th>\n",
              "      <td>[[0.0, 0.0, 0.0, 0.0, 0.0, 0.0, 0.0, 0.0, 0.0,...</td>\n",
              "    </tr>\n",
              "    <tr>\n",
              "      <th>...</th>\n",
              "      <td>...</td>\n",
              "    </tr>\n",
              "    <tr>\n",
              "      <th>372445</th>\n",
              "      <td>[[0.0, 0.0, 0.0, 0.0, 0.0, 0.0, 0.0, 0.0, 0.0,...</td>\n",
              "    </tr>\n",
              "    <tr>\n",
              "      <th>372446</th>\n",
              "      <td>[[0.0, 0.0, 0.0, 0.0, 0.0, 0.0, 0.0, 0.0, 0.0,...</td>\n",
              "    </tr>\n",
              "    <tr>\n",
              "      <th>372447</th>\n",
              "      <td>[[0.0, 0.0, 0.0, 0.0, 0.0, 0.0, 0.0, 0.0, 0.0,...</td>\n",
              "    </tr>\n",
              "    <tr>\n",
              "      <th>372448</th>\n",
              "      <td>[[0.0, 0.0, 0.0, 0.0, 0.0, 0.0, 0.0, 0.0, 0.0,...</td>\n",
              "    </tr>\n",
              "    <tr>\n",
              "      <th>372449</th>\n",
              "      <td>[[0.0, 0.0, 0.0, 0.0, 0.0, 0.0, 0.0, 0.0, 0.0,...</td>\n",
              "    </tr>\n",
              "  </tbody>\n",
              "</table>\n",
              "<p>372450 rows × 1 columns</p>\n",
              "</div>\n",
              "      <button class=\"colab-df-convert\" onclick=\"convertToInteractive('df-2e3a2178-96fa-4ca6-b803-2dd923b0280c')\"\n",
              "              title=\"Convert this dataframe to an interactive table.\"\n",
              "              style=\"display:none;\">\n",
              "        \n",
              "  <svg xmlns=\"http://www.w3.org/2000/svg\" height=\"24px\"viewBox=\"0 0 24 24\"\n",
              "       width=\"24px\">\n",
              "    <path d=\"M0 0h24v24H0V0z\" fill=\"none\"/>\n",
              "    <path d=\"M18.56 5.44l.94 2.06.94-2.06 2.06-.94-2.06-.94-.94-2.06-.94 2.06-2.06.94zm-11 1L8.5 8.5l.94-2.06 2.06-.94-2.06-.94L8.5 2.5l-.94 2.06-2.06.94zm10 10l.94 2.06.94-2.06 2.06-.94-2.06-.94-.94-2.06-.94 2.06-2.06.94z\"/><path d=\"M17.41 7.96l-1.37-1.37c-.4-.4-.92-.59-1.43-.59-.52 0-1.04.2-1.43.59L10.3 9.45l-7.72 7.72c-.78.78-.78 2.05 0 2.83L4 21.41c.39.39.9.59 1.41.59.51 0 1.02-.2 1.41-.59l7.78-7.78 2.81-2.81c.8-.78.8-2.07 0-2.86zM5.41 20L4 18.59l7.72-7.72 1.47 1.35L5.41 20z\"/>\n",
              "  </svg>\n",
              "      </button>\n",
              "      \n",
              "  <style>\n",
              "    .colab-df-container {\n",
              "      display:flex;\n",
              "      flex-wrap:wrap;\n",
              "      gap: 12px;\n",
              "    }\n",
              "\n",
              "    .colab-df-convert {\n",
              "      background-color: #E8F0FE;\n",
              "      border: none;\n",
              "      border-radius: 50%;\n",
              "      cursor: pointer;\n",
              "      display: none;\n",
              "      fill: #1967D2;\n",
              "      height: 32px;\n",
              "      padding: 0 0 0 0;\n",
              "      width: 32px;\n",
              "    }\n",
              "\n",
              "    .colab-df-convert:hover {\n",
              "      background-color: #E2EBFA;\n",
              "      box-shadow: 0px 1px 2px rgba(60, 64, 67, 0.3), 0px 1px 3px 1px rgba(60, 64, 67, 0.15);\n",
              "      fill: #174EA6;\n",
              "    }\n",
              "\n",
              "    [theme=dark] .colab-df-convert {\n",
              "      background-color: #3B4455;\n",
              "      fill: #D2E3FC;\n",
              "    }\n",
              "\n",
              "    [theme=dark] .colab-df-convert:hover {\n",
              "      background-color: #434B5C;\n",
              "      box-shadow: 0px 1px 3px 1px rgba(0, 0, 0, 0.15);\n",
              "      filter: drop-shadow(0px 1px 2px rgba(0, 0, 0, 0.3));\n",
              "      fill: #FFFFFF;\n",
              "    }\n",
              "  </style>\n",
              "\n",
              "      <script>\n",
              "        const buttonEl =\n",
              "          document.querySelector('#df-2e3a2178-96fa-4ca6-b803-2dd923b0280c button.colab-df-convert');\n",
              "        buttonEl.style.display =\n",
              "          google.colab.kernel.accessAllowed ? 'block' : 'none';\n",
              "\n",
              "        async function convertToInteractive(key) {\n",
              "          const element = document.querySelector('#df-2e3a2178-96fa-4ca6-b803-2dd923b0280c');\n",
              "          const dataTable =\n",
              "            await google.colab.kernel.invokeFunction('convertToInteractive',\n",
              "                                                     [key], {});\n",
              "          if (!dataTable) return;\n",
              "\n",
              "          const docLinkHtml = 'Like what you see? Visit the ' +\n",
              "            '<a target=\"_blank\" href=https://colab.research.google.com/notebooks/data_table.ipynb>data table notebook</a>'\n",
              "            + ' to learn more about interactive tables.';\n",
              "          element.innerHTML = '';\n",
              "          dataTable['output_type'] = 'display_data';\n",
              "          await google.colab.output.renderOutput(dataTable, element);\n",
              "          const docLink = document.createElement('div');\n",
              "          docLink.innerHTML = docLinkHtml;\n",
              "          element.appendChild(docLink);\n",
              "        }\n",
              "      </script>\n",
              "    </div>\n",
              "  </div>\n",
              "  "
            ],
            "text/plain": [
              "                                                   pixels\n",
              "0       [[0.0, 0.0, 0.0, 0.0, 0.0, 0.0, 0.0, 0.0, 0.0,...\n",
              "1       [[0.0, 0.0, 0.0, 0.0, 0.0, 0.0, 0.0, 0.0, 0.0,...\n",
              "2       [[0.0, 0.0, 0.0, 0.0, 0.0, 0.0, 0.0, 0.0, 0.0,...\n",
              "3       [[0.0, 0.0, 0.0, 0.0, 0.0, 0.0, 0.0, 0.0, 0.0,...\n",
              "4       [[0.0, 0.0, 0.0, 0.0, 0.0, 0.0, 0.0, 0.0, 0.0,...\n",
              "...                                                   ...\n",
              "372445  [[0.0, 0.0, 0.0, 0.0, 0.0, 0.0, 0.0, 0.0, 0.0,...\n",
              "372446  [[0.0, 0.0, 0.0, 0.0, 0.0, 0.0, 0.0, 0.0, 0.0,...\n",
              "372447  [[0.0, 0.0, 0.0, 0.0, 0.0, 0.0, 0.0, 0.0, 0.0,...\n",
              "372448  [[0.0, 0.0, 0.0, 0.0, 0.0, 0.0, 0.0, 0.0, 0.0,...\n",
              "372449  [[0.0, 0.0, 0.0, 0.0, 0.0, 0.0, 0.0, 0.0, 0.0,...\n",
              "\n",
              "[372450 rows x 1 columns]"
            ]
          },
          "execution_count": 21,
          "metadata": {},
          "output_type": "execute_result"
        }
      ],
      "source": [
        "new_df"
      ]
    },
    {
      "cell_type": "code",
      "execution_count": null,
      "metadata": {
        "id": "b94fOPnu1UH_"
      },
      "outputs": [],
      "source": [
        "x_train, x_test, y_train, y_test = train_test_split(data_df, onehot_labels,  random_state=42, test_size=0.25)"
      ]
    },
    {
      "cell_type": "code",
      "execution_count": null,
      "metadata": {
        "colab": {
          "base_uri": "https://localhost:8080/",
          "height": 487
        },
        "id": "9OJ5yF_i3djb",
        "outputId": "89e1ded9-287d-4fe6-f985-16d2440d8fc5"
      },
      "outputs": [
        {
          "data": {
            "text/html": [
              "\n",
              "  <div id=\"df-2a53664b-a620-4fed-bc8f-628bcd0a408c\">\n",
              "    <div class=\"colab-df-container\">\n",
              "      <div>\n",
              "<style scoped>\n",
              "    .dataframe tbody tr th:only-of-type {\n",
              "        vertical-align: middle;\n",
              "    }\n",
              "\n",
              "    .dataframe tbody tr th {\n",
              "        vertical-align: top;\n",
              "    }\n",
              "\n",
              "    .dataframe thead th {\n",
              "        text-align: right;\n",
              "    }\n",
              "</style>\n",
              "<table border=\"1\" class=\"dataframe\">\n",
              "  <thead>\n",
              "    <tr style=\"text-align: right;\">\n",
              "      <th></th>\n",
              "      <th>0.1</th>\n",
              "      <th>0.2</th>\n",
              "      <th>0.3</th>\n",
              "      <th>0.4</th>\n",
              "      <th>0.5</th>\n",
              "      <th>0.6</th>\n",
              "      <th>0.7</th>\n",
              "      <th>0.8</th>\n",
              "      <th>0.9</th>\n",
              "      <th>0.10</th>\n",
              "      <th>...</th>\n",
              "      <th>0.639</th>\n",
              "      <th>0.640</th>\n",
              "      <th>0.641</th>\n",
              "      <th>0.642</th>\n",
              "      <th>0.643</th>\n",
              "      <th>0.644</th>\n",
              "      <th>0.645</th>\n",
              "      <th>0.646</th>\n",
              "      <th>0.647</th>\n",
              "      <th>0.648</th>\n",
              "    </tr>\n",
              "  </thead>\n",
              "  <tbody>\n",
              "    <tr>\n",
              "      <th>154375</th>\n",
              "      <td>0</td>\n",
              "      <td>0</td>\n",
              "      <td>0</td>\n",
              "      <td>0</td>\n",
              "      <td>0</td>\n",
              "      <td>0</td>\n",
              "      <td>0</td>\n",
              "      <td>0</td>\n",
              "      <td>0</td>\n",
              "      <td>0</td>\n",
              "      <td>...</td>\n",
              "      <td>0</td>\n",
              "      <td>0</td>\n",
              "      <td>0</td>\n",
              "      <td>0</td>\n",
              "      <td>0</td>\n",
              "      <td>0</td>\n",
              "      <td>0</td>\n",
              "      <td>0</td>\n",
              "      <td>0</td>\n",
              "      <td>0</td>\n",
              "    </tr>\n",
              "    <tr>\n",
              "      <th>228919</th>\n",
              "      <td>0</td>\n",
              "      <td>0</td>\n",
              "      <td>0</td>\n",
              "      <td>0</td>\n",
              "      <td>0</td>\n",
              "      <td>0</td>\n",
              "      <td>0</td>\n",
              "      <td>0</td>\n",
              "      <td>0</td>\n",
              "      <td>0</td>\n",
              "      <td>...</td>\n",
              "      <td>0</td>\n",
              "      <td>0</td>\n",
              "      <td>0</td>\n",
              "      <td>0</td>\n",
              "      <td>0</td>\n",
              "      <td>0</td>\n",
              "      <td>0</td>\n",
              "      <td>0</td>\n",
              "      <td>0</td>\n",
              "      <td>0</td>\n",
              "    </tr>\n",
              "    <tr>\n",
              "      <th>350151</th>\n",
              "      <td>0</td>\n",
              "      <td>0</td>\n",
              "      <td>0</td>\n",
              "      <td>0</td>\n",
              "      <td>0</td>\n",
              "      <td>0</td>\n",
              "      <td>0</td>\n",
              "      <td>0</td>\n",
              "      <td>0</td>\n",
              "      <td>0</td>\n",
              "      <td>...</td>\n",
              "      <td>0</td>\n",
              "      <td>0</td>\n",
              "      <td>0</td>\n",
              "      <td>0</td>\n",
              "      <td>0</td>\n",
              "      <td>0</td>\n",
              "      <td>0</td>\n",
              "      <td>0</td>\n",
              "      <td>0</td>\n",
              "      <td>0</td>\n",
              "    </tr>\n",
              "    <tr>\n",
              "      <th>73268</th>\n",
              "      <td>0</td>\n",
              "      <td>0</td>\n",
              "      <td>0</td>\n",
              "      <td>0</td>\n",
              "      <td>0</td>\n",
              "      <td>0</td>\n",
              "      <td>0</td>\n",
              "      <td>0</td>\n",
              "      <td>0</td>\n",
              "      <td>0</td>\n",
              "      <td>...</td>\n",
              "      <td>0</td>\n",
              "      <td>0</td>\n",
              "      <td>0</td>\n",
              "      <td>0</td>\n",
              "      <td>0</td>\n",
              "      <td>0</td>\n",
              "      <td>0</td>\n",
              "      <td>0</td>\n",
              "      <td>0</td>\n",
              "      <td>0</td>\n",
              "    </tr>\n",
              "    <tr>\n",
              "      <th>135640</th>\n",
              "      <td>0</td>\n",
              "      <td>0</td>\n",
              "      <td>0</td>\n",
              "      <td>0</td>\n",
              "      <td>0</td>\n",
              "      <td>0</td>\n",
              "      <td>0</td>\n",
              "      <td>0</td>\n",
              "      <td>0</td>\n",
              "      <td>0</td>\n",
              "      <td>...</td>\n",
              "      <td>0</td>\n",
              "      <td>0</td>\n",
              "      <td>0</td>\n",
              "      <td>0</td>\n",
              "      <td>0</td>\n",
              "      <td>0</td>\n",
              "      <td>0</td>\n",
              "      <td>0</td>\n",
              "      <td>0</td>\n",
              "      <td>0</td>\n",
              "    </tr>\n",
              "    <tr>\n",
              "      <th>...</th>\n",
              "      <td>...</td>\n",
              "      <td>...</td>\n",
              "      <td>...</td>\n",
              "      <td>...</td>\n",
              "      <td>...</td>\n",
              "      <td>...</td>\n",
              "      <td>...</td>\n",
              "      <td>...</td>\n",
              "      <td>...</td>\n",
              "      <td>...</td>\n",
              "      <td>...</td>\n",
              "      <td>...</td>\n",
              "      <td>...</td>\n",
              "      <td>...</td>\n",
              "      <td>...</td>\n",
              "      <td>...</td>\n",
              "      <td>...</td>\n",
              "      <td>...</td>\n",
              "      <td>...</td>\n",
              "      <td>...</td>\n",
              "      <td>...</td>\n",
              "    </tr>\n",
              "    <tr>\n",
              "      <th>259178</th>\n",
              "      <td>0</td>\n",
              "      <td>0</td>\n",
              "      <td>0</td>\n",
              "      <td>0</td>\n",
              "      <td>0</td>\n",
              "      <td>0</td>\n",
              "      <td>0</td>\n",
              "      <td>0</td>\n",
              "      <td>0</td>\n",
              "      <td>0</td>\n",
              "      <td>...</td>\n",
              "      <td>0</td>\n",
              "      <td>0</td>\n",
              "      <td>0</td>\n",
              "      <td>0</td>\n",
              "      <td>0</td>\n",
              "      <td>0</td>\n",
              "      <td>0</td>\n",
              "      <td>0</td>\n",
              "      <td>0</td>\n",
              "      <td>0</td>\n",
              "    </tr>\n",
              "    <tr>\n",
              "      <th>365838</th>\n",
              "      <td>0</td>\n",
              "      <td>0</td>\n",
              "      <td>0</td>\n",
              "      <td>0</td>\n",
              "      <td>0</td>\n",
              "      <td>0</td>\n",
              "      <td>0</td>\n",
              "      <td>0</td>\n",
              "      <td>0</td>\n",
              "      <td>0</td>\n",
              "      <td>...</td>\n",
              "      <td>0</td>\n",
              "      <td>0</td>\n",
              "      <td>0</td>\n",
              "      <td>0</td>\n",
              "      <td>0</td>\n",
              "      <td>0</td>\n",
              "      <td>0</td>\n",
              "      <td>0</td>\n",
              "      <td>0</td>\n",
              "      <td>0</td>\n",
              "    </tr>\n",
              "    <tr>\n",
              "      <th>131932</th>\n",
              "      <td>0</td>\n",
              "      <td>0</td>\n",
              "      <td>0</td>\n",
              "      <td>0</td>\n",
              "      <td>0</td>\n",
              "      <td>0</td>\n",
              "      <td>0</td>\n",
              "      <td>0</td>\n",
              "      <td>0</td>\n",
              "      <td>0</td>\n",
              "      <td>...</td>\n",
              "      <td>0</td>\n",
              "      <td>0</td>\n",
              "      <td>0</td>\n",
              "      <td>0</td>\n",
              "      <td>0</td>\n",
              "      <td>0</td>\n",
              "      <td>0</td>\n",
              "      <td>0</td>\n",
              "      <td>0</td>\n",
              "      <td>0</td>\n",
              "    </tr>\n",
              "    <tr>\n",
              "      <th>146867</th>\n",
              "      <td>0</td>\n",
              "      <td>0</td>\n",
              "      <td>0</td>\n",
              "      <td>0</td>\n",
              "      <td>0</td>\n",
              "      <td>0</td>\n",
              "      <td>0</td>\n",
              "      <td>0</td>\n",
              "      <td>0</td>\n",
              "      <td>0</td>\n",
              "      <td>...</td>\n",
              "      <td>0</td>\n",
              "      <td>0</td>\n",
              "      <td>0</td>\n",
              "      <td>0</td>\n",
              "      <td>0</td>\n",
              "      <td>0</td>\n",
              "      <td>0</td>\n",
              "      <td>0</td>\n",
              "      <td>0</td>\n",
              "      <td>0</td>\n",
              "    </tr>\n",
              "    <tr>\n",
              "      <th>121958</th>\n",
              "      <td>0</td>\n",
              "      <td>0</td>\n",
              "      <td>0</td>\n",
              "      <td>0</td>\n",
              "      <td>0</td>\n",
              "      <td>0</td>\n",
              "      <td>0</td>\n",
              "      <td>0</td>\n",
              "      <td>0</td>\n",
              "      <td>0</td>\n",
              "      <td>...</td>\n",
              "      <td>0</td>\n",
              "      <td>0</td>\n",
              "      <td>0</td>\n",
              "      <td>0</td>\n",
              "      <td>0</td>\n",
              "      <td>0</td>\n",
              "      <td>0</td>\n",
              "      <td>0</td>\n",
              "      <td>0</td>\n",
              "      <td>0</td>\n",
              "    </tr>\n",
              "  </tbody>\n",
              "</table>\n",
              "<p>279337 rows × 784 columns</p>\n",
              "</div>\n",
              "      <button class=\"colab-df-convert\" onclick=\"convertToInteractive('df-2a53664b-a620-4fed-bc8f-628bcd0a408c')\"\n",
              "              title=\"Convert this dataframe to an interactive table.\"\n",
              "              style=\"display:none;\">\n",
              "        \n",
              "  <svg xmlns=\"http://www.w3.org/2000/svg\" height=\"24px\"viewBox=\"0 0 24 24\"\n",
              "       width=\"24px\">\n",
              "    <path d=\"M0 0h24v24H0V0z\" fill=\"none\"/>\n",
              "    <path d=\"M18.56 5.44l.94 2.06.94-2.06 2.06-.94-2.06-.94-.94-2.06-.94 2.06-2.06.94zm-11 1L8.5 8.5l.94-2.06 2.06-.94-2.06-.94L8.5 2.5l-.94 2.06-2.06.94zm10 10l.94 2.06.94-2.06 2.06-.94-2.06-.94-.94-2.06-.94 2.06-2.06.94z\"/><path d=\"M17.41 7.96l-1.37-1.37c-.4-.4-.92-.59-1.43-.59-.52 0-1.04.2-1.43.59L10.3 9.45l-7.72 7.72c-.78.78-.78 2.05 0 2.83L4 21.41c.39.39.9.59 1.41.59.51 0 1.02-.2 1.41-.59l7.78-7.78 2.81-2.81c.8-.78.8-2.07 0-2.86zM5.41 20L4 18.59l7.72-7.72 1.47 1.35L5.41 20z\"/>\n",
              "  </svg>\n",
              "      </button>\n",
              "      \n",
              "  <style>\n",
              "    .colab-df-container {\n",
              "      display:flex;\n",
              "      flex-wrap:wrap;\n",
              "      gap: 12px;\n",
              "    }\n",
              "\n",
              "    .colab-df-convert {\n",
              "      background-color: #E8F0FE;\n",
              "      border: none;\n",
              "      border-radius: 50%;\n",
              "      cursor: pointer;\n",
              "      display: none;\n",
              "      fill: #1967D2;\n",
              "      height: 32px;\n",
              "      padding: 0 0 0 0;\n",
              "      width: 32px;\n",
              "    }\n",
              "\n",
              "    .colab-df-convert:hover {\n",
              "      background-color: #E2EBFA;\n",
              "      box-shadow: 0px 1px 2px rgba(60, 64, 67, 0.3), 0px 1px 3px 1px rgba(60, 64, 67, 0.15);\n",
              "      fill: #174EA6;\n",
              "    }\n",
              "\n",
              "    [theme=dark] .colab-df-convert {\n",
              "      background-color: #3B4455;\n",
              "      fill: #D2E3FC;\n",
              "    }\n",
              "\n",
              "    [theme=dark] .colab-df-convert:hover {\n",
              "      background-color: #434B5C;\n",
              "      box-shadow: 0px 1px 3px 1px rgba(0, 0, 0, 0.15);\n",
              "      filter: drop-shadow(0px 1px 2px rgba(0, 0, 0, 0.3));\n",
              "      fill: #FFFFFF;\n",
              "    }\n",
              "  </style>\n",
              "\n",
              "      <script>\n",
              "        const buttonEl =\n",
              "          document.querySelector('#df-2a53664b-a620-4fed-bc8f-628bcd0a408c button.colab-df-convert');\n",
              "        buttonEl.style.display =\n",
              "          google.colab.kernel.accessAllowed ? 'block' : 'none';\n",
              "\n",
              "        async function convertToInteractive(key) {\n",
              "          const element = document.querySelector('#df-2a53664b-a620-4fed-bc8f-628bcd0a408c');\n",
              "          const dataTable =\n",
              "            await google.colab.kernel.invokeFunction('convertToInteractive',\n",
              "                                                     [key], {});\n",
              "          if (!dataTable) return;\n",
              "\n",
              "          const docLinkHtml = 'Like what you see? Visit the ' +\n",
              "            '<a target=\"_blank\" href=https://colab.research.google.com/notebooks/data_table.ipynb>data table notebook</a>'\n",
              "            + ' to learn more about interactive tables.';\n",
              "          element.innerHTML = '';\n",
              "          dataTable['output_type'] = 'display_data';\n",
              "          await google.colab.output.renderOutput(dataTable, element);\n",
              "          const docLink = document.createElement('div');\n",
              "          docLink.innerHTML = docLinkHtml;\n",
              "          element.appendChild(docLink);\n",
              "        }\n",
              "      </script>\n",
              "    </div>\n",
              "  </div>\n",
              "  "
            ],
            "text/plain": [
              "        0.1  0.2  0.3  0.4  0.5  0.6  0.7  0.8  0.9  0.10  ...  0.639  0.640  \\\n",
              "154375    0    0    0    0    0    0    0    0    0     0  ...      0      0   \n",
              "228919    0    0    0    0    0    0    0    0    0     0  ...      0      0   \n",
              "350151    0    0    0    0    0    0    0    0    0     0  ...      0      0   \n",
              "73268     0    0    0    0    0    0    0    0    0     0  ...      0      0   \n",
              "135640    0    0    0    0    0    0    0    0    0     0  ...      0      0   \n",
              "...     ...  ...  ...  ...  ...  ...  ...  ...  ...   ...  ...    ...    ...   \n",
              "259178    0    0    0    0    0    0    0    0    0     0  ...      0      0   \n",
              "365838    0    0    0    0    0    0    0    0    0     0  ...      0      0   \n",
              "131932    0    0    0    0    0    0    0    0    0     0  ...      0      0   \n",
              "146867    0    0    0    0    0    0    0    0    0     0  ...      0      0   \n",
              "121958    0    0    0    0    0    0    0    0    0     0  ...      0      0   \n",
              "\n",
              "        0.641  0.642  0.643  0.644  0.645  0.646  0.647  0.648  \n",
              "154375      0      0      0      0      0      0      0      0  \n",
              "228919      0      0      0      0      0      0      0      0  \n",
              "350151      0      0      0      0      0      0      0      0  \n",
              "73268       0      0      0      0      0      0      0      0  \n",
              "135640      0      0      0      0      0      0      0      0  \n",
              "...       ...    ...    ...    ...    ...    ...    ...    ...  \n",
              "259178      0      0      0      0      0      0      0      0  \n",
              "365838      0      0      0      0      0      0      0      0  \n",
              "131932      0      0      0      0      0      0      0      0  \n",
              "146867      0      0      0      0      0      0      0      0  \n",
              "121958      0      0      0      0      0      0      0      0  \n",
              "\n",
              "[279337 rows x 784 columns]"
            ]
          },
          "execution_count": 23,
          "metadata": {},
          "output_type": "execute_result"
        }
      ],
      "source": [
        "x_train"
      ]
    },
    {
      "cell_type": "code",
      "execution_count": null,
      "metadata": {
        "colab": {
          "base_uri": "https://localhost:8080/",
          "height": 487
        },
        "id": "THdZ9c2maUkL",
        "outputId": "255c8e77-9299-41c4-9260-7666cc47f389"
      },
      "outputs": [
        {
          "data": {
            "text/html": [
              "\n",
              "  <div id=\"df-27a882cc-f6e9-454d-9222-4ece6b5b8008\">\n",
              "    <div class=\"colab-df-container\">\n",
              "      <div>\n",
              "<style scoped>\n",
              "    .dataframe tbody tr th:only-of-type {\n",
              "        vertical-align: middle;\n",
              "    }\n",
              "\n",
              "    .dataframe tbody tr th {\n",
              "        vertical-align: top;\n",
              "    }\n",
              "\n",
              "    .dataframe thead th {\n",
              "        text-align: right;\n",
              "    }\n",
              "</style>\n",
              "<table border=\"1\" class=\"dataframe\">\n",
              "  <thead>\n",
              "    <tr style=\"text-align: right;\">\n",
              "      <th></th>\n",
              "      <th>0_0</th>\n",
              "      <th>0_1</th>\n",
              "      <th>0_2</th>\n",
              "      <th>0_3</th>\n",
              "      <th>0_4</th>\n",
              "      <th>0_5</th>\n",
              "      <th>0_6</th>\n",
              "      <th>0_7</th>\n",
              "      <th>0_8</th>\n",
              "      <th>0_9</th>\n",
              "      <th>...</th>\n",
              "      <th>0_16</th>\n",
              "      <th>0_17</th>\n",
              "      <th>0_18</th>\n",
              "      <th>0_19</th>\n",
              "      <th>0_20</th>\n",
              "      <th>0_21</th>\n",
              "      <th>0_22</th>\n",
              "      <th>0_23</th>\n",
              "      <th>0_24</th>\n",
              "      <th>0_25</th>\n",
              "    </tr>\n",
              "  </thead>\n",
              "  <tbody>\n",
              "    <tr>\n",
              "      <th>154375</th>\n",
              "      <td>0</td>\n",
              "      <td>0</td>\n",
              "      <td>0</td>\n",
              "      <td>0</td>\n",
              "      <td>0</td>\n",
              "      <td>0</td>\n",
              "      <td>0</td>\n",
              "      <td>0</td>\n",
              "      <td>0</td>\n",
              "      <td>0</td>\n",
              "      <td>...</td>\n",
              "      <td>0</td>\n",
              "      <td>0</td>\n",
              "      <td>0</td>\n",
              "      <td>0</td>\n",
              "      <td>0</td>\n",
              "      <td>0</td>\n",
              "      <td>0</td>\n",
              "      <td>0</td>\n",
              "      <td>0</td>\n",
              "      <td>0</td>\n",
              "    </tr>\n",
              "    <tr>\n",
              "      <th>228919</th>\n",
              "      <td>0</td>\n",
              "      <td>0</td>\n",
              "      <td>0</td>\n",
              "      <td>0</td>\n",
              "      <td>0</td>\n",
              "      <td>0</td>\n",
              "      <td>0</td>\n",
              "      <td>0</td>\n",
              "      <td>0</td>\n",
              "      <td>0</td>\n",
              "      <td>...</td>\n",
              "      <td>0</td>\n",
              "      <td>1</td>\n",
              "      <td>0</td>\n",
              "      <td>0</td>\n",
              "      <td>0</td>\n",
              "      <td>0</td>\n",
              "      <td>0</td>\n",
              "      <td>0</td>\n",
              "      <td>0</td>\n",
              "      <td>0</td>\n",
              "    </tr>\n",
              "    <tr>\n",
              "      <th>350151</th>\n",
              "      <td>0</td>\n",
              "      <td>0</td>\n",
              "      <td>0</td>\n",
              "      <td>0</td>\n",
              "      <td>0</td>\n",
              "      <td>0</td>\n",
              "      <td>0</td>\n",
              "      <td>0</td>\n",
              "      <td>0</td>\n",
              "      <td>0</td>\n",
              "      <td>...</td>\n",
              "      <td>0</td>\n",
              "      <td>0</td>\n",
              "      <td>0</td>\n",
              "      <td>0</td>\n",
              "      <td>0</td>\n",
              "      <td>0</td>\n",
              "      <td>0</td>\n",
              "      <td>1</td>\n",
              "      <td>0</td>\n",
              "      <td>0</td>\n",
              "    </tr>\n",
              "    <tr>\n",
              "      <th>73268</th>\n",
              "      <td>0</td>\n",
              "      <td>0</td>\n",
              "      <td>0</td>\n",
              "      <td>0</td>\n",
              "      <td>0</td>\n",
              "      <td>0</td>\n",
              "      <td>1</td>\n",
              "      <td>0</td>\n",
              "      <td>0</td>\n",
              "      <td>0</td>\n",
              "      <td>...</td>\n",
              "      <td>0</td>\n",
              "      <td>0</td>\n",
              "      <td>0</td>\n",
              "      <td>0</td>\n",
              "      <td>0</td>\n",
              "      <td>0</td>\n",
              "      <td>0</td>\n",
              "      <td>0</td>\n",
              "      <td>0</td>\n",
              "      <td>0</td>\n",
              "    </tr>\n",
              "    <tr>\n",
              "      <th>135640</th>\n",
              "      <td>0</td>\n",
              "      <td>0</td>\n",
              "      <td>0</td>\n",
              "      <td>0</td>\n",
              "      <td>0</td>\n",
              "      <td>0</td>\n",
              "      <td>0</td>\n",
              "      <td>0</td>\n",
              "      <td>0</td>\n",
              "      <td>0</td>\n",
              "      <td>...</td>\n",
              "      <td>0</td>\n",
              "      <td>0</td>\n",
              "      <td>0</td>\n",
              "      <td>0</td>\n",
              "      <td>0</td>\n",
              "      <td>0</td>\n",
              "      <td>0</td>\n",
              "      <td>0</td>\n",
              "      <td>0</td>\n",
              "      <td>0</td>\n",
              "    </tr>\n",
              "    <tr>\n",
              "      <th>...</th>\n",
              "      <td>...</td>\n",
              "      <td>...</td>\n",
              "      <td>...</td>\n",
              "      <td>...</td>\n",
              "      <td>...</td>\n",
              "      <td>...</td>\n",
              "      <td>...</td>\n",
              "      <td>...</td>\n",
              "      <td>...</td>\n",
              "      <td>...</td>\n",
              "      <td>...</td>\n",
              "      <td>...</td>\n",
              "      <td>...</td>\n",
              "      <td>...</td>\n",
              "      <td>...</td>\n",
              "      <td>...</td>\n",
              "      <td>...</td>\n",
              "      <td>...</td>\n",
              "      <td>...</td>\n",
              "      <td>...</td>\n",
              "      <td>...</td>\n",
              "    </tr>\n",
              "    <tr>\n",
              "      <th>259178</th>\n",
              "      <td>0</td>\n",
              "      <td>0</td>\n",
              "      <td>0</td>\n",
              "      <td>0</td>\n",
              "      <td>0</td>\n",
              "      <td>0</td>\n",
              "      <td>0</td>\n",
              "      <td>0</td>\n",
              "      <td>0</td>\n",
              "      <td>0</td>\n",
              "      <td>...</td>\n",
              "      <td>0</td>\n",
              "      <td>0</td>\n",
              "      <td>1</td>\n",
              "      <td>0</td>\n",
              "      <td>0</td>\n",
              "      <td>0</td>\n",
              "      <td>0</td>\n",
              "      <td>0</td>\n",
              "      <td>0</td>\n",
              "      <td>0</td>\n",
              "    </tr>\n",
              "    <tr>\n",
              "      <th>365838</th>\n",
              "      <td>0</td>\n",
              "      <td>0</td>\n",
              "      <td>0</td>\n",
              "      <td>0</td>\n",
              "      <td>0</td>\n",
              "      <td>0</td>\n",
              "      <td>0</td>\n",
              "      <td>0</td>\n",
              "      <td>0</td>\n",
              "      <td>0</td>\n",
              "      <td>...</td>\n",
              "      <td>0</td>\n",
              "      <td>0</td>\n",
              "      <td>0</td>\n",
              "      <td>0</td>\n",
              "      <td>0</td>\n",
              "      <td>0</td>\n",
              "      <td>0</td>\n",
              "      <td>0</td>\n",
              "      <td>1</td>\n",
              "      <td>0</td>\n",
              "    </tr>\n",
              "    <tr>\n",
              "      <th>131932</th>\n",
              "      <td>0</td>\n",
              "      <td>0</td>\n",
              "      <td>0</td>\n",
              "      <td>0</td>\n",
              "      <td>0</td>\n",
              "      <td>0</td>\n",
              "      <td>0</td>\n",
              "      <td>0</td>\n",
              "      <td>0</td>\n",
              "      <td>0</td>\n",
              "      <td>...</td>\n",
              "      <td>0</td>\n",
              "      <td>0</td>\n",
              "      <td>0</td>\n",
              "      <td>0</td>\n",
              "      <td>0</td>\n",
              "      <td>0</td>\n",
              "      <td>0</td>\n",
              "      <td>0</td>\n",
              "      <td>0</td>\n",
              "      <td>0</td>\n",
              "    </tr>\n",
              "    <tr>\n",
              "      <th>146867</th>\n",
              "      <td>0</td>\n",
              "      <td>0</td>\n",
              "      <td>0</td>\n",
              "      <td>0</td>\n",
              "      <td>0</td>\n",
              "      <td>0</td>\n",
              "      <td>0</td>\n",
              "      <td>0</td>\n",
              "      <td>0</td>\n",
              "      <td>0</td>\n",
              "      <td>...</td>\n",
              "      <td>0</td>\n",
              "      <td>0</td>\n",
              "      <td>0</td>\n",
              "      <td>0</td>\n",
              "      <td>0</td>\n",
              "      <td>0</td>\n",
              "      <td>0</td>\n",
              "      <td>0</td>\n",
              "      <td>0</td>\n",
              "      <td>0</td>\n",
              "    </tr>\n",
              "    <tr>\n",
              "      <th>121958</th>\n",
              "      <td>0</td>\n",
              "      <td>0</td>\n",
              "      <td>0</td>\n",
              "      <td>0</td>\n",
              "      <td>0</td>\n",
              "      <td>0</td>\n",
              "      <td>0</td>\n",
              "      <td>0</td>\n",
              "      <td>0</td>\n",
              "      <td>0</td>\n",
              "      <td>...</td>\n",
              "      <td>0</td>\n",
              "      <td>0</td>\n",
              "      <td>0</td>\n",
              "      <td>0</td>\n",
              "      <td>0</td>\n",
              "      <td>0</td>\n",
              "      <td>0</td>\n",
              "      <td>0</td>\n",
              "      <td>0</td>\n",
              "      <td>0</td>\n",
              "    </tr>\n",
              "  </tbody>\n",
              "</table>\n",
              "<p>279337 rows × 26 columns</p>\n",
              "</div>\n",
              "      <button class=\"colab-df-convert\" onclick=\"convertToInteractive('df-27a882cc-f6e9-454d-9222-4ece6b5b8008')\"\n",
              "              title=\"Convert this dataframe to an interactive table.\"\n",
              "              style=\"display:none;\">\n",
              "        \n",
              "  <svg xmlns=\"http://www.w3.org/2000/svg\" height=\"24px\"viewBox=\"0 0 24 24\"\n",
              "       width=\"24px\">\n",
              "    <path d=\"M0 0h24v24H0V0z\" fill=\"none\"/>\n",
              "    <path d=\"M18.56 5.44l.94 2.06.94-2.06 2.06-.94-2.06-.94-.94-2.06-.94 2.06-2.06.94zm-11 1L8.5 8.5l.94-2.06 2.06-.94-2.06-.94L8.5 2.5l-.94 2.06-2.06.94zm10 10l.94 2.06.94-2.06 2.06-.94-2.06-.94-.94-2.06-.94 2.06-2.06.94z\"/><path d=\"M17.41 7.96l-1.37-1.37c-.4-.4-.92-.59-1.43-.59-.52 0-1.04.2-1.43.59L10.3 9.45l-7.72 7.72c-.78.78-.78 2.05 0 2.83L4 21.41c.39.39.9.59 1.41.59.51 0 1.02-.2 1.41-.59l7.78-7.78 2.81-2.81c.8-.78.8-2.07 0-2.86zM5.41 20L4 18.59l7.72-7.72 1.47 1.35L5.41 20z\"/>\n",
              "  </svg>\n",
              "      </button>\n",
              "      \n",
              "  <style>\n",
              "    .colab-df-container {\n",
              "      display:flex;\n",
              "      flex-wrap:wrap;\n",
              "      gap: 12px;\n",
              "    }\n",
              "\n",
              "    .colab-df-convert {\n",
              "      background-color: #E8F0FE;\n",
              "      border: none;\n",
              "      border-radius: 50%;\n",
              "      cursor: pointer;\n",
              "      display: none;\n",
              "      fill: #1967D2;\n",
              "      height: 32px;\n",
              "      padding: 0 0 0 0;\n",
              "      width: 32px;\n",
              "    }\n",
              "\n",
              "    .colab-df-convert:hover {\n",
              "      background-color: #E2EBFA;\n",
              "      box-shadow: 0px 1px 2px rgba(60, 64, 67, 0.3), 0px 1px 3px 1px rgba(60, 64, 67, 0.15);\n",
              "      fill: #174EA6;\n",
              "    }\n",
              "\n",
              "    [theme=dark] .colab-df-convert {\n",
              "      background-color: #3B4455;\n",
              "      fill: #D2E3FC;\n",
              "    }\n",
              "\n",
              "    [theme=dark] .colab-df-convert:hover {\n",
              "      background-color: #434B5C;\n",
              "      box-shadow: 0px 1px 3px 1px rgba(0, 0, 0, 0.15);\n",
              "      filter: drop-shadow(0px 1px 2px rgba(0, 0, 0, 0.3));\n",
              "      fill: #FFFFFF;\n",
              "    }\n",
              "  </style>\n",
              "\n",
              "      <script>\n",
              "        const buttonEl =\n",
              "          document.querySelector('#df-27a882cc-f6e9-454d-9222-4ece6b5b8008 button.colab-df-convert');\n",
              "        buttonEl.style.display =\n",
              "          google.colab.kernel.accessAllowed ? 'block' : 'none';\n",
              "\n",
              "        async function convertToInteractive(key) {\n",
              "          const element = document.querySelector('#df-27a882cc-f6e9-454d-9222-4ece6b5b8008');\n",
              "          const dataTable =\n",
              "            await google.colab.kernel.invokeFunction('convertToInteractive',\n",
              "                                                     [key], {});\n",
              "          if (!dataTable) return;\n",
              "\n",
              "          const docLinkHtml = 'Like what you see? Visit the ' +\n",
              "            '<a target=\"_blank\" href=https://colab.research.google.com/notebooks/data_table.ipynb>data table notebook</a>'\n",
              "            + ' to learn more about interactive tables.';\n",
              "          element.innerHTML = '';\n",
              "          dataTable['output_type'] = 'display_data';\n",
              "          await google.colab.output.renderOutput(dataTable, element);\n",
              "          const docLink = document.createElement('div');\n",
              "          docLink.innerHTML = docLinkHtml;\n",
              "          element.appendChild(docLink);\n",
              "        }\n",
              "      </script>\n",
              "    </div>\n",
              "  </div>\n",
              "  "
            ],
            "text/plain": [
              "        0_0  0_1  0_2  0_3  0_4  0_5  0_6  0_7  0_8  0_9  ...  0_16  0_17  \\\n",
              "154375    0    0    0    0    0    0    0    0    0    0  ...     0     0   \n",
              "228919    0    0    0    0    0    0    0    0    0    0  ...     0     1   \n",
              "350151    0    0    0    0    0    0    0    0    0    0  ...     0     0   \n",
              "73268     0    0    0    0    0    0    1    0    0    0  ...     0     0   \n",
              "135640    0    0    0    0    0    0    0    0    0    0  ...     0     0   \n",
              "...     ...  ...  ...  ...  ...  ...  ...  ...  ...  ...  ...   ...   ...   \n",
              "259178    0    0    0    0    0    0    0    0    0    0  ...     0     0   \n",
              "365838    0    0    0    0    0    0    0    0    0    0  ...     0     0   \n",
              "131932    0    0    0    0    0    0    0    0    0    0  ...     0     0   \n",
              "146867    0    0    0    0    0    0    0    0    0    0  ...     0     0   \n",
              "121958    0    0    0    0    0    0    0    0    0    0  ...     0     0   \n",
              "\n",
              "        0_18  0_19  0_20  0_21  0_22  0_23  0_24  0_25  \n",
              "154375     0     0     0     0     0     0     0     0  \n",
              "228919     0     0     0     0     0     0     0     0  \n",
              "350151     0     0     0     0     0     1     0     0  \n",
              "73268      0     0     0     0     0     0     0     0  \n",
              "135640     0     0     0     0     0     0     0     0  \n",
              "...      ...   ...   ...   ...   ...   ...   ...   ...  \n",
              "259178     1     0     0     0     0     0     0     0  \n",
              "365838     0     0     0     0     0     0     1     0  \n",
              "131932     0     0     0     0     0     0     0     0  \n",
              "146867     0     0     0     0     0     0     0     0  \n",
              "121958     0     0     0     0     0     0     0     0  \n",
              "\n",
              "[279337 rows x 26 columns]"
            ]
          },
          "execution_count": 23,
          "metadata": {},
          "output_type": "execute_result"
        }
      ],
      "source": [
        "y_train"
      ]
    },
    {
      "cell_type": "markdown",
      "metadata": {
        "id": "QB9ryspmZOpB"
      },
      "source": [
        "# Phase 2"
      ]
    },
    {
      "cell_type": "code",
      "execution_count": null,
      "metadata": {
        "id": "IOOdOlq3ZOJ_"
      },
      "outputs": [],
      "source": [
        "my_sgd = tf.keras.optimizers.SGD(learning_rate=0.01, momentum=0.0, nesterov=False, name='SGD')"
      ]
    },
    {
      "cell_type": "code",
      "execution_count": null,
      "metadata": {
        "id": "O76FNlQ_VrNO"
      },
      "outputs": [],
      "source": [
        "model = tf.keras.Sequential()\n",
        "model.add(tf.keras.layers.Dense(20,input_dim=784, activation='relu'))\n",
        "model.add(tf.keras.layers.Dense(20, activation='relu'))\n",
        "model.add(tf.keras.layers.Dense(26,activation='softmax'))"
      ]
    },
    {
      "cell_type": "code",
      "execution_count": null,
      "metadata": {
        "id": "oGUacmD7Zuec"
      },
      "outputs": [],
      "source": [
        "model.compile(optimizer=my_sgd, loss='categorical_crossentropy', metrics=['accuracy'])"
      ]
    },
    {
      "cell_type": "code",
      "execution_count": null,
      "metadata": {
        "id": "UUcBxpAtk1cn"
      },
      "outputs": [],
      "source": [
        "x_train=(x_train)/(255)"
      ]
    },
    {
      "cell_type": "code",
      "execution_count": null,
      "metadata": {
        "colab": {
          "base_uri": "https://localhost:8080/"
        },
        "id": "2zI2mpt53wpT",
        "outputId": "f9a270b2-f1d9-4e4a-a6cc-cabe9002a8ec"
      },
      "outputs": [
        {
          "data": {
            "text/plain": [
              "0.1      0.000000\n",
              "0.2      0.000000\n",
              "0.3      0.000000\n",
              "0.4      0.000000\n",
              "0.5      0.000000\n",
              "           ...   \n",
              "0.644    0.760784\n",
              "0.645    0.403922\n",
              "0.646    0.776471\n",
              "0.647    0.321569\n",
              "0.648    0.015686\n",
              "Length: 784, dtype: float64"
            ]
          },
          "execution_count": 29,
          "metadata": {},
          "output_type": "execute_result"
        }
      ],
      "source": [
        "x_train.max()"
      ]
    },
    {
      "cell_type": "code",
      "execution_count": null,
      "metadata": {
        "id": "8HprA0iqLQ6O"
      },
      "outputs": [],
      "source": [
        "x_test = x_test / 255"
      ]
    },
    {
      "cell_type": "code",
      "execution_count": null,
      "metadata": {
        "colab": {
          "base_uri": "https://localhost:8080/"
        },
        "id": "dn3i4IsNV3va",
        "outputId": "b09b7840-a644-463e-f07f-06cb9295d6f9"
      },
      "outputs": [
        {
          "name": "stdout",
          "output_type": "stream",
          "text": [
            "Epoch 1/10\n",
            "8730/8730 [==============================] - 19s 2ms/step - loss: 0.9410 - accuracy: 0.7417 - val_loss: 0.6023 - val_accuracy: 0.8288\n",
            "Epoch 2/10\n",
            "8730/8730 [==============================] - 18s 2ms/step - loss: 0.4977 - accuracy: 0.8652 - val_loss: 0.4530 - val_accuracy: 0.8764\n",
            "Epoch 3/10\n",
            "8730/8730 [==============================] - 20s 2ms/step - loss: 0.4145 - accuracy: 0.8875 - val_loss: 0.3801 - val_accuracy: 0.8965\n",
            "Epoch 4/10\n",
            "8730/8730 [==============================] - 22s 3ms/step - loss: 0.3662 - accuracy: 0.9004 - val_loss: 0.3461 - val_accuracy: 0.9049\n",
            "Epoch 5/10\n",
            "8730/8730 [==============================] - 21s 2ms/step - loss: 0.3357 - accuracy: 0.9088 - val_loss: 0.3203 - val_accuracy: 0.9119\n",
            "Epoch 6/10\n",
            "8730/8730 [==============================] - 18s 2ms/step - loss: 0.3143 - accuracy: 0.9149 - val_loss: 0.3072 - val_accuracy: 0.9155\n",
            "Epoch 7/10\n",
            "8730/8730 [==============================] - 18s 2ms/step - loss: 0.2983 - accuracy: 0.9191 - val_loss: 0.2914 - val_accuracy: 0.9203\n",
            "Epoch 8/10\n",
            "8730/8730 [==============================] - 20s 2ms/step - loss: 0.2860 - accuracy: 0.9226 - val_loss: 0.2821 - val_accuracy: 0.9226\n",
            "Epoch 9/10\n",
            "8730/8730 [==============================] - 21s 2ms/step - loss: 0.2766 - accuracy: 0.9245 - val_loss: 0.2753 - val_accuracy: 0.9252\n",
            "Epoch 10/10\n",
            "8730/8730 [==============================] - 20s 2ms/step - loss: 0.2698 - accuracy: 0.9265 - val_loss: 0.2877 - val_accuracy: 0.9203\n"
          ]
        }
      ],
      "source": [
        "x_train_arr = x_train.to_numpy()\n",
        "y_train_arr = y_train.to_numpy()\n",
        "x_test_arr = x_test.to_numpy()\n",
        "y_test_arr = y_test.to_numpy()\n",
        "\n",
        "log = model.fit(x=x_train_arr, epochs=10, y=y_train_arr, batch_size = 32, validation_data=(x_test_arr, y_test_arr))"
      ]
    },
    {
      "cell_type": "code",
      "execution_count": null,
      "metadata": {
        "colab": {
          "base_uri": "https://localhost:8080/"
        },
        "id": "6VLIpFHjFy6G",
        "outputId": "7fb6b2db-ca58-4578-d677-122c4f7f3467"
      },
      "outputs": [
        {
          "name": "stdout",
          "output_type": "stream",
          "text": [
            "Model: \"sequential\"\n",
            "_________________________________________________________________\n",
            " Layer (type)                Output Shape              Param #   \n",
            "=================================================================\n",
            " dense (Dense)               (None, 20)                15700     \n",
            "                                                                 \n",
            " dense_1 (Dense)             (None, 20)                420       \n",
            "                                                                 \n",
            " dense_2 (Dense)             (None, 26)                546       \n",
            "                                                                 \n",
            "=================================================================\n",
            "Total params: 16,666\n",
            "Trainable params: 16,666\n",
            "Non-trainable params: 0\n",
            "_________________________________________________________________\n"
          ]
        }
      ],
      "source": [
        "model.summary()"
      ]
    },
    {
      "cell_type": "code",
      "execution_count": null,
      "metadata": {
        "colab": {
          "base_uri": "https://localhost:8080/",
          "height": 683
        },
        "id": "v9TSCLKPGAxJ",
        "outputId": "3c6d512f-6433-4eca-f190-64272717f7f2"
      },
      "outputs": [
        {
          "data": {
            "image/png": "[encoded data removed]",
            "text/plain": [
              "<Figure size 720x360 with 1 Axes>"
            ]
          },
          "metadata": {},
          "output_type": "display_data"
        },
        {
          "data": {
            "image/png": "[encoded data removed]",
            "text/plain": [
              "<Figure size 720x360 with 1 Axes>"
            ]
          },
          "metadata": {},
          "output_type": "display_data"
        }
      ],
      "source": [
        "plt.figure(figsize=(10, 5))\n",
        "plt.plot(log.history['accuracy'], label = 'Train')\n",
        "plt.plot(log.history['val_accuracy'], label = 'Validation')\n",
        "plt.title('Model Accuracy')\n",
        "plt.xlabel('Epoch')\n",
        "plt.ylabel('Accuracy')\n",
        "plt.legend()\n",
        "plt.show()\n",
        "\n",
        "plt.figure(figsize=(10, 5))\n",
        "plt.plot(log.history['loss'], label = 'Train')\n",
        "plt.plot(log.history['val_loss'], label = 'Validation')\n",
        "plt.title('Model Loss')\n",
        "plt.xlabel('Epoch')\n",
        "plt.ylabel('Loss')\n",
        "plt.legend()\n",
        "plt.show()"
      ]
    },
    {
      "cell_type": "code",
      "execution_count": null,
      "metadata": {
        "colab": {
          "base_uri": "https://localhost:8080/"
        },
        "id": "h5H9em7nL2QY",
        "outputId": "ae04ce3d-b6af-4bcf-ca58-92fbbc52b6a1"
      },
      "outputs": [
        {
          "name": "stdout",
          "output_type": "stream",
          "text": [
            "8730/8730 [==============================] - 11s 1ms/step\n",
            "              precision    recall  f1-score   support\n",
            "\n",
            "           0       0.90      0.92      0.91     10413\n",
            "           1       0.88      0.87      0.87      6548\n",
            "           2       0.91      0.96      0.93     17458\n",
            "           3       0.86      0.85      0.85      7630\n",
            "           4       0.96      0.78      0.86      8637\n",
            "           5       0.94      0.81      0.87       879\n",
            "           6       0.90      0.80      0.84      4311\n",
            "           7       0.93      0.73      0.82      5400\n",
            "           8       0.89      0.84      0.86       820\n",
            "           9       0.92      0.81      0.87      6401\n",
            "          10       0.87      0.81      0.84      4182\n",
            "          11       0.93      0.95      0.94      8730\n",
            "          12       0.80      0.96      0.88      9273\n",
            "          13       0.85      0.92      0.88     14339\n",
            "          14       0.94      0.98      0.96     43227\n",
            "          15       0.93      0.98      0.95     14443\n",
            "          16       0.92      0.76      0.83      4337\n",
            "          17       0.84      0.88      0.86      8728\n",
            "          18       0.96      0.98      0.97     36450\n",
            "          19       0.97      0.97      0.97     16865\n",
            "          20       0.96      0.92      0.94     21723\n",
            "          21       0.95      0.95      0.95      3109\n",
            "          22       0.95      0.83      0.89      8062\n",
            "          23       0.93      0.87      0.90      4683\n",
            "          24       0.91      0.92      0.92      8141\n",
            "          25       0.95      0.89      0.92      4548\n",
            "\n",
            "    accuracy                           0.92    279337\n",
            "   macro avg       0.91      0.88      0.90    279337\n",
            "weighted avg       0.92      0.92      0.92    279337\n",
            "\n"
          ]
        }
      ],
      "source": [
        "x_train_pred = np.argmax(model.predict(x_train_arr, verbose = 1), axis = 1)\n",
        "rounded_labels=np.argmax(y_train_arr, axis=1)\n",
        "print(classification_report(rounded_labels, x_train_pred))"
      ]
    },
    {
      "cell_type": "code",
      "execution_count": null,
      "metadata": {
        "colab": {
          "base_uri": "https://localhost:8080/"
        },
        "id": "rixTH3pJNAUG",
        "outputId": "a5d3e148-b9ba-4989-cb7b-cd5a4d79b437"
      },
      "outputs": [
        {
          "name": "stdout",
          "output_type": "stream",
          "text": [
            "2910/2910 [==============================] - 4s 1ms/step\n",
            "              precision    recall  f1-score   support\n",
            "\n",
            "           0       0.89      0.91      0.90      3456\n",
            "           1       0.88      0.87      0.87      2120\n",
            "           2       0.92      0.95      0.94      5951\n",
            "           3       0.84      0.85      0.84      2504\n",
            "           4       0.96      0.78      0.86      2803\n",
            "           5       0.96      0.82      0.88       284\n",
            "           6       0.90      0.79      0.84      1451\n",
            "           7       0.90      0.73      0.81      1818\n",
            "           8       0.86      0.86      0.86       300\n",
            "           9       0.93      0.81      0.87      2092\n",
            "          10       0.89      0.79      0.84      1421\n",
            "          11       0.92      0.95      0.94      2856\n",
            "          12       0.80      0.96      0.88      3063\n",
            "          13       0.84      0.91      0.88      4671\n",
            "          14       0.94      0.98      0.96     14598\n",
            "          15       0.92      0.97      0.95      4898\n",
            "          16       0.92      0.76      0.83      1475\n",
            "          17       0.83      0.87      0.85      2838\n",
            "          18       0.96      0.97      0.97     11969\n",
            "          19       0.96      0.97      0.97      5630\n",
            "          20       0.96      0.91      0.93      7285\n",
            "          21       0.95      0.95      0.95      1073\n",
            "          22       0.94      0.82      0.88      2722\n",
            "          23       0.94      0.87      0.90      1589\n",
            "          24       0.91      0.92      0.91      2718\n",
            "          25       0.96      0.89      0.92      1528\n",
            "\n",
            "    accuracy                           0.92     93113\n",
            "   macro avg       0.91      0.88      0.89     93113\n",
            "weighted avg       0.92      0.92      0.92     93113\n",
            "\n"
          ]
        }
      ],
      "source": [
        "x_test_pred = np.argmax(model.predict(x_test_arr, verbose = 1), axis = 1)\n",
        "rounded_labels=np.argmax(y_test_arr, axis=1)\n",
        "print(classification_report(rounded_labels, x_test_pred))"
      ]
    },
    {
      "cell_type": "code",
      "execution_count": null,
      "metadata": {
        "id": "nEa54YKEdCiF"
      },
      "outputs": [],
      "source": [
        "model = tf.keras.Sequential()\n",
        "model.add(tf.keras.layers.Dense(20,input_dim=784, activation=tf.keras.layers.LeakyReLU(alpha=0.01)))\n",
        "model.add(tf.keras.layers.Dense(20, activation=tf.keras.layers.LeakyReLU(alpha=0.01)))\n",
        "model.add(tf.keras.layers.Dense(26,activation='softmax'))"
      ]
    },
    {
      "cell_type": "code",
      "execution_count": null,
      "metadata": {
        "id": "5VrZ6f3rdCiG"
      },
      "outputs": [],
      "source": [
        "model.compile(optimizer=my_sgd, loss='categorical_crossentropy', metrics=['accuracy'])"
      ]
    },
    {
      "cell_type": "code",
      "execution_count": null,
      "metadata": {
        "colab": {
          "base_uri": "https://localhost:8080/"
        },
        "id": "0wqC8phOdCiK",
        "outputId": "f5dc5d3e-0b73-4603-a9e2-b48457d4b6eb"
      },
      "outputs": [
        {
          "name": "stdout",
          "output_type": "stream",
          "text": [
            "Epoch 1/10\n",
            "8730/8730 [==============================] - 22s 2ms/step - loss: 0.7480 - accuracy: 0.7927 - val_loss: 0.4762 - val_accuracy: 0.8710\n",
            "Epoch 2/10\n",
            "8730/8730 [==============================] - 18s 2ms/step - loss: 0.4197 - accuracy: 0.8855 - val_loss: 0.3749 - val_accuracy: 0.8967\n",
            "Epoch 3/10\n",
            "8730/8730 [==============================] - 19s 2ms/step - loss: 0.3541 - accuracy: 0.9023 - val_loss: 0.3398 - val_accuracy: 0.9056\n",
            "Epoch 4/10\n",
            "8730/8730 [==============================] - 18s 2ms/step - loss: 0.3183 - accuracy: 0.9125 - val_loss: 0.3052 - val_accuracy: 0.9162\n",
            "Epoch 5/10\n",
            "8730/8730 [==============================] - 21s 2ms/step - loss: 0.2947 - accuracy: 0.9185 - val_loss: 0.2832 - val_accuracy: 0.9228\n",
            "Epoch 6/10\n",
            "8730/8730 [==============================] - 22s 3ms/step - loss: 0.2785 - accuracy: 0.9226 - val_loss: 0.2809 - val_accuracy: 0.9227\n",
            "Epoch 7/10\n",
            "8730/8730 [==============================] - 21s 2ms/step - loss: 0.2659 - accuracy: 0.9264 - val_loss: 0.2772 - val_accuracy: 0.9228\n",
            "Epoch 8/10\n",
            "8730/8730 [==============================] - 19s 2ms/step - loss: 0.2570 - accuracy: 0.9292 - val_loss: 0.2574 - val_accuracy: 0.9291\n",
            "Epoch 9/10\n",
            "8730/8730 [==============================] - 20s 2ms/step - loss: 0.2503 - accuracy: 0.9310 - val_loss: 0.2505 - val_accuracy: 0.9316\n",
            "Epoch 10/10\n",
            "8730/8730 [==============================] - 19s 2ms/step - loss: 0.2450 - accuracy: 0.9322 - val_loss: 0.2476 - val_accuracy: 0.9326\n"
          ]
        }
      ],
      "source": [
        "x_train_arr = x_train.to_numpy()\n",
        "y_train_arr = y_train.to_numpy()\n",
        "x_test_arr = x_test.to_numpy()\n",
        "y_test_arr = y_test.to_numpy()\n",
        "\n",
        "log = model.fit(x=x_train_arr, epochs=10, y=y_train_arr, batch_size = 32, validation_data=(x_test_arr, y_test_arr))"
      ]
    },
    {
      "cell_type": "code",
      "execution_count": null,
      "metadata": {
        "colab": {
          "base_uri": "https://localhost:8080/"
        },
        "id": "DwpkPr3-dCiL",
        "outputId": "10ed75b2-8552-4153-e511-16ba348b782c"
      },
      "outputs": [
        {
          "name": "stdout",
          "output_type": "stream",
          "text": [
            "Model: \"sequential_4\"\n",
            "_________________________________________________________________\n",
            " Layer (type)                Output Shape              Param #   \n",
            "=================================================================\n",
            " dense_12 (Dense)            (None, 20)                15700     \n",
            "                                                                 \n",
            " dense_13 (Dense)            (None, 20)                420       \n",
            "                                                                 \n",
            " dense_14 (Dense)            (None, 26)                546       \n",
            "                                                                 \n",
            "=================================================================\n",
            "Total params: 16,666\n",
            "Trainable params: 16,666\n",
            "Non-trainable params: 0\n",
            "_________________________________________________________________\n"
          ]
        }
      ],
      "source": [
        "model.summary()"
      ]
    },
    {
      "cell_type": "code",
      "execution_count": null,
      "metadata": {
        "colab": {
          "base_uri": "https://localhost:8080/",
          "height": 683
        },
        "id": "UtE_6mt3dCiM",
        "outputId": "e26de8c4-856a-462b-9649-e676abd8d7b7"
      },
      "outputs": [
        {
          "data": {
            "image/png": "[encoded data removed]",
            "text/plain": [
              "<Figure size 720x360 with 1 Axes>"
            ]
          },
          "metadata": {},
          "output_type": "display_data"
        },
        {
          "data": {
            "image/png": "[encoded data removed]",
            "text/plain": [
              "<Figure size 720x360 with 1 Axes>"
            ]
          },
          "metadata": {},
          "output_type": "display_data"
        }
      ],
      "source": [
        "plt.figure(figsize=(10, 5))\n",
        "plt.plot(log.history['accuracy'], label = 'Train')\n",
        "plt.plot(log.history['val_accuracy'], label = 'Validation')\n",
        "plt.title('Model Accuracy')\n",
        "plt.xlabel('Epoch')\n",
        "plt.ylabel('Accuracy')\n",
        "plt.legend()\n",
        "plt.show()\n",
        "\n",
        "plt.figure(figsize=(10, 5))\n",
        "plt.plot(log.history['loss'], label = 'Train')\n",
        "plt.plot(log.history['val_loss'], label = 'Validation')\n",
        "plt.title('Model Loss')\n",
        "plt.xlabel('Epoch')\n",
        "plt.ylabel('Loss')\n",
        "plt.legend()\n",
        "plt.show()"
      ]
    },
    {
      "cell_type": "code",
      "execution_count": null,
      "metadata": {
        "colab": {
          "base_uri": "https://localhost:8080/"
        },
        "id": "m2cZVzYrdCiO",
        "outputId": "9a48d267-3f62-4c23-aba2-a8950f53cda1"
      },
      "outputs": [
        {
          "name": "stdout",
          "output_type": "stream",
          "text": [
            "8730/8730 [==============================] - 16s 2ms/step\n",
            "              precision    recall  f1-score   support\n",
            "\n",
            "           0       0.94      0.89      0.91     10413\n",
            "           1       0.88      0.91      0.89      6548\n",
            "           2       0.96      0.95      0.95     17458\n",
            "           3       0.91      0.84      0.87      7630\n",
            "           4       0.91      0.89      0.90      8637\n",
            "           5       0.90      0.84      0.87       879\n",
            "           6       0.86      0.87      0.86      4311\n",
            "           7       0.87      0.83      0.85      5400\n",
            "           8       0.86      0.80      0.83       820\n",
            "           9       0.85      0.93      0.89      6401\n",
            "          10       0.88      0.85      0.86      4182\n",
            "          11       0.95      0.96      0.96      8730\n",
            "          12       0.94      0.94      0.94      9273\n",
            "          13       0.91      0.91      0.91     14339\n",
            "          14       0.97      0.97      0.97     43227\n",
            "          15       0.97      0.94      0.96     14443\n",
            "          16       0.80      0.90      0.84      4337\n",
            "          17       0.88      0.89      0.89      8728\n",
            "          18       0.97      0.97      0.97     36450\n",
            "          19       0.97      0.97      0.97     16865\n",
            "          20       0.92      0.97      0.94     21723\n",
            "          21       0.89      0.97      0.93      3109\n",
            "          22       0.92      0.91      0.91      8062\n",
            "          23       0.92      0.91      0.91      4683\n",
            "          24       0.94      0.90      0.92      8141\n",
            "          25       0.97      0.90      0.93      4548\n",
            "\n",
            "    accuracy                           0.94    279337\n",
            "   macro avg       0.91      0.91      0.91    279337\n",
            "weighted avg       0.94      0.94      0.94    279337\n",
            "\n"
          ]
        }
      ],
      "source": [
        "x_train_pred = np.argmax(model.predict(x_train_arr, verbose = 1), axis = 1)\n",
        "rounded_labels=np.argmax(y_train_arr, axis=1)\n",
        "print(classification_report(rounded_labels, x_train_pred))"
      ]
    },
    {
      "cell_type": "code",
      "execution_count": null,
      "metadata": {
        "colab": {
          "base_uri": "https://localhost:8080/"
        },
        "id": "qFvLCaKMdCiP",
        "outputId": "e0571f30-e9c3-436b-ae2d-fc6942a4b367"
      },
      "outputs": [
        {
          "name": "stdout",
          "output_type": "stream",
          "text": [
            "2910/2910 [==============================] - 4s 1ms/step\n",
            "              precision    recall  f1-score   support\n",
            "\n",
            "           0       0.93      0.88      0.90      3456\n",
            "           1       0.86      0.90      0.88      2120\n",
            "           2       0.96      0.94      0.95      5951\n",
            "           3       0.90      0.85      0.87      2504\n",
            "           4       0.91      0.89      0.90      2803\n",
            "           5       0.91      0.82      0.87       284\n",
            "           6       0.86      0.86      0.86      1451\n",
            "           7       0.87      0.84      0.85      1818\n",
            "           8       0.87      0.82      0.84       300\n",
            "           9       0.84      0.92      0.88      2092\n",
            "          10       0.88      0.84      0.86      1421\n",
            "          11       0.95      0.97      0.96      2856\n",
            "          12       0.93      0.94      0.93      3063\n",
            "          13       0.91      0.90      0.91      4671\n",
            "          14       0.96      0.97      0.97     14598\n",
            "          15       0.97      0.94      0.96      4898\n",
            "          16       0.80      0.87      0.83      1475\n",
            "          17       0.88      0.88      0.88      2838\n",
            "          18       0.98      0.97      0.97     11969\n",
            "          19       0.97      0.96      0.96      5630\n",
            "          20       0.92      0.97      0.94      7285\n",
            "          21       0.89      0.97      0.93      1073\n",
            "          22       0.91      0.91      0.91      2722\n",
            "          23       0.92      0.91      0.92      1589\n",
            "          24       0.94      0.89      0.91      2718\n",
            "          25       0.96      0.90      0.93      1528\n",
            "\n",
            "    accuracy                           0.93     93113\n",
            "   macro avg       0.91      0.90      0.91     93113\n",
            "weighted avg       0.93      0.93      0.93     93113\n",
            "\n"
          ]
        }
      ],
      "source": [
        "x_test_pred = np.argmax(model.predict(x_test_arr, verbose = 1), axis = 1)\n",
        "rounded_labels=np.argmax(y_test_arr, axis=1)\n",
        "print(classification_report(rounded_labels, x_test_pred))"
      ]
    },
    {
      "cell_type": "markdown",
      "metadata": {
        "id": "YDq56XDXRCLX"
      },
      "source": [
        "# Phase 3"
      ]
    },
    {
      "cell_type": "markdown",
      "metadata": {
        "id": "UkHThj9MU_X8"
      },
      "source": [
        "## Part 1"
      ]
    },
    {
      "cell_type": "markdown",
      "metadata": {
        "id": "F06jrvIUVBac"
      },
      "source": [
        "### 1. What is momentum?\n",
        "**What is momentum and why is it useful?**<br>\n",
        "Momentum is a widely-used strategy for accelerating the convergence of gradient-based optimization techniques.\n",
        "\n",
        "Momentum is an average of gradients that changes during the time and we use it to update weight in each step. Therefore, it leads to faster convergence.\n",
        "\n",
        "Normally, the updates to weights are product of learning rate and the gradiant of error/loss. But if we use momentum, we add a new term. For each new weight update, we add the product of momentum value and the previous update. So the previous updates are considered on each. Because of this one batch can't change the direction of descent if most of the previous batchs were moving toward a direction.\n",
        "\n",
        "Using momentum the learning will happen faster as we will have bigger updates. It can also help us to skip the local minima because of the big update.\n",
        "Momentum is a method that helps accelerate SGD in the relevant direction and dampens oscillations. It does this by adding a fraction $\\gamma$\n",
        "of the update vector of the past time step to the current update vector:\n",
        "$Δ w_{i,j} = (\\gamma*Δ w_{i,j}^{t-1}) - (η * \\frac{\\partial E}{\\partial w_{i,j}}) ⇒ w_{i,j} = w_{i,j} + Δ w_{i,j}$ <br>\n",
        "The momentum term increases for dimensions whose gradients point in the same directions and reduces updates for dimensions whose gradients change directions. As a result, we gain faster convergence and reduced oscillation. This leads to speeding up learning and not getting stuck in local minima."
      ]
    },
    {
      "cell_type": "markdown",
      "metadata": {
        "id": "9mGvz8iGVGKT"
      },
      "source": [
        "### 2. Different momentums"
      ]
    },
    {
      "cell_type": "code",
      "execution_count": null,
      "metadata": {
        "id": "KWq92CVgREUO"
      },
      "outputs": [],
      "source": [
        "my_sgd = tf.keras.optimizers.SGD(learning_rate=0.01, momentum=0.5, nesterov=False, name='SGD')"
      ]
    },
    {
      "cell_type": "code",
      "execution_count": null,
      "metadata": {
        "id": "UN5WB5PLh2jL"
      },
      "outputs": [],
      "source": [
        "model = tf.keras.Sequential()\n",
        "model.add(tf.keras.layers.Dense(20,input_dim=784, activation=tf.keras.layers.LeakyReLU(alpha=0.01)))\n",
        "model.add(tf.keras.layers.Dense(20, activation=tf.keras.layers.LeakyReLU(alpha=0.01)))\n",
        "model.add(tf.keras.layers.Dense(26,activation='softmax'))"
      ]
    },
    {
      "cell_type": "code",
      "execution_count": null,
      "metadata": {
        "id": "81GlvZkyh2jM"
      },
      "outputs": [],
      "source": [
        "model.compile(optimizer=my_sgd, loss='categorical_crossentropy', metrics=['accuracy'])"
      ]
    },
    {
      "cell_type": "code",
      "execution_count": null,
      "metadata": {
        "colab": {
          "base_uri": "https://localhost:8080/"
        },
        "id": "DHmyN35vSjwo",
        "outputId": "7a2d6f87-8bf1-45d8-d603-6c1e61eeabc3"
      },
      "outputs": [
        {
          "name": "stdout",
          "output_type": "stream",
          "text": [
            "Epoch 1/10\n",
            "8730/8730 [==============================] - 24s 3ms/step - loss: 0.7368 - accuracy: 0.7942 - val_loss: 0.4310 - val_accuracy: 0.8823\n",
            "Epoch 2/10\n",
            "8730/8730 [==============================] - 18s 2ms/step - loss: 0.3819 - accuracy: 0.8954 - val_loss: 0.3402 - val_accuracy: 0.9073\n",
            "Epoch 3/10\n",
            "8730/8730 [==============================] - 20s 2ms/step - loss: 0.3224 - accuracy: 0.9104 - val_loss: 0.3053 - val_accuracy: 0.9144\n",
            "Epoch 4/10\n",
            "8730/8730 [==============================] - 20s 2ms/step - loss: 0.2901 - accuracy: 0.9195 - val_loss: 0.2823 - val_accuracy: 0.9213\n",
            "Epoch 5/10\n",
            "8730/8730 [==============================] - 20s 2ms/step - loss: 0.2697 - accuracy: 0.9250 - val_loss: 0.2671 - val_accuracy: 0.9268\n",
            "Epoch 6/10\n",
            "8730/8730 [==============================] - 18s 2ms/step - loss: 0.2560 - accuracy: 0.9285 - val_loss: 0.2503 - val_accuracy: 0.9310\n",
            "Epoch 7/10\n",
            "8730/8730 [==============================] - 18s 2ms/step - loss: 0.2461 - accuracy: 0.9311 - val_loss: 0.2657 - val_accuracy: 0.9250\n",
            "Epoch 8/10\n",
            "8730/8730 [==============================] - 20s 2ms/step - loss: 0.2389 - accuracy: 0.9336 - val_loss: 0.2360 - val_accuracy: 0.9345\n",
            "Epoch 9/10\n",
            "8730/8730 [==============================] - 20s 2ms/step - loss: 0.2333 - accuracy: 0.9345 - val_loss: 0.2352 - val_accuracy: 0.9344\n",
            "Epoch 10/10\n",
            "8730/8730 [==============================] - 18s 2ms/step - loss: 0.2287 - accuracy: 0.9359 - val_loss: 0.2280 - val_accuracy: 0.9363\n"
          ]
        }
      ],
      "source": [
        "log = model.fit(x=x_train_arr, epochs=10, y=y_train_arr, batch_size = 32, validation_data=(x_test_arr, y_test_arr))"
      ]
    },
    {
      "cell_type": "code",
      "execution_count": null,
      "metadata": {
        "colab": {
          "base_uri": "https://localhost:8080/",
          "height": 683
        },
        "id": "bcaWkl5iS1Xm",
        "outputId": "0321df20-618c-4e05-f33f-9a138ee63473"
      },
      "outputs": [
        {
          "data": {
            "image/png": "[encoded data removed]",
            "text/plain": [
              "<Figure size 720x360 with 1 Axes>"
            ]
          },
          "metadata": {},
          "output_type": "display_data"
        },
        {
          "data": {
            "image/png": "[encoded data removed]",
            "text/plain": [
              "<Figure size 720x360 with 1 Axes>"
            ]
          },
          "metadata": {},
          "output_type": "display_data"
        }
      ],
      "source": [
        "plt.figure(figsize=(10, 5))\n",
        "plt.plot(log.history['accuracy'], label = 'Train')\n",
        "plt.plot(log.history['val_accuracy'], label = 'Validation')\n",
        "plt.title('Model Accuracy')\n",
        "plt.xlabel('Epoch')\n",
        "plt.ylabel('Accuracy')\n",
        "plt.legend()\n",
        "plt.show()\n",
        "\n",
        "plt.figure(figsize=(10, 5))\n",
        "plt.plot(log.history['loss'], label = 'Train')\n",
        "plt.plot(log.history['val_loss'], label = 'Validation')\n",
        "plt.title('Model Loss')\n",
        "plt.xlabel('Epoch')\n",
        "plt.ylabel('Loss')\n",
        "plt.legend()\n",
        "plt.show()"
      ]
    },
    {
      "cell_type": "code",
      "execution_count": null,
      "metadata": {
        "colab": {
          "base_uri": "https://localhost:8080/"
        },
        "id": "lHVS4CBvTopB",
        "outputId": "a22b0e75-4731-4f72-b0fc-7cd1715e9c82"
      },
      "outputs": [
        {
          "name": "stdout",
          "output_type": "stream",
          "text": [
            "2910/2910 [==============================] - 4s 1ms/step\n",
            "              precision    recall  f1-score   support\n",
            "\n",
            "           0       0.88      0.94      0.91      3456\n",
            "           1       0.93      0.86      0.89      2120\n",
            "           2       0.96      0.96      0.96      5951\n",
            "           3       0.90      0.88      0.89      2504\n",
            "           4       0.92      0.88      0.90      2803\n",
            "           5       0.92      0.79      0.85       284\n",
            "           6       0.82      0.86      0.84      1451\n",
            "           7       0.89      0.83      0.86      1818\n",
            "           8       0.90      0.80      0.84       300\n",
            "           9       0.92      0.89      0.90      2092\n",
            "          10       0.85      0.86      0.86      1421\n",
            "          11       0.96      0.95      0.95      2856\n",
            "          12       0.93      0.94      0.94      3063\n",
            "          13       0.89      0.92      0.91      4671\n",
            "          14       0.97      0.97      0.97     14598\n",
            "          15       0.94      0.97      0.95      4898\n",
            "          16       0.85      0.86      0.86      1475\n",
            "          17       0.90      0.89      0.89      2838\n",
            "          18       0.98      0.97      0.98     11969\n",
            "          19       0.96      0.97      0.96      5630\n",
            "          20       0.95      0.96      0.95      7285\n",
            "          21       0.94      0.95      0.95      1073\n",
            "          22       0.87      0.93      0.90      2722\n",
            "          23       0.89      0.92      0.91      1589\n",
            "          24       0.92      0.91      0.92      2718\n",
            "          25       0.95      0.90      0.92      1528\n",
            "\n",
            "    accuracy                           0.94     93113\n",
            "   macro avg       0.92      0.91      0.91     93113\n",
            "weighted avg       0.94      0.94      0.94     93113\n",
            "\n"
          ]
        }
      ],
      "source": [
        "x_test_pred = np.argmax(model.predict(x_test_arr, verbose = 1), axis = 1)\n",
        "rounded_labels=np.argmax(y_test_arr, axis=1)\n",
        "print(classification_report(rounded_labels, x_test_pred))"
      ]
    },
    {
      "cell_type": "markdown",
      "metadata": {
        "id": "D0C0Av5G95jM"
      },
      "source": [
        "As can be seen above, the model with momentum = 0.5 has a little increase in f1-accuracy compared to model with momentum = 0."
      ]
    },
    {
      "cell_type": "code",
      "execution_count": null,
      "metadata": {
        "id": "8ewKfJ9tUSKY"
      },
      "outputs": [],
      "source": [
        "my_sgd = tf.keras.optimizers.SGD(learning_rate=0.01, momentum=0.9, nesterov=False, name='SGD')"
      ]
    },
    {
      "cell_type": "code",
      "execution_count": null,
      "metadata": {
        "id": "xWnIUqsfjMtY"
      },
      "outputs": [],
      "source": [
        "model = tf.keras.Sequential()\n",
        "model.add(tf.keras.layers.Dense(20,input_dim=784, activation=tf.keras.layers.LeakyReLU(alpha=0.01)))\n",
        "model.add(tf.keras.layers.Dense(20, activation=tf.keras.layers.LeakyReLU(alpha=0.01)))\n",
        "model.add(tf.keras.layers.Dense(26,activation='softmax'))"
      ]
    },
    {
      "cell_type": "code",
      "execution_count": null,
      "metadata": {
        "id": "h6Fb-YD6jMta"
      },
      "outputs": [],
      "source": [
        "model.compile(optimizer=my_sgd, loss='categorical_crossentropy', metrics=['accuracy'])"
      ]
    },
    {
      "cell_type": "code",
      "execution_count": null,
      "metadata": {
        "colab": {
          "base_uri": "https://localhost:8080/"
        },
        "id": "B4DTeBUxUWjQ",
        "outputId": "0e7381ad-0861-447e-fc06-19199b245f5d"
      },
      "outputs": [
        {
          "name": "stdout",
          "output_type": "stream",
          "text": [
            "Epoch 1/10\n",
            "8730/8730 [==============================] - 19s 2ms/step - loss: 0.4926 - accuracy: 0.8620 - val_loss: 0.3444 - val_accuracy: 0.9041\n",
            "Epoch 2/10\n",
            "8730/8730 [==============================] - 19s 2ms/step - loss: 0.3204 - accuracy: 0.9097 - val_loss: 0.2891 - val_accuracy: 0.9193\n",
            "Epoch 3/10\n",
            "8730/8730 [==============================] - 19s 2ms/step - loss: 0.2902 - accuracy: 0.9172 - val_loss: 0.2826 - val_accuracy: 0.9192\n",
            "Epoch 4/10\n",
            "8730/8730 [==============================] - 21s 2ms/step - loss: 0.2769 - accuracy: 0.9212 - val_loss: 0.2809 - val_accuracy: 0.9192\n",
            "Epoch 5/10\n",
            "8730/8730 [==============================] - 18s 2ms/step - loss: 0.2662 - accuracy: 0.9244 - val_loss: 0.2748 - val_accuracy: 0.9233\n",
            "Epoch 6/10\n",
            "8730/8730 [==============================] - 18s 2ms/step - loss: 0.2604 - accuracy: 0.9260 - val_loss: 0.2427 - val_accuracy: 0.9306\n",
            "Epoch 7/10\n",
            "8730/8730 [==============================] - 22s 2ms/step - loss: 0.2537 - accuracy: 0.9279 - val_loss: 0.2501 - val_accuracy: 0.9298\n",
            "Epoch 8/10\n",
            "8730/8730 [==============================] - 19s 2ms/step - loss: 0.2491 - accuracy: 0.9288 - val_loss: 0.2670 - val_accuracy: 0.9250\n",
            "Epoch 9/10\n",
            "8730/8730 [==============================] - 19s 2ms/step - loss: 0.2438 - accuracy: 0.9308 - val_loss: 0.2696 - val_accuracy: 0.9244\n",
            "Epoch 10/10\n",
            "8730/8730 [==============================] - 20s 2ms/step - loss: 0.2425 - accuracy: 0.9312 - val_loss: 0.2558 - val_accuracy: 0.9283\n"
          ]
        }
      ],
      "source": [
        "log = model.fit(x=x_train_arr, epochs=10, y=y_train_arr, batch_size = 32, validation_data=(x_test_arr, y_test_arr))"
      ]
    },
    {
      "cell_type": "code",
      "execution_count": null,
      "metadata": {
        "colab": {
          "base_uri": "https://localhost:8080/",
          "height": 683
        },
        "id": "GS_WHbzWUZaq",
        "outputId": "621d1975-8214-4b36-dcb7-312fcba52d59"
      },
      "outputs": [
        {
          "data": {
            "image/png": "[encoded data removed]",
            "text/plain": [
              "<Figure size 720x360 with 1 Axes>"
            ]
          },
          "metadata": {},
          "output_type": "display_data"
        },
        {
          "data": {
            "image/png": "[encoded data removed]",
            "text/plain": [
              "<Figure size 720x360 with 1 Axes>"
            ]
          },
          "metadata": {},
          "output_type": "display_data"
        }
      ],
      "source": [
        "plt.figure(figsize=(10, 5))\n",
        "plt.plot(log.history['accuracy'], label = 'Train')\n",
        "plt.plot(log.history['val_accuracy'], label = 'Validation')\n",
        "plt.title('Model Accuracy')\n",
        "plt.xlabel('Epoch')\n",
        "plt.ylabel('Accuracy')\n",
        "plt.legend()\n",
        "plt.show()\n",
        "\n",
        "plt.figure(figsize=(10, 5))\n",
        "plt.plot(log.history['loss'], label = 'Train')\n",
        "plt.plot(log.history['val_loss'], label = 'Validation')\n",
        "plt.title('Model Loss')\n",
        "plt.xlabel('Epoch')\n",
        "plt.ylabel('Loss')\n",
        "plt.legend()\n",
        "plt.show()"
      ]
    },
    {
      "cell_type": "code",
      "execution_count": null,
      "metadata": {
        "colab": {
          "base_uri": "https://localhost:8080/"
        },
        "id": "x8oLIukaUcHK",
        "outputId": "888b9f1c-5f12-4212-f627-c2d49793a4c2"
      },
      "outputs": [
        {
          "name": "stdout",
          "output_type": "stream",
          "text": [
            "2910/2910 [==============================] - 4s 1ms/step\n",
            "              precision    recall  f1-score   support\n",
            "\n",
            "           0       0.93      0.86      0.89      3456\n",
            "           1       0.91      0.84      0.87      2120\n",
            "           2       0.94      0.96      0.95      5951\n",
            "           3       0.91      0.88      0.89      2504\n",
            "           4       0.93      0.89      0.91      2803\n",
            "           5       0.94      0.81      0.87       284\n",
            "           6       0.92      0.81      0.86      1451\n",
            "           7       0.65      0.93      0.76      1818\n",
            "           8       0.92      0.79      0.85       300\n",
            "           9       0.92      0.88      0.90      2092\n",
            "          10       0.81      0.87      0.84      1421\n",
            "          11       0.93      0.98      0.95      2856\n",
            "          12       0.94      0.93      0.94      3063\n",
            "          13       0.94      0.87      0.90      4671\n",
            "          14       0.98      0.96      0.97     14598\n",
            "          15       0.96      0.94      0.95      4898\n",
            "          16       0.77      0.87      0.82      1475\n",
            "          17       0.81      0.93      0.87      2838\n",
            "          18       0.97      0.98      0.98     11969\n",
            "          19       0.99      0.96      0.97      5630\n",
            "          20       0.90      0.97      0.94      7285\n",
            "          21       0.97      0.93      0.95      1073\n",
            "          22       0.94      0.88      0.91      2722\n",
            "          23       0.91      0.89      0.90      1589\n",
            "          24       0.95      0.84      0.89      2718\n",
            "          25       0.89      0.94      0.91      1528\n",
            "\n",
            "    accuracy                           0.93     93113\n",
            "   macro avg       0.91      0.90      0.90     93113\n",
            "weighted avg       0.93      0.93      0.93     93113\n",
            "\n"
          ]
        }
      ],
      "source": [
        "x_test_pred = np.argmax(model.predict(x_test_arr, verbose = 1), axis = 1)\n",
        "rounded_labels=np.argmax(y_test_arr, axis=1)\n",
        "print(classification_report(rounded_labels, x_test_pred))"
      ]
    },
    {
      "cell_type": "markdown",
      "metadata": {
        "id": "ky9cUchh9TSw"
      },
      "source": [
        "As can be seen above, the model with momentum = 0.9 has no increase in f1-accuracy compared to model with momentum = 0."
      ]
    },
    {
      "cell_type": "code",
      "execution_count": null,
      "metadata": {
        "id": "8i8Sisx4VQyc"
      },
      "outputs": [],
      "source": [
        "my_sgd = tf.keras.optimizers.SGD(learning_rate=0.01, momentum=0.98, nesterov=False, name='SGD')"
      ]
    },
    {
      "cell_type": "code",
      "execution_count": null,
      "metadata": {
        "id": "_Fusob3MktAt"
      },
      "outputs": [],
      "source": [
        "model = tf.keras.Sequential()\n",
        "model.add(tf.keras.layers.Dense(20,input_dim=784, activation=tf.keras.layers.LeakyReLU(alpha=0.01)))\n",
        "model.add(tf.keras.layers.Dense(20, activation=tf.keras.layers.LeakyReLU(alpha=0.01)))\n",
        "model.add(tf.keras.layers.Dense(26,activation='softmax'))"
      ]
    },
    {
      "cell_type": "code",
      "execution_count": null,
      "metadata": {
        "id": "kdvEvd4QktAv"
      },
      "outputs": [],
      "source": [
        "model.compile(optimizer=my_sgd, loss='categorical_crossentropy', metrics=['accuracy'])"
      ]
    },
    {
      "cell_type": "code",
      "execution_count": null,
      "metadata": {
        "colab": {
          "base_uri": "https://localhost:8080/"
        },
        "id": "8YTq_tHPk3wa",
        "outputId": "fed21eba-57cc-4b51-8ca9-3a3d5d5ec239"
      },
      "outputs": [
        {
          "name": "stdout",
          "output_type": "stream",
          "text": [
            "Epoch 1/10\n",
            "8730/8730 [==============================] - 21s 2ms/step - loss: 0.8111 - accuracy: 0.7811 - val_loss: 0.7543 - val_accuracy: 0.8059\n",
            "Epoch 2/10\n",
            "8730/8730 [==============================] - 19s 2ms/step - loss: 0.6889 - accuracy: 0.8219 - val_loss: 0.6837 - val_accuracy: 0.8284\n",
            "Epoch 3/10\n",
            "8730/8730 [==============================] - 18s 2ms/step - loss: 0.6026 - accuracy: 0.8395 - val_loss: 0.5128 - val_accuracy: 0.8580\n",
            "Epoch 4/10\n",
            "8730/8730 [==============================] - 20s 2ms/step - loss: 0.4667 - accuracy: 0.8710 - val_loss: 0.4147 - val_accuracy: 0.8864\n",
            "Epoch 5/10\n",
            "8730/8730 [==============================] - 18s 2ms/step - loss: 0.4040 - accuracy: 0.8886 - val_loss: 0.3911 - val_accuracy: 0.8912\n",
            "Epoch 6/10\n",
            "8730/8730 [==============================] - 19s 2ms/step - loss: 0.3818 - accuracy: 0.8949 - val_loss: 0.3676 - val_accuracy: 0.8989\n",
            "Epoch 7/10\n",
            "8730/8730 [==============================] - 20s 2ms/step - loss: 0.3664 - accuracy: 0.8988 - val_loss: 0.3522 - val_accuracy: 0.9028\n",
            "Epoch 8/10\n",
            "8730/8730 [==============================] - 20s 2ms/step - loss: 0.3539 - accuracy: 0.9020 - val_loss: 0.3505 - val_accuracy: 0.9019\n",
            "Epoch 9/10\n",
            "8730/8730 [==============================] - 19s 2ms/step - loss: 0.3436 - accuracy: 0.9050 - val_loss: 0.3470 - val_accuracy: 0.9018\n",
            "Epoch 10/10\n",
            "8730/8730 [==============================] - 21s 2ms/step - loss: 0.3391 - accuracy: 0.9062 - val_loss: 0.3426 - val_accuracy: 0.9058\n"
          ]
        }
      ],
      "source": [
        "log = model.fit(x=x_train_arr, epochs=10, y=y_train_arr, batch_size = 32, validation_data=(x_test_arr, y_test_arr))"
      ]
    },
    {
      "cell_type": "code",
      "execution_count": null,
      "metadata": {
        "colab": {
          "base_uri": "https://localhost:8080/",
          "height": 683
        },
        "id": "eia9kxUQVbJN",
        "outputId": "adf25d96-23d4-4477-c50d-060064929908"
      },
      "outputs": [
        {
          "data": {
            "image/png": "[encoded data removed]",
            "text/plain": [
              "<Figure size 720x360 with 1 Axes>"
            ]
          },
          "metadata": {},
          "output_type": "display_data"
        },
        {
          "data": {
            "image/png": "[encoded data removed]",
            "text/plain": [
              "<Figure size 720x360 with 1 Axes>"
            ]
          },
          "metadata": {},
          "output_type": "display_data"
        }
      ],
      "source": [
        "plt.figure(figsize=(10, 5))\n",
        "plt.plot(log.history['accuracy'], label = 'Train')\n",
        "plt.plot(log.history['val_accuracy'], label = 'Validation')\n",
        "plt.title('Model Accuracy')\n",
        "plt.xlabel('Epoch')\n",
        "plt.ylabel('Accuracy')\n",
        "plt.legend()\n",
        "plt.show()\n",
        "\n",
        "plt.figure(figsize=(10, 5))\n",
        "plt.plot(log.history['loss'], label = 'Train')\n",
        "plt.plot(log.history['val_loss'], label = 'Validation')\n",
        "plt.title('Model Loss')\n",
        "plt.xlabel('Epoch')\n",
        "plt.ylabel('Loss')\n",
        "plt.legend()\n",
        "plt.show()"
      ]
    },
    {
      "cell_type": "code",
      "execution_count": null,
      "metadata": {
        "colab": {
          "base_uri": "https://localhost:8080/"
        },
        "id": "xkI25dDyVkTa",
        "outputId": "f3aa76c1-0874-438b-87d6-4c4a5250d9fc"
      },
      "outputs": [
        {
          "name": "stdout",
          "output_type": "stream",
          "text": [
            "2910/2910 [==============================] - 4s 1ms/step\n",
            "              precision    recall  f1-score   support\n",
            "\n",
            "           0       0.90      0.82      0.86      3456\n",
            "           1       0.88      0.81      0.84      2120\n",
            "           2       0.93      0.94      0.93      5951\n",
            "           3       0.84      0.83      0.84      2504\n",
            "           4       0.89      0.85      0.87      2803\n",
            "           5       0.86      0.87      0.86       284\n",
            "           6       0.88      0.77      0.82      1451\n",
            "           7       0.82      0.67      0.74      1818\n",
            "           8       0.98      0.40      0.57       300\n",
            "           9       0.91      0.82      0.86      2092\n",
            "          10       0.83      0.72      0.77      1421\n",
            "          11       0.93      0.94      0.93      2856\n",
            "          12       0.87      0.92      0.90      3063\n",
            "          13       0.78      0.89      0.83      4671\n",
            "          14       0.96      0.96      0.96     14598\n",
            "          15       0.92      0.96      0.94      4898\n",
            "          16       0.82      0.81      0.82      1475\n",
            "          17       0.85      0.83      0.84      2838\n",
            "          18       0.96      0.97      0.97     11969\n",
            "          19       0.97      0.95      0.96      5630\n",
            "          20       0.91      0.93      0.92      7285\n",
            "          21       0.88      0.92      0.90      1073\n",
            "          22       0.81      0.89      0.85      2722\n",
            "          23       0.85      0.89      0.87      1589\n",
            "          24       0.89      0.89      0.89      2718\n",
            "          25       0.82      0.93      0.87      1528\n",
            "\n",
            "    accuracy                           0.91     93113\n",
            "   macro avg       0.88      0.85      0.86     93113\n",
            "weighted avg       0.91      0.91      0.90     93113\n",
            "\n"
          ]
        }
      ],
      "source": [
        "x_test_pred = np.argmax(model.predict(x_test_arr, verbose = 1), axis = 1)\n",
        "rounded_labels=np.argmax(y_test_arr, axis=1)\n",
        "print(classification_report(rounded_labels, x_test_pred))"
      ]
    },
    {
      "cell_type": "markdown",
      "metadata": {
        "id": "SLYzZu7t9Qk6"
      },
      "source": [
        "As can be seen above, this model with momentum = 0.98 is not accurate compared to the model with momentum = 0, because increasing the momentum leads to jumping over global minimum/maximum.\n",
        "\n",
        "---\n",
        "\n"
      ]
    },
    {
      "cell_type": "markdown",
      "metadata": {
        "id": "rZ9Gk1QR-GgC"
      },
      "source": [
        "Note that while bigger momentum might seem like a good choice, by choosing greater values, we are averaging over bigger numbers of points and therefore taking bigger steps at each run.\n",
        "\n",
        "We can clearly see the impact of taking bigger steps that have generated some gaps in our plots. However, accuracy is doing much better with momentum equal to 0.5."
      ]
    },
    {
      "cell_type": "markdown",
      "metadata": {
        "id": "lxeCufukXj7E"
      },
      "source": [
        "### 3. impact of increasing momentum\n",
        "**Does the result always improve with increasing momentum?**<br>\n",
        "If the momentum term is large then the learning rate should be kept smaller. A large value of momentum also means that the convergence will happen fast. But if both the momentum and learning rate are kept at large values, then you might skip the minimum with a huge step."
      ]
    },
    {
      "cell_type": "markdown",
      "metadata": {
        "id": "KC8EQZEBXoL6"
      },
      "source": [
        "### 4. adam optimizer\n"
      ]
    },
    {
      "cell_type": "code",
      "execution_count": null,
      "metadata": {
        "id": "6lhAHnffmPxe"
      },
      "outputs": [],
      "source": [
        "model = tf.keras.Sequential()\n",
        "model.add(tf.keras.layers.Dense(20,input_dim=784, activation=tf.keras.layers.LeakyReLU(alpha=0.01)))\n",
        "model.add(tf.keras.layers.Dense(20, activation=tf.keras.layers.LeakyReLU(alpha=0.01)))\n",
        "model.add(tf.keras.layers.Dense(26,activation='softmax'))"
      ]
    },
    {
      "cell_type": "code",
      "execution_count": null,
      "metadata": {
        "id": "SFPoa4g2mPxg"
      },
      "outputs": [],
      "source": [
        "model.compile(optimizer=tf.keras.optimizers.Adam(), loss='categorical_crossentropy', metrics=['accuracy'])"
      ]
    },
    {
      "cell_type": "code",
      "execution_count": null,
      "metadata": {
        "id": "g-ChgWh-n8Qj"
      },
      "outputs": [],
      "source": [
        "x_train_arr = x_train.to_numpy()\n",
        "y_train_arr = y_train.to_numpy()\n",
        "x_test_arr = x_test.to_numpy()\n",
        "y_test_arr = y_test.to_numpy()"
      ]
    },
    {
      "cell_type": "code",
      "execution_count": null,
      "metadata": {
        "colab": {
          "base_uri": "https://localhost:8080/"
        },
        "id": "NRnaEQByX4Xt",
        "outputId": "9c0eb9c7-5785-45fe-aa3d-8a06eb9f0eb0"
      },
      "outputs": [
        {
          "name": "stdout",
          "output_type": "stream",
          "text": [
            "Epoch 1/10\n",
            "8730/8730 [==============================] - 27s 3ms/step - loss: 1.1228 - accuracy: 0.6955 - val_loss: 0.5746 - val_accuracy: 0.8435\n",
            "Epoch 2/10\n",
            "8730/8730 [==============================] - 20s 2ms/step - loss: 0.4946 - accuracy: 0.8631 - val_loss: 0.3934 - val_accuracy: 0.8917\n",
            "Epoch 3/10\n",
            "8730/8730 [==============================] - 24s 3ms/step - loss: 0.3749 - accuracy: 0.8958 - val_loss: 0.3625 - val_accuracy: 0.8999\n",
            "Epoch 4/10\n",
            "8730/8730 [==============================] - 20s 2ms/step - loss: 0.3345 - accuracy: 0.9071 - val_loss: 0.3236 - val_accuracy: 0.9141\n",
            "Epoch 5/10\n",
            "8730/8730 [==============================] - 21s 2ms/step - loss: 0.3135 - accuracy: 0.9135 - val_loss: 0.2978 - val_accuracy: 0.9191\n",
            "Epoch 6/10\n",
            "8730/8730 [==============================] - 22s 3ms/step - loss: 0.3049 - accuracy: 0.9161 - val_loss: 0.3287 - val_accuracy: 0.9081\n",
            "Epoch 7/10\n",
            "8730/8730 [==============================] - 21s 2ms/step - loss: 0.2942 - accuracy: 0.9187 - val_loss: 0.3155 - val_accuracy: 0.9128\n",
            "Epoch 8/10\n",
            "8730/8730 [==============================] - 23s 3ms/step - loss: 0.2874 - accuracy: 0.9208 - val_loss: 0.2935 - val_accuracy: 0.9198\n",
            "Epoch 9/10\n",
            "8730/8730 [==============================] - 22s 3ms/step - loss: 0.2830 - accuracy: 0.9222 - val_loss: 0.2686 - val_accuracy: 0.9279\n",
            "Epoch 10/10\n",
            "8730/8730 [==============================] - 21s 2ms/step - loss: 0.2764 - accuracy: 0.9242 - val_loss: 0.2870 - val_accuracy: 0.9201\n"
          ]
        }
      ],
      "source": [
        "log = model.fit(x=x_train_arr, epochs=10, y=y_train_arr, batch_size = 32, validation_data=(x_test_arr, y_test_arr))"
      ]
    },
    {
      "cell_type": "code",
      "execution_count": null,
      "metadata": {
        "colab": {
          "base_uri": "https://localhost:8080/",
          "height": 683
        },
        "id": "5GIp4RUDYW5Z",
        "outputId": "11815726-2efb-46fc-d624-1f6b1634ad8e"
      },
      "outputs": [
        {
          "data": {
            "image/png": "[encoded data removed]",
            "text/plain": [
              "<Figure size 720x360 with 1 Axes>"
            ]
          },
          "metadata": {},
          "output_type": "display_data"
        },
        {
          "data": {
            "image/png": "[encoded data removed]",
            "text/plain": [
              "<Figure size 720x360 with 1 Axes>"
            ]
          },
          "metadata": {},
          "output_type": "display_data"
        }
      ],
      "source": [
        "plt.figure(figsize=(10, 5))\n",
        "plt.plot(log.history['accuracy'], label = 'Train')\n",
        "plt.plot(log.history['val_accuracy'], label = 'Validation')\n",
        "plt.title('Model Accuracy')\n",
        "plt.xlabel('Epoch')\n",
        "plt.ylabel('Accuracy')\n",
        "plt.legend()\n",
        "plt.show()\n",
        "\n",
        "plt.figure(figsize=(10, 5))\n",
        "plt.plot(log.history['loss'], label = 'Train')\n",
        "plt.plot(log.history['val_loss'], label = 'Validation')\n",
        "plt.title('Model Loss')\n",
        "plt.xlabel('Epoch')\n",
        "plt.ylabel('Loss')\n",
        "plt.legend()\n",
        "plt.show()"
      ]
    },
    {
      "cell_type": "code",
      "execution_count": null,
      "metadata": {
        "colab": {
          "base_uri": "https://localhost:8080/"
        },
        "id": "EkW22oaBYZX5",
        "outputId": "ef79d6ab-6ee2-463d-af7c-d8871a3ee060"
      },
      "outputs": [
        {
          "name": "stdout",
          "output_type": "stream",
          "text": [
            "2910/2910 [==============================] - 4s 1ms/step\n",
            "              precision    recall  f1-score   support\n",
            "\n",
            "           0       0.94      0.86      0.90      3456\n",
            "           1       0.85      0.84      0.85      2120\n",
            "           2       0.97      0.92      0.94      5951\n",
            "           3       0.94      0.73      0.82      2504\n",
            "           4       0.85      0.89      0.87      2803\n",
            "           5       0.75      0.93      0.83       284\n",
            "           6       0.89      0.73      0.80      1451\n",
            "           7       0.70      0.88      0.78      1818\n",
            "           8       0.94      0.83      0.88       300\n",
            "           9       0.81      0.85      0.83      2092\n",
            "          10       0.77      0.91      0.83      1421\n",
            "          11       0.96      0.96      0.96      2856\n",
            "          12       0.91      0.93      0.92      3063\n",
            "          13       0.92      0.90      0.91      4671\n",
            "          14       0.94      0.99      0.96     14598\n",
            "          15       0.97      0.95      0.96      4898\n",
            "          16       0.89      0.81      0.85      1475\n",
            "          17       0.92      0.85      0.88      2838\n",
            "          18       0.91      0.98      0.95     11969\n",
            "          19       0.98      0.94      0.96      5630\n",
            "          20       0.97      0.92      0.95      7285\n",
            "          21       0.91      0.97      0.94      1073\n",
            "          22       0.88      0.93      0.90      2722\n",
            "          23       0.94      0.85      0.89      1589\n",
            "          24       0.91      0.88      0.89      2718\n",
            "          25       0.94      0.89      0.91      1528\n",
            "\n",
            "    accuracy                           0.92     93113\n",
            "   macro avg       0.90      0.89      0.89     93113\n",
            "weighted avg       0.92      0.92      0.92     93113\n",
            "\n"
          ]
        }
      ],
      "source": [
        "x_test_pred = np.argmax(model.predict(x_test_arr, verbose = 1), axis = 1)\n",
        "rounded_labels=np.argmax(y_test_arr, axis=1)\n",
        "print(classification_report(rounded_labels, x_test_pred))"
      ]
    },
    {
      "cell_type": "markdown",
      "metadata": {
        "id": "Lfjp6vM2B3JI"
      },
      "source": [
        "As can be seen above, we achieved higher accuracy with Optimizer SGD, because\n",
        "ADAM-alike adaptive gradient algorithms suffer from worse generalization performance than SGD despite their faster training speed."
      ]
    },
    {
      "cell_type": "markdown",
      "metadata": {
        "id": "YM-HGMnlaLv1"
      },
      "source": [
        "# Part 2\n",
        "## impact of epoch"
      ]
    },
    {
      "cell_type": "markdown",
      "metadata": {
        "id": "z-Ryip0AawB7"
      },
      "source": [
        "### 1. epoch = 20"
      ]
    },
    {
      "cell_type": "code",
      "execution_count": null,
      "metadata": {
        "id": "UOasvosmpLmv"
      },
      "outputs": [],
      "source": [
        "model = tf.keras.Sequential()\n",
        "model.add(tf.keras.layers.Dense(20,input_dim=784, activation=tf.keras.layers.LeakyReLU(alpha=0.01)))\n",
        "model.add(tf.keras.layers.Dense(20, activation=tf.keras.layers.LeakyReLU(alpha=0.01)))\n",
        "model.add(tf.keras.layers.Dense(26,activation='softmax'))"
      ]
    },
    {
      "cell_type": "code",
      "execution_count": null,
      "metadata": {
        "id": "iFbzbUkjpLmx"
      },
      "outputs": [],
      "source": [
        "model.compile(optimizer=tf.keras.optimizers.Adam(), loss='categorical_crossentropy', metrics=['accuracy'])"
      ]
    },
    {
      "cell_type": "code",
      "execution_count": null,
      "metadata": {
        "colab": {
          "base_uri": "https://localhost:8080/"
        },
        "id": "2X97EUMMa2yB",
        "outputId": "366572d2-61e2-4bb4-95b9-96c940fa1560"
      },
      "outputs": [
        {
          "name": "stdout",
          "output_type": "stream",
          "text": [
            "Epoch 1/20\n",
            "8730/8730 [==============================] - 24s 3ms/step - loss: 0.9111 - accuracy: 0.7687 - val_loss: 0.5257 - val_accuracy: 0.8586\n",
            "Epoch 2/20\n",
            "8730/8730 [==============================] - 23s 3ms/step - loss: 0.4835 - accuracy: 0.8697 - val_loss: 0.4261 - val_accuracy: 0.8845\n",
            "Epoch 3/20\n",
            "8730/8730 [==============================] - 23s 3ms/step - loss: 0.4115 - accuracy: 0.8886 - val_loss: 0.3976 - val_accuracy: 0.8915\n",
            "Epoch 4/20\n",
            "8730/8730 [==============================] - 42s 5ms/step - loss: 0.3766 - accuracy: 0.8982 - val_loss: 0.3490 - val_accuracy: 0.9060\n",
            "Epoch 5/20\n",
            "8730/8730 [==============================] - 24s 3ms/step - loss: 0.3543 - accuracy: 0.9045 - val_loss: 0.3450 - val_accuracy: 0.9073\n",
            "Epoch 6/20\n",
            "8730/8730 [==============================] - 23s 3ms/step - loss: 0.3395 - accuracy: 0.9082 - val_loss: 0.3492 - val_accuracy: 0.9038\n",
            "Epoch 7/20\n",
            "8730/8730 [==============================] - 23s 3ms/step - loss: 0.3290 - accuracy: 0.9105 - val_loss: 0.3292 - val_accuracy: 0.9122\n",
            "Epoch 8/20\n",
            "8730/8730 [==============================] - 23s 3ms/step - loss: 0.3207 - accuracy: 0.9128 - val_loss: 0.3207 - val_accuracy: 0.9141\n",
            "Epoch 9/20\n",
            "8730/8730 [==============================] - 23s 3ms/step - loss: 0.3132 - accuracy: 0.9150 - val_loss: 0.3081 - val_accuracy: 0.9170\n",
            "Epoch 10/20\n",
            "8730/8730 [==============================] - 23s 3ms/step - loss: 0.3045 - accuracy: 0.9174 - val_loss: 0.3041 - val_accuracy: 0.9164\n",
            "Epoch 11/20\n",
            "8730/8730 [==============================] - 21s 2ms/step - loss: 0.2995 - accuracy: 0.9180 - val_loss: 0.2913 - val_accuracy: 0.9215\n",
            "Epoch 12/20\n",
            "8730/8730 [==============================] - 29s 3ms/step - loss: 0.2941 - accuracy: 0.9194 - val_loss: 0.2919 - val_accuracy: 0.9215\n",
            "Epoch 13/20\n",
            "8730/8730 [==============================] - 25s 3ms/step - loss: 0.2906 - accuracy: 0.9208 - val_loss: 0.3003 - val_accuracy: 0.9196\n",
            "Epoch 14/20\n",
            "8730/8730 [==============================] - 26s 3ms/step - loss: 0.2849 - accuracy: 0.9221 - val_loss: 0.3018 - val_accuracy: 0.9189\n",
            "Epoch 15/20\n",
            "8730/8730 [==============================] - 24s 3ms/step - loss: 0.2814 - accuracy: 0.9229 - val_loss: 0.3122 - val_accuracy: 0.9147\n",
            "Epoch 16/20\n",
            "8730/8730 [==============================] - 28s 3ms/step - loss: 0.2776 - accuracy: 0.9237 - val_loss: 0.2921 - val_accuracy: 0.9211\n",
            "Epoch 17/20\n",
            "8730/8730 [==============================] - 21s 2ms/step - loss: 0.2736 - accuracy: 0.9249 - val_loss: 0.2909 - val_accuracy: 0.9215\n",
            "Epoch 18/20\n",
            "8730/8730 [==============================] - 21s 2ms/step - loss: 0.2725 - accuracy: 0.9260 - val_loss: 0.2724 - val_accuracy: 0.9271\n",
            "Epoch 19/20\n",
            "8730/8730 [==============================] - 23s 3ms/step - loss: 0.2707 - accuracy: 0.9260 - val_loss: 0.2894 - val_accuracy: 0.9231\n",
            "Epoch 20/20\n",
            "8730/8730 [==============================] - 23s 3ms/step - loss: 0.2684 - accuracy: 0.9265 - val_loss: 0.2722 - val_accuracy: 0.9282\n"
          ]
        }
      ],
      "source": [
        "log = model.fit(x=x_train_arr, epochs=20, y=y_train_arr, batch_size = 32, validation_data=(x_test_arr, y_test_arr))"
      ]
    },
    {
      "cell_type": "code",
      "execution_count": null,
      "metadata": {
        "colab": {
          "base_uri": "https://localhost:8080/",
          "height": 683
        },
        "id": "Yev1ESmoclzj",
        "outputId": "c2c075c7-db1c-4432-fb88-dccae242e783"
      },
      "outputs": [
        {
          "data": {
            "image/png": "[encoded data removed]",
            "text/plain": [
              "<Figure size 720x360 with 1 Axes>"
            ]
          },
          "metadata": {},
          "output_type": "display_data"
        },
        {
          "data": {
            "image/png": "[encoded data removed]",
            "text/plain": [
              "<Figure size 720x360 with 1 Axes>"
            ]
          },
          "metadata": {},
          "output_type": "display_data"
        }
      ],
      "source": [
        "plt.figure(figsize=(10, 5))\n",
        "plt.plot(log.history['accuracy'], label = 'Train')\n",
        "plt.plot(log.history['val_accuracy'], label = 'Validation')\n",
        "plt.title('Model Accuracy')\n",
        "plt.xlabel('Epoch')\n",
        "plt.ylabel('Accuracy')\n",
        "plt.legend()\n",
        "plt.show()\n",
        "\n",
        "plt.figure(figsize=(10, 5))\n",
        "plt.plot(log.history['loss'], label = 'Train')\n",
        "plt.plot(log.history['val_loss'], label = 'Validation')\n",
        "plt.title('Model Loss')\n",
        "plt.xlabel('Epoch')\n",
        "plt.ylabel('Loss')\n",
        "plt.legend()\n",
        "plt.show()"
      ]
    },
    {
      "cell_type": "code",
      "execution_count": null,
      "metadata": {
        "colab": {
          "base_uri": "https://localhost:8080/"
        },
        "id": "WsOiCIvUcoKX",
        "outputId": "0b77601b-f39a-4e34-f730-7e20a6d7dff0"
      },
      "outputs": [
        {
          "name": "stdout",
          "output_type": "stream",
          "text": [
            "2910/2910 [==============================] - 4s 1ms/step\n",
            "              precision    recall  f1-score   support\n",
            "\n",
            "           0       0.90      0.90      0.90      3456\n",
            "           1       0.78      0.93      0.85      2120\n",
            "           2       0.94      0.96      0.95      5951\n",
            "           3       0.93      0.76      0.84      2504\n",
            "           4       0.92      0.87      0.89      2803\n",
            "           5       0.96      0.86      0.91       284\n",
            "           6       0.83      0.85      0.84      1451\n",
            "           7       0.77      0.88      0.82      1818\n",
            "           8       0.88      0.87      0.87       300\n",
            "           9       0.86      0.90      0.88      2092\n",
            "          10       0.89      0.82      0.85      1421\n",
            "          11       0.97      0.94      0.96      2856\n",
            "          12       0.91      0.94      0.92      3063\n",
            "          13       0.91      0.91      0.91      4671\n",
            "          14       0.95      0.98      0.96     14598\n",
            "          15       0.97      0.94      0.95      4898\n",
            "          16       0.88      0.77      0.82      1475\n",
            "          17       0.89      0.88      0.88      2838\n",
            "          18       0.99      0.96      0.97     11969\n",
            "          19       0.97      0.96      0.97      5630\n",
            "          20       0.95      0.94      0.94      7285\n",
            "          21       0.95      0.96      0.96      1073\n",
            "          22       0.90      0.90      0.90      2722\n",
            "          23       0.95      0.88      0.92      1589\n",
            "          24       0.87      0.92      0.89      2718\n",
            "          25       0.93      0.92      0.93      1528\n",
            "\n",
            "    accuracy                           0.93     93113\n",
            "   macro avg       0.91      0.90      0.90     93113\n",
            "weighted avg       0.93      0.93      0.93     93113\n",
            "\n"
          ]
        }
      ],
      "source": [
        "x_test_pred = np.argmax(model.predict(x_test_arr, verbose = 1), axis = 1)\n",
        "rounded_labels=np.argmax(y_test_arr, axis=1)\n",
        "print(classification_report(rounded_labels, x_test_pred))"
      ]
    },
    {
      "cell_type": "markdown",
      "metadata": {
        "id": "3sS9_UqWcqdr"
      },
      "source": [
        "### 2. some epochs?\n",
        "**Why multiple epochs are needed?** <br>\n",
        "Our main goal is to get good performance on our test data, this usually means taking more than one pass over the training data (it's typical that gradient descent doesn't reach a minimum after the first epoch).\n",
        "\n",
        "Now if performance on the training set improves while the performance on the hold-out data gets worse, overfitting happens, so prolonged training can cause overfitting. Training a model enough just means that the model gets better.\n",
        "\n",
        "Generally, we test our training data with different epoch sizes so that we can find the perfect size for our network in such a way that we reach better perfomance and overfitting doesn't happen.\n",
        "\n",
        "Note that it is a good practice to check multiple rounds of update (epochs) to estimate models, and this isn't limited to neural networks. Infact, this is common to all iterative model estimation procedures like logistic regression, SVM and gradient boosting.\n",
        "\n",
        "Additionally, and independent of any out-of-sample considerations, it's typical that an iterative optimizer like SGD doesn't reach a (global or local) minima after the first epoch because it cannot find the optimal parameters (weights) in one pass. <br> <br>\n"
      ]
    },
    {
      "cell_type": "markdown",
      "metadata": {
        "id": "P8SLyf1ecxLH"
      },
      "source": [
        "### 3. more epochs?\n",
        "**Is it always useful to use more ephochs in training? What are the solutions to deal with probable problems of encreasing epochs?** <br>\n",
        "No, because as the number of epochs increases, the same number of times weights are changed in the neural network and the boundary goes from underfitting to optimal to overfitting.<br>\n",
        "Solution: Early stopping is a method that allows us to specify an arbitrary large number of training epochs and stop training once the model performance stops improving on a hold out validation dataset. Actually we should set the number of epochs as high as possible and terminate the training when validation error starts increasing.\n",
        "\n",
        "\n",
        "If we set the number of epochs to a very large number, it may lead to have and overfitted model, because we train the data for many times and our model will start to model the noises in our data and it is a sign of overfitting and the accuracy of the test data will be reduced.\n",
        "\n"
      ]
    },
    {
      "cell_type": "markdown",
      "metadata": {
        "id": "UcnVCix9c10A"
      },
      "source": [
        "# Part 3\n",
        "## impact of loss function"
      ]
    },
    {
      "cell_type": "markdown",
      "metadata": {
        "id": "XHt19pnlc7no"
      },
      "source": [
        "### 1. MSE"
      ]
    },
    {
      "cell_type": "code",
      "execution_count": null,
      "metadata": {
        "id": "9sfa6fyCqbdN"
      },
      "outputs": [],
      "source": [
        "model = tf.keras.Sequential()\n",
        "model.add(tf.keras.layers.Dense(20,input_dim=784, activation=tf.keras.layers.LeakyReLU(alpha=0.01)))\n",
        "model.add(tf.keras.layers.Dense(20, activation=tf.keras.layers.LeakyReLU(alpha=0.01)))\n",
        "model.add(tf.keras.layers.Dense(26,activation='softmax'))"
      ]
    },
    {
      "cell_type": "code",
      "execution_count": null,
      "metadata": {
        "id": "pLiRxYGCqbdR"
      },
      "outputs": [],
      "source": [
        "model.compile(optimizer=tf.keras.optimizers.Adam(), loss='mean_squared_error', metrics=['accuracy'])"
      ]
    },
    {
      "cell_type": "code",
      "execution_count": null,
      "metadata": {
        "colab": {
          "base_uri": "https://localhost:8080/"
        },
        "id": "JGvr5Mq7qbdS",
        "outputId": "6b0ba3ab-bb38-4c6c-f62b-2f9c00cedf5d"
      },
      "outputs": [
        {
          "name": "stdout",
          "output_type": "stream",
          "text": [
            "Epoch 1/10\n",
            "8730/8730 [==============================] - 25s 3ms/step - loss: 0.0675 - accuracy: 0.1230 - val_loss: 0.0670 - val_accuracy: 0.1285\n",
            "Epoch 2/10\n",
            "8730/8730 [==============================] - 21s 2ms/step - loss: 0.0669 - accuracy: 0.1305 - val_loss: 0.0670 - val_accuracy: 0.1285\n",
            "Epoch 3/10\n",
            "8730/8730 [==============================] - 28s 3ms/step - loss: 0.0669 - accuracy: 0.1305 - val_loss: 0.0670 - val_accuracy: 0.1285\n",
            "Epoch 4/10\n",
            "8730/8730 [==============================] - 35s 4ms/step - loss: 0.0669 - accuracy: 0.1305 - val_loss: 0.0670 - val_accuracy: 0.1285\n",
            "Epoch 5/10\n",
            "8730/8730 [==============================] - 26s 3ms/step - loss: 0.0669 - accuracy: 0.1305 - val_loss: 0.0670 - val_accuracy: 0.1285\n",
            "Epoch 6/10\n",
            "8730/8730 [==============================] - 27s 3ms/step - loss: 0.0669 - accuracy: 0.1305 - val_loss: 0.0670 - val_accuracy: 0.1285\n",
            "Epoch 7/10\n",
            "8730/8730 [==============================] - 37s 4ms/step - loss: 0.0669 - accuracy: 0.1305 - val_loss: 0.0670 - val_accuracy: 0.1285\n",
            "Epoch 8/10\n",
            "8730/8730 [==============================] - 26s 3ms/step - loss: 0.0669 - accuracy: 0.1305 - val_loss: 0.0670 - val_accuracy: 0.1285\n",
            "Epoch 9/10\n",
            "8730/8730 [==============================] - 23s 3ms/step - loss: 0.0669 - accuracy: 0.1305 - val_loss: 0.0670 - val_accuracy: 0.1285\n",
            "Epoch 10/10\n",
            "8730/8730 [==============================] - 21s 2ms/step - loss: 0.0669 - accuracy: 0.1305 - val_loss: 0.0670 - val_accuracy: 0.1285\n"
          ]
        }
      ],
      "source": [
        "log = model.fit(x=x_train_arr, epochs=10, y=y_train_arr, batch_size = 32, validation_data=(x_test_arr, y_test_arr))"
      ]
    },
    {
      "cell_type": "code",
      "execution_count": null,
      "metadata": {
        "colab": {
          "base_uri": "https://localhost:8080/",
          "height": 683
        },
        "id": "uWCDRXqpqbdT",
        "outputId": "1fbb12c1-b469-4317-c423-0b2845c5a9cd"
      },
      "outputs": [
        {
          "data": {
            "image/png": "[encoded data removed]",
            "text/plain": [
              "<Figure size 720x360 with 1 Axes>"
            ]
          },
          "metadata": {},
          "output_type": "display_data"
        },
        {
          "data": {
            "image/png": "[encoded data removed]",
            "text/plain": [
              "<Figure size 720x360 with 1 Axes>"
            ]
          },
          "metadata": {},
          "output_type": "display_data"
        }
      ],
      "source": [
        "plt.figure(figsize=(10, 5))\n",
        "plt.plot(log.history['accuracy'], label = 'Train')\n",
        "plt.plot(log.history['val_accuracy'], label = 'Validation')\n",
        "plt.title('Model Accuracy')\n",
        "plt.xlabel('Epoch')\n",
        "plt.ylabel('Accuracy')\n",
        "plt.legend()\n",
        "plt.show()\n",
        "\n",
        "plt.figure(figsize=(10, 5))\n",
        "plt.plot(log.history['loss'], label = 'Train')\n",
        "plt.plot(log.history['val_loss'], label = 'Validation')\n",
        "plt.title('Model Loss')\n",
        "plt.xlabel('Epoch')\n",
        "plt.ylabel('Loss')\n",
        "plt.legend()\n",
        "plt.show()"
      ]
    },
    {
      "cell_type": "code",
      "execution_count": null,
      "metadata": {
        "colab": {
          "base_uri": "https://localhost:8080/"
        },
        "id": "hf4nAzY8qbdV",
        "outputId": "4c152bca-03c5-4f3f-cac6-d4c5ee9371e2"
      },
      "outputs": [
        {
          "name": "stdout",
          "output_type": "stream",
          "text": [
            "2910/2910 [==============================] - 4s 2ms/step\n",
            "              precision    recall  f1-score   support\n",
            "\n",
            "           0       0.00      0.00      0.00      3456\n",
            "           1       0.00      0.00      0.00      2120\n",
            "           2       0.00      0.00      0.00      5951\n",
            "           3       0.00      0.00      0.00      2504\n",
            "           4       0.00      0.00      0.00      2803\n",
            "           5       0.00      0.00      0.00       284\n",
            "           6       0.00      0.00      0.00      1451\n",
            "           7       0.00      0.00      0.00      1818\n",
            "           8       0.00      0.00      0.00       300\n",
            "           9       0.00      0.00      0.00      2092\n",
            "          10       0.00      0.00      0.00      1421\n",
            "          11       0.00      0.00      0.00      2856\n",
            "          12       0.00      0.00      0.00      3063\n",
            "          13       0.00      0.00      0.00      4671\n",
            "          14       0.00      0.00      0.00     14598\n",
            "          15       0.00      0.00      0.00      4898\n",
            "          16       0.00      0.00      0.00      1475\n",
            "          17       0.00      0.00      0.00      2838\n",
            "          18       0.13      1.00      0.23     11969\n",
            "          19       0.00      0.00      0.00      5630\n",
            "          20       0.00      0.00      0.00      7285\n",
            "          21       0.00      0.00      0.00      1073\n",
            "          22       0.00      0.00      0.00      2722\n",
            "          23       0.00      0.00      0.00      1589\n",
            "          24       0.00      0.00      0.00      2718\n",
            "          25       0.00      0.00      0.00      1528\n",
            "\n",
            "    accuracy                           0.13     93113\n",
            "   macro avg       0.00      0.04      0.01     93113\n",
            "weighted avg       0.02      0.13      0.03     93113\n",
            "\n"
          ]
        },
        {
          "name": "stderr",
          "output_type": "stream",
          "text": [
            "/usr/local/lib/python3.7/dist-packages/sklearn/metrics/_classification.py:1318: UndefinedMetricWarning: Precision and F-score are ill-defined and being set to 0.0 in labels with no predicted samples. Use `zero_division` parameter to control this behavior.\n",
            "  _warn_prf(average, modifier, msg_start, len(result))\n",
            "/usr/local/lib/python3.7/dist-packages/sklearn/metrics/_classification.py:1318: UndefinedMetricWarning: Precision and F-score are ill-defined and being set to 0.0 in labels with no predicted samples. Use `zero_division` parameter to control this behavior.\n",
            "  _warn_prf(average, modifier, msg_start, len(result))\n",
            "/usr/local/lib/python3.7/dist-packages/sklearn/metrics/_classification.py:1318: UndefinedMetricWarning: Precision and F-score are ill-defined and being set to 0.0 in labels with no predicted samples. Use `zero_division` parameter to control this behavior.\n",
            "  _warn_prf(average, modifier, msg_start, len(result))\n"
          ]
        }
      ],
      "source": [
        "x_test_pred = np.argmax(model.predict(x_test_arr, verbose = 1), axis = 1)\n",
        "rounded_labels=np.argmax(y_test_arr, axis=1)\n",
        "print(classification_report(rounded_labels, x_test_pred))"
      ]
    },
    {
      "cell_type": "markdown",
      "metadata": {
        "id": "W9R91B2b4C7T"
      },
      "source": [
        "As can be seen above, accuracy and loss are both fixed and stuck in local minima."
      ]
    },
    {
      "cell_type": "markdown",
      "metadata": {
        "id": "R5UQ1Z1Qt6ai"
      },
      "source": [
        "### 2. Why MSE is not proper for classification?\n",
        "Note that there are two main reasons why MSE isn't a good loss function for classification problems:\n",
        "\n",
        "Using MSE means that we assume that the underlying data has been generated from a normal distribution. In Bayesian terms this means we assume a Gaussian prior. While in reality, a dataset that can be classified into two categories is not from a normal distribution but a Bernoulli distribution. If we use maximum likelihood estimation, assuming that the data is from a normal distribution, we get the MSE as a Cost function for optimizing our model.\n",
        "\n",
        "The MSE function is non-convex for binary classification. In simple terms, if a binary classification model is trained with MSE Cost function, it is not guaranteed to minimize the Cost function. This is because MSE function expects real-valued inputs in range(-∞,∞ ), while binary classification models output probabilities in range(0,1) through the sigmoid/logistic function.\n",
        "\n",
        "\n",
        "**When to use mean squared error?** <br>\n",
        "MSE is a good choice for a Cost function when we are doing Linear Regression (i.e fitting a line through data for extrapolation). In the absence of any knowledge of how the data is distributed assuming normal/gaussian distribution is perfectly reasonable"
      ]
    },
    {
      "cell_type": "markdown",
      "metadata": {
        "id": "Tmjyplv0uCcI"
      },
      "source": [
        "# Part 4\n",
        "## Regularization"
      ]
    },
    {
      "cell_type": "markdown",
      "metadata": {
        "id": "AN71addkuMZI"
      },
      "source": [
        "### 1. L2 = 0.0001"
      ]
    },
    {
      "cell_type": "code",
      "execution_count": null,
      "metadata": {
        "id": "xuiKadACvGN_"
      },
      "outputs": [],
      "source": [
        "model = tf.keras.Sequential()\n",
        "model.add(tf.keras.layers.Dense(20,input_dim=784, activation=tf.keras.layers.LeakyReLU(alpha=0.01), kernel_regularizer=tf.keras.regularizers.l2(0.0001)))\n",
        "model.add(tf.keras.layers.Dense(20, activation=tf.keras.layers.LeakyReLU(alpha=0.01), kernel_regularizer=tf.keras.regularizers.l2(0.0001)))\n",
        "model.add(tf.keras.layers.Dense(26,activation='softmax', kernel_regularizer=tf.keras.regularizers.l2(0.0001)))"
      ]
    },
    {
      "cell_type": "code",
      "execution_count": null,
      "metadata": {
        "id": "V2Ko9dT0vGOB"
      },
      "outputs": [],
      "source": [
        "model.compile(optimizer=tf.keras.optimizers.Adam(), loss='categorical_crossentropy', metrics=['accuracy'])"
      ]
    },
    {
      "cell_type": "code",
      "execution_count": null,
      "metadata": {
        "colab": {
          "base_uri": "https://localhost:8080/"
        },
        "id": "2A3k1KS9vGOC",
        "outputId": "390aec80-0129-441b-baf3-3cea704533ff"
      },
      "outputs": [
        {
          "name": "stdout",
          "output_type": "stream",
          "text": [
            "Epoch 1/10\n",
            "8730/8730 [==============================] - 22s 2ms/step - loss: 1.0281 - accuracy: 0.7438 - val_loss: 0.5552 - val_accuracy: 0.8522\n",
            "Epoch 2/10\n",
            "8730/8730 [==============================] - 21s 2ms/step - loss: 0.5093 - accuracy: 0.8653 - val_loss: 0.4498 - val_accuracy: 0.8827\n",
            "Epoch 3/10\n",
            "8730/8730 [==============================] - 21s 2ms/step - loss: 0.4402 - accuracy: 0.8849 - val_loss: 0.4076 - val_accuracy: 0.8929\n",
            "Epoch 4/10\n",
            "8730/8730 [==============================] - 24s 3ms/step - loss: 0.3917 - accuracy: 0.8978 - val_loss: 0.3971 - val_accuracy: 0.8960\n",
            "Epoch 5/10\n",
            "8730/8730 [==============================] - 22s 3ms/step - loss: 0.3713 - accuracy: 0.9043 - val_loss: 0.3659 - val_accuracy: 0.9041\n",
            "Epoch 6/10\n",
            "8730/8730 [==============================] - 23s 3ms/step - loss: 0.3581 - accuracy: 0.9079 - val_loss: 0.3828 - val_accuracy: 0.9012\n",
            "Epoch 7/10\n",
            "8730/8730 [==============================] - 21s 2ms/step - loss: 0.3509 - accuracy: 0.9096 - val_loss: 0.3474 - val_accuracy: 0.9116\n",
            "Epoch 8/10\n",
            "8730/8730 [==============================] - 21s 2ms/step - loss: 0.3427 - accuracy: 0.9123 - val_loss: 0.3419 - val_accuracy: 0.9129\n",
            "Epoch 9/10\n",
            "8730/8730 [==============================] - 21s 2ms/step - loss: 0.3376 - accuracy: 0.9140 - val_loss: 0.3385 - val_accuracy: 0.9153\n",
            "Epoch 10/10\n",
            "8730/8730 [==============================] - 22s 3ms/step - loss: 0.3311 - accuracy: 0.9156 - val_loss: 0.3281 - val_accuracy: 0.9154\n"
          ]
        }
      ],
      "source": [
        "log = model.fit(x=x_train_arr, epochs=10, y=y_train_arr, batch_size = 32, validation_data=(x_test_arr, y_test_arr))"
      ]
    },
    {
      "cell_type": "code",
      "execution_count": null,
      "metadata": {
        "colab": {
          "base_uri": "https://localhost:8080/",
          "height": 683
        },
        "id": "8jXOHcF7vGOE",
        "outputId": "11d9da79-745d-4849-8cbe-fd1b194acbc9"
      },
      "outputs": [
        {
          "data": {
            "image/png": "[encoded data removed]",
            "text/plain": [
              "<Figure size 720x360 with 1 Axes>"
            ]
          },
          "metadata": {},
          "output_type": "display_data"
        },
        {
          "data": {
            "image/png": "[encoded data removed]",
            "text/plain": [
              "<Figure size 720x360 with 1 Axes>"
            ]
          },
          "metadata": {},
          "output_type": "display_data"
        }
      ],
      "source": [
        "plt.figure(figsize=(10, 5))\n",
        "plt.plot(log.history['accuracy'], label = 'Train')\n",
        "plt.plot(log.history['val_accuracy'], label = 'Validation')\n",
        "plt.title('Model Accuracy')\n",
        "plt.xlabel('Epoch')\n",
        "plt.ylabel('Accuracy')\n",
        "plt.legend()\n",
        "plt.show()\n",
        "\n",
        "plt.figure(figsize=(10, 5))\n",
        "plt.plot(log.history['loss'], label = 'Train')\n",
        "plt.plot(log.history['val_loss'], label = 'Validation')\n",
        "plt.title('Model Loss')\n",
        "plt.xlabel('Epoch')\n",
        "plt.ylabel('Loss')\n",
        "plt.legend()\n",
        "plt.show()"
      ]
    },
    {
      "cell_type": "code",
      "execution_count": null,
      "metadata": {
        "colab": {
          "base_uri": "https://localhost:8080/"
        },
        "id": "hl69q5T8vGOF",
        "outputId": "e9ff9dec-c0a0-4bd1-a319-061d5dfbf64a"
      },
      "outputs": [
        {
          "name": "stdout",
          "output_type": "stream",
          "text": [
            "2910/2910 [==============================] - 4s 1ms/step\n",
            "              precision    recall  f1-score   support\n",
            "\n",
            "           0       0.81      0.92      0.86      3456\n",
            "           1       0.84      0.86      0.85      2120\n",
            "           2       0.91      0.96      0.94      5951\n",
            "           3       0.91      0.77      0.84      2504\n",
            "           4       0.90      0.80      0.85      2803\n",
            "           5       0.84      0.89      0.86       284\n",
            "           6       0.82      0.82      0.82      1451\n",
            "           7       0.83      0.78      0.80      1818\n",
            "           8       0.92      0.72      0.81       300\n",
            "           9       0.84      0.84      0.84      2092\n",
            "          10       0.84      0.85      0.84      1421\n",
            "          11       0.95      0.94      0.94      2856\n",
            "          12       0.88      0.95      0.91      3063\n",
            "          13       0.91      0.86      0.88      4671\n",
            "          14       0.95      0.97      0.96     14598\n",
            "          15       0.95      0.94      0.94      4898\n",
            "          16       0.74      0.89      0.81      1475\n",
            "          17       0.95      0.73      0.82      2838\n",
            "          18       0.98      0.96      0.97     11969\n",
            "          19       0.94      0.97      0.96      5630\n",
            "          20       0.91      0.96      0.94      7285\n",
            "          21       0.91      0.95      0.93      1073\n",
            "          22       0.91      0.88      0.89      2722\n",
            "          23       0.93      0.86      0.89      1589\n",
            "          24       0.87      0.91      0.89      2718\n",
            "          25       0.94      0.89      0.92      1528\n",
            "\n",
            "    accuracy                           0.92     93113\n",
            "   macro avg       0.89      0.88      0.88     93113\n",
            "weighted avg       0.92      0.92      0.91     93113\n",
            "\n"
          ]
        }
      ],
      "source": [
        "x_test_pred = np.argmax(model.predict(x_test_arr, verbose = 1), axis = 1)\n",
        "rounded_labels=np.argmax(y_test_arr, axis=1)\n",
        "print(classification_report(rounded_labels, x_test_pred))"
      ]
    },
    {
      "cell_type": "markdown",
      "metadata": {
        "id": "aXIuB761X8bx"
      },
      "source": [
        "Weight regularization provides an approach to reduce the overfitting of a deep learning neural network model on the training data and improve the performance of the model on new data, such as the validation set.\n",
        "\n",
        "\n",
        "As can be seen, L2 Regularization causes that over time, the accuracy of training and validating data will not be much different and overfitting will be reduced. Validation data accuracy has also increased slightly.\n",
        "\n"
      ]
    },
    {
      "cell_type": "markdown",
      "metadata": {
        "id": "1FFjliSJuRD5"
      },
      "source": [
        "### 2. dropout = 0.1"
      ]
    },
    {
      "cell_type": "code",
      "execution_count": null,
      "metadata": {
        "id": "69DwMf9ivYdi"
      },
      "outputs": [],
      "source": [
        "model = tf.keras.Sequential()\n",
        "model.add(tf.keras.layers.Dense(20,input_dim=784, activation=tf.keras.layers.LeakyReLU(alpha=0.01)))\n",
        "model.add(tf.keras.layers.Dropout(0.1))\n",
        "model.add(tf.keras.layers.Dense(20, activation=tf.keras.layers.LeakyReLU(alpha=0.01)))\n",
        "model.add(tf.keras.layers.Dropout(0.1))\n",
        "model.add(tf.keras.layers.Dense(26,activation='softmax'))\n",
        "model.add(tf.keras.layers.Dropout(0.1))"
      ]
    },
    {
      "cell_type": "code",
      "execution_count": null,
      "metadata": {
        "id": "nYVXh2pyvYdj"
      },
      "outputs": [],
      "source": [
        "model.compile(optimizer=tf.keras.optimizers.Adam(), loss='categorical_crossentropy', metrics=['accuracy'])"
      ]
    },
    {
      "cell_type": "code",
      "execution_count": null,
      "metadata": {
        "colab": {
          "base_uri": "https://localhost:8080/"
        },
        "id": "oec8HXAdvYdj",
        "outputId": "6f55b940-5812-40d8-a667-d51126686eb9"
      },
      "outputs": [
        {
          "name": "stdout",
          "output_type": "stream",
          "text": [
            "Epoch 1/10\n",
            "8730/8730 [==============================] - 23s 3ms/step - loss: nan - accuracy: 0.0373 - val_loss: nan - val_accuracy: 0.0371\n",
            "Epoch 2/10\n",
            "8730/8730 [==============================] - 19s 2ms/step - loss: nan - accuracy: 0.0373 - val_loss: nan - val_accuracy: 0.0371\n",
            "Epoch 3/10\n",
            "8730/8730 [==============================] - 22s 2ms/step - loss: nan - accuracy: 0.0373 - val_loss: nan - val_accuracy: 0.0371\n",
            "Epoch 4/10\n",
            "8730/8730 [==============================] - 19s 2ms/step - loss: nan - accuracy: 0.0373 - val_loss: nan - val_accuracy: 0.0371\n",
            "Epoch 5/10\n",
            "8730/8730 [==============================] - 19s 2ms/step - loss: nan - accuracy: 0.0373 - val_loss: nan - val_accuracy: 0.0371\n",
            "Epoch 6/10\n",
            "8730/8730 [==============================] - 20s 2ms/step - loss: nan - accuracy: 0.0373 - val_loss: nan - val_accuracy: 0.0371\n",
            "Epoch 7/10\n",
            "8730/8730 [==============================] - 19s 2ms/step - loss: nan - accuracy: 0.0373 - val_loss: nan - val_accuracy: 0.0371\n",
            "Epoch 8/10\n",
            "8730/8730 [==============================] - 21s 2ms/step - loss: nan - accuracy: 0.0373 - val_loss: nan - val_accuracy: 0.0371\n",
            "Epoch 9/10\n",
            "8730/8730 [==============================] - 19s 2ms/step - loss: nan - accuracy: 0.0373 - val_loss: nan - val_accuracy: 0.0371\n",
            "Epoch 10/10\n",
            "8730/8730 [==============================] - 21s 2ms/step - loss: nan - accuracy: 0.0373 - val_loss: nan - val_accuracy: 0.0371\n"
          ]
        }
      ],
      "source": [
        "log = model.fit(x=x_train_arr, epochs=10, y=y_train_arr, batch_size = 32, validation_data=(x_test_arr, y_test_arr))"
      ]
    },
    {
      "cell_type": "code",
      "execution_count": null,
      "metadata": {
        "colab": {
          "base_uri": "https://localhost:8080/",
          "height": 683
        },
        "id": "QUIai9C2vYdk",
        "outputId": "e6a8aa9d-bf34-47cc-b010-f1fd6d571590"
      },
      "outputs": [
        {
          "data": {
            "image/png": "[encoded data removed]",
            "text/plain": [
              "<Figure size 720x360 with 1 Axes>"
            ]
          },
          "metadata": {},
          "output_type": "display_data"
        },
        {
          "data": {
            "image/png": "[encoded data removed]",
            "text/plain": [
              "<Figure size 720x360 with 1 Axes>"
            ]
          },
          "metadata": {},
          "output_type": "display_data"
        }
      ],
      "source": [
        "plt.figure(figsize=(10, 5))\n",
        "plt.plot(log.history['accuracy'], label = 'Train')\n",
        "plt.plot(log.history['val_accuracy'], label = 'Validation')\n",
        "plt.title('Model Accuracy')\n",
        "plt.xlabel('Epoch')\n",
        "plt.ylabel('Accuracy')\n",
        "plt.legend()\n",
        "plt.show()\n",
        "\n",
        "plt.figure(figsize=(10, 5))\n",
        "plt.plot(log.history['loss'], label = 'Train')\n",
        "plt.plot(log.history['val_loss'], label = 'Validation')\n",
        "plt.title('Model Loss')\n",
        "plt.xlabel('Epoch')\n",
        "plt.ylabel('Loss')\n",
        "plt.legend()\n",
        "plt.show()"
      ]
    },
    {
      "cell_type": "code",
      "execution_count": null,
      "metadata": {
        "colab": {
          "base_uri": "https://localhost:8080/"
        },
        "id": "DLfUovXuvYdk",
        "outputId": "1daa2703-af4b-4568-e858-1230f364c271"
      },
      "outputs": [
        {
          "name": "stdout",
          "output_type": "stream",
          "text": [
            "2910/2910 [==============================] - 4s 1ms/step\n",
            "              precision    recall  f1-score   support\n",
            "\n",
            "           0       0.04      1.00      0.07      3456\n",
            "           1       0.00      0.00      0.00      2120\n",
            "           2       0.00      0.00      0.00      5951\n",
            "           3       0.00      0.00      0.00      2504\n",
            "           4       0.00      0.00      0.00      2803\n",
            "           5       0.00      0.00      0.00       284\n",
            "           6       0.00      0.00      0.00      1451\n",
            "           7       0.00      0.00      0.00      1818\n",
            "           8       0.00      0.00      0.00       300\n",
            "           9       0.00      0.00      0.00      2092\n",
            "          10       0.00      0.00      0.00      1421\n",
            "          11       0.00      0.00      0.00      2856\n",
            "          12       0.00      0.00      0.00      3063\n",
            "          13       0.00      0.00      0.00      4671\n",
            "          14       0.00      0.00      0.00     14598\n",
            "          15       0.00      0.00      0.00      4898\n",
            "          16       0.00      0.00      0.00      1475\n",
            "          17       0.00      0.00      0.00      2838\n",
            "          18       0.00      0.00      0.00     11969\n",
            "          19       0.00      0.00      0.00      5630\n",
            "          20       0.00      0.00      0.00      7285\n",
            "          21       0.00      0.00      0.00      1073\n",
            "          22       0.00      0.00      0.00      2722\n",
            "          23       0.00      0.00      0.00      1589\n",
            "          24       0.00      0.00      0.00      2718\n",
            "          25       0.00      0.00      0.00      1528\n",
            "\n",
            "    accuracy                           0.04     93113\n",
            "   macro avg       0.00      0.04      0.00     93113\n",
            "weighted avg       0.00      0.04      0.00     93113\n",
            "\n"
          ]
        },
        {
          "name": "stderr",
          "output_type": "stream",
          "text": [
            "/usr/local/lib/python3.7/dist-packages/sklearn/metrics/_classification.py:1318: UndefinedMetricWarning: Precision and F-score are ill-defined and being set to 0.0 in labels with no predicted samples. Use `zero_division` parameter to control this behavior.\n",
            "  _warn_prf(average, modifier, msg_start, len(result))\n",
            "/usr/local/lib/python3.7/dist-packages/sklearn/metrics/_classification.py:1318: UndefinedMetricWarning: Precision and F-score are ill-defined and being set to 0.0 in labels with no predicted samples. Use `zero_division` parameter to control this behavior.\n",
            "  _warn_prf(average, modifier, msg_start, len(result))\n",
            "/usr/local/lib/python3.7/dist-packages/sklearn/metrics/_classification.py:1318: UndefinedMetricWarning: Precision and F-score are ill-defined and being set to 0.0 in labels with no predicted samples. Use `zero_division` parameter to control this behavior.\n",
            "  _warn_prf(average, modifier, msg_start, len(result))\n"
          ]
        }
      ],
      "source": [
        "x_test_pred = np.argmax(model.predict(x_test_arr, verbose = 1), axis = 1)\n",
        "rounded_labels=np.argmax(y_test_arr, axis=1)\n",
        "print(classification_report(rounded_labels, x_test_pred))"
      ]
    },
    {
      "cell_type": "code",
      "execution_count": null,
      "metadata": {
        "colab": {
          "base_uri": "https://localhost:8080/"
        },
        "id": "qWvsD_5E0Wqq",
        "outputId": "6cc2c77a-8b9d-4737-b785-e7d3972bdc3e"
      },
      "outputs": [
        {
          "name": "stdout",
          "output_type": "stream",
          "text": [
            "8730/8730 [==============================] - 15s 2ms/step\n"
          ]
        },
        {
          "name": "stderr",
          "output_type": "stream",
          "text": [
            "/usr/local/lib/python3.7/dist-packages/sklearn/metrics/_classification.py:1318: UndefinedMetricWarning: Precision and F-score are ill-defined and being set to 0.0 in labels with no predicted samples. Use `zero_division` parameter to control this behavior.\n",
            "  _warn_prf(average, modifier, msg_start, len(result))\n"
          ]
        },
        {
          "name": "stdout",
          "output_type": "stream",
          "text": [
            "              precision    recall  f1-score   support\n",
            "\n",
            "           0       0.04      1.00      0.07     10413\n",
            "           1       0.00      0.00      0.00      6548\n",
            "           2       0.00      0.00      0.00     17458\n",
            "           3       0.00      0.00      0.00      7630\n",
            "           4       0.00      0.00      0.00      8637\n",
            "           5       0.00      0.00      0.00       879\n",
            "           6       0.00      0.00      0.00      4311\n",
            "           7       0.00      0.00      0.00      5400\n",
            "           8       0.00      0.00      0.00       820\n",
            "           9       0.00      0.00      0.00      6401\n",
            "          10       0.00      0.00      0.00      4182\n",
            "          11       0.00      0.00      0.00      8730\n",
            "          12       0.00      0.00      0.00      9273\n",
            "          13       0.00      0.00      0.00     14339\n",
            "          14       0.00      0.00      0.00     43227\n",
            "          15       0.00      0.00      0.00     14443\n",
            "          16       0.00      0.00      0.00      4337\n",
            "          17       0.00      0.00      0.00      8728\n",
            "          18       0.00      0.00      0.00     36450\n",
            "          19       0.00      0.00      0.00     16865\n",
            "          20       0.00      0.00      0.00     21723\n",
            "          21       0.00      0.00      0.00      3109\n",
            "          22       0.00      0.00      0.00      8062\n",
            "          23       0.00      0.00      0.00      4683\n",
            "          24       0.00      0.00      0.00      8141\n",
            "          25       0.00      0.00      0.00      4548\n",
            "\n",
            "    accuracy                           0.04    279337\n",
            "   macro avg       0.00      0.04      0.00    279337\n",
            "weighted avg       0.00      0.04      0.00    279337\n",
            "\n"
          ]
        },
        {
          "name": "stderr",
          "output_type": "stream",
          "text": [
            "/usr/local/lib/python3.7/dist-packages/sklearn/metrics/_classification.py:1318: UndefinedMetricWarning: Precision and F-score are ill-defined and being set to 0.0 in labels with no predicted samples. Use `zero_division` parameter to control this behavior.\n",
            "  _warn_prf(average, modifier, msg_start, len(result))\n",
            "/usr/local/lib/python3.7/dist-packages/sklearn/metrics/_classification.py:1318: UndefinedMetricWarning: Precision and F-score are ill-defined and being set to 0.0 in labels with no predicted samples. Use `zero_division` parameter to control this behavior.\n",
            "  _warn_prf(average, modifier, msg_start, len(result))\n"
          ]
        }
      ],
      "source": [
        "x_train_pred = np.argmax(model.predict(x_train_arr, verbose = 1), axis = 1)\n",
        "rounded_labels=np.argmax(y_train_arr, axis=1)\n",
        "print(classification_report(rounded_labels, x_train_pred))"
      ]
    },
    {
      "cell_type": "markdown",
      "metadata": {
        "id": "vpXOd6HYYSc9"
      },
      "source": [
        "Dropout is a regularization method that approximates training a large number of neural networks with different architectures in parallel.\n",
        "During training, some number of layer outputs are randomly ignored or “dropped out.” This has the effect of making the layer look-like and be treated-like a layer with a different number of nodes and connectivity to the prior layer. In effect, each update to a layer during training is performed with a different “view” of the configured layer.\n",
        "Dropout has the effect of making the training process noisy, forcing nodes within a layer to probabilistically take on more or less responsibility for the inputs.\n",
        "\n",
        "Dropout is a regularization technique. You should use it only to reduce variance (validation performance vs training performance).It is not intended to reduce the bias, and you should not use it in this way. it is very misleading.\n",
        "\n",
        "there are several places when dropout can hurt performance.\n",
        "\n",
        "Right before the last layer. This is generally a bad place to apply dropout, because the network has no ability to \"correct\" errors induced by dropout before the classification happens. If I read correctly, you might have put dropout right before the softmax in the iris MLP.\n",
        "\n",
        "When the network is small relative to the dataset, regularization is usually unnecessary. If the model capacity is already low, lowering it further by adding regularization will hurt performance. I noticed most of your networks were relatively small and shallow.\n",
        "\n",
        "When training time is limited. It's unclear if this is the case here, but if you don't train until convergence, dropout may give worse results. Usually dropout hurts performance at the start of training, but results in the final ''converged'' error being lower. Therefore, if you don't plan to train until convergence, you may not want to use dropout"
      ]
    },
    {
      "cell_type": "code",
      "execution_count": null,
      "metadata": {
        "colab": {
          "background_save": true
        },
        "id": "V3ACF9zJcOTK",
        "outputId": "54489d72-cdb8-459d-8761-7cfcc33c4040"
      },
      "outputs": [
        {
          "name": "stdout",
          "output_type": "stream",
          "text": [
            "[NbConvertApp] Converting notebook /content/NeuralNetworkP2.ipynb to html\n",
            "[NbConvertApp] Writing 1104608 bytes to /content/NeuralNetworkP2.html\n"
          ]
        },
        {
          "data": {
            "text/plain": [
              ""
            ]
          },
          "execution_count": null,
          "metadata": {},
          "output_type": "execute_result"
        }
      ],
      "source": [
        "jupyter nbconvert --to html /PATH/TO/YOUR/NOTEBOOKFILE.ipynb\n"
      ]
    }
  ],
  "metadata": {
    "colab": {
      "provenance": []
    },
    "kernelspec": {
      "display_name": "Python 3",
      "name": "python3"
    },
    "language_info": {
      "name": "python"
    }
  },
  "nbformat": 4,
  "nbformat_minor": 0
}